{
 "cells": [
  {
   "cell_type": "markdown",
   "id": "b1ea69db-e363-4e21-8a83-5aa3bbef4819",
   "metadata": {
    "tags": []
   },
   "source": [
    "# Draft for Model + PCA (Smoothie King)\n",
    "\n",
    "RandomForestClassifier\n",
    "RandomForestClassifier + PCA\n",
    "Hierarchical Clustering\n",
    "Hierarchical Clustering + PCA"
   ]
  },
  {
   "cell_type": "code",
   "execution_count": null,
   "id": "1c3bc62a-b4ab-4d78-88b4-7a537a52910d",
   "metadata": {},
   "outputs": [],
   "source": [
    "import warnings\n",
    "warnings.simplefilter(action='ignore', category=FutureWarning)"
   ]
  },
  {
   "cell_type": "code",
   "execution_count": null,
   "id": "8c951a61-1987-4713-9d80-00423204e172",
   "metadata": {},
   "outputs": [],
   "source": [
    "import os\n",
    "import string\n",
    "import sys\n",
    "from collections import deque\n",
    "\n",
    "import matplotlib.pyplot as plt\n",
    "import numpy as np\n",
    "import pandas as pd\n",
    "\n",
    "import seaborn as sns\n",
    "from sklearn import datasets\n",
    "from sklearn.compose import ColumnTransformer, make_column_transformer\n",
    "from sklearn.dummy import DummyRegressor\n",
    "from sklearn.ensemble import RandomForestClassifier\n",
    "from sklearn.impute import SimpleImputer\n",
    "from sklearn.linear_model import Ridge\n",
    "from sklearn.model_selection import (\n",
    "    cross_val_score,\n",
    "    cross_validate,\n",
    "    train_test_split,\n",
    ")\n",
    "from sklearn.pipeline import Pipeline, make_pipeline\n",
    "from sklearn.preprocessing import OneHotEncoder, OrdinalEncoder, StandardScaler\n",
    "from sklearn.svm import SVR\n",
    "from sklearn.decomposition import PCA\n",
    "\n",
    "pd.reset_option('all')"
   ]
  },
  {
   "cell_type": "code",
   "execution_count": null,
   "id": "d78ac1ff-fadd-4b8d-9642-5dcfda630f28",
   "metadata": {},
   "outputs": [],
   "source": [
    "DIR = \"../../data/\"\n",
    "SMOOTHIE = \"Smoothie King/smoothie_king_\""
   ]
  },
  {
   "cell_type": "code",
   "execution_count": null,
   "id": "7edbb809-9855-40d4-afc1-2d5d2ea71cac",
   "metadata": {},
   "outputs": [],
   "source": [
    "smoothie_demographic = pd.read_csv(DIR + SMOOTHIE + \"demographic_variables.csv\")\n",
    "smoothie_stores = pd.read_csv(DIR + SMOOTHIE + \"stores.csv\")\n",
    "smoothie_poi_variables = pd.read_csv(DIR + SMOOTHIE + \"poi_variables.csv\")\n",
    "smoothie_sister = pd.read_csv(DIR + SMOOTHIE + \"competition_sister_variables.csv\")\n",
    "smoothie_trade_area = pd.read_csv(DIR + SMOOTHIE + \"trade_area_variables.csv\").rename(columns={\"store_num\": \"store\"})"
   ]
  },
  {
   "cell_type": "code",
   "execution_count": null,
   "id": "b957f846-e1d6-4c26-b614-ec7b05ba4de8",
   "metadata": {},
   "outputs": [],
   "source": [
    "smoothie_merged = smoothie_stores.merge(\n",
    "    smoothie_demographic, on=\"store\", how=\"outer\"\n",
    ").merge(\n",
    "    smoothie_poi_variables, on=\"store\", how=\"outer\"\n",
    ").merge(\n",
    "    smoothie_sister, on=\"store\", how=\"outer\"\n",
    ").merge(\n",
    "    smoothie_trade_area, on=\"store\", how=\"outer\"\n",
    ")\n",
    "smoothie_merged.to_csv(DIR + SMOOTHIE + \"merged.csv\")"
   ]
  },
  {
   "cell_type": "code",
   "execution_count": null,
   "id": "078f7eec-bd9b-4590-8ca0-3c3fccaa0f43",
   "metadata": {},
   "outputs": [],
   "source": [
    "train_df, test_df = train_test_split(smoothie_merged, test_size=0.1, random_state=42)\n",
    "X_train = train_df.drop(columns=[\"category\"])\n",
    "y_train = train_df[\"category\"]\n",
    "X_test = test_df.drop(columns=[\"category\"])\n",
    "y_test = test_df[\"category\"]"
   ]
  },
  {
   "cell_type": "code",
   "execution_count": null,
   "id": "c1e27f20-961f-42a2-bf90-8551b985bbc8",
   "metadata": {},
   "outputs": [],
   "source": [
    "drop_features = [\"store\", \"longitude\", \"latitude\", \"__store_latitude\"]\n",
    "ordinal_features_oth = [\n",
    "    \"market_size\",\n",
    "    \"store_density\",\n",
    "]\n",
    "ordering_ordinal_oth = [\n",
    "    [\"Very Large Metro (1)\", \"Large Metro (2)\", \"Large City (3)\", \"Medium City (4)\", \"Small City (5)\", \"Small Town (6)\"],\n",
    "    [\"Rural\", \"Exurban\", \"Suburban\", \"Light Suburban\", \"Light Urban\", \"Urban\", \"Super Urban\"],\n",
    "]\n",
    "categorical_features = [\"cbsa_name\", \"dma_name\", \"state_name\"]\n",
    "\n",
    "numeric_features = list(set(smoothie_merged.select_dtypes(include=np.number).columns.tolist()) - {\"longitude\", \"latitude\"})"
   ]
  },
  {
   "cell_type": "code",
   "execution_count": null,
   "id": "f2880460-2027-401f-9d9b-d90f76ed8ab3",
   "metadata": {},
   "outputs": [],
   "source": [
    "numeric_transformer = make_pipeline(\n",
    "    SimpleImputer(strategy=\"median\"), \n",
    "    StandardScaler()\n",
    ")\n",
    "\n",
    "ordinal_transformer_oth = make_pipeline(\n",
    "    SimpleImputer(strategy=\"most_frequent\"),\n",
    "    OrdinalEncoder(categories=ordering_ordinal_oth),\n",
    ")\n",
    "\n",
    "categorical_transformer = make_pipeline(\n",
    "    SimpleImputer(strategy=\"constant\", fill_value=\"missing\"),\n",
    "    OneHotEncoder(handle_unknown=\"ignore\", sparse=False),\n",
    ")\n",
    "\n",
    "preprocessor = make_column_transformer(\n",
    "    (\"drop\", drop_features),\n",
    "    (numeric_transformer, numeric_features),\n",
    "    (ordinal_transformer_oth, ordinal_features_oth),\n",
    "    (categorical_transformer, categorical_features),\n",
    ")"
   ]
  },
  {
   "cell_type": "code",
   "execution_count": null,
   "id": "78bb6020-a8fa-494d-987f-af9f799935c0",
   "metadata": {},
   "outputs": [],
   "source": [
    "preprocessor.fit(X_train)"
   ]
  },
  {
   "cell_type": "code",
   "execution_count": null,
   "id": "bdc349d9-c53b-4a32-9420-e7934546de98",
   "metadata": {},
   "outputs": [],
   "source": [
    "column_names = (\n",
    "    numeric_features\n",
    "    + preprocessor.named_transformers_['pipeline-2']['ordinalencoder'].get_feature_names_out().tolist()\n",
    "    + preprocessor.named_transformers_['pipeline-3']['onehotencoder'].get_feature_names_out().tolist()\n",
    ")\n",
    "len(column_names)"
   ]
  },
  {
   "cell_type": "code",
   "execution_count": null,
   "id": "4f80c839-3e2a-4a47-82d5-8eb962b95825",
   "metadata": {},
   "outputs": [],
   "source": [
    "preprocessor.named_transformers_['pipeline-3']['onehotencoder']"
   ]
  },
  {
   "cell_type": "code",
   "execution_count": null,
   "id": "658c7c68-0b47-46c1-b65c-1fbcd3f8f62a",
   "metadata": {},
   "outputs": [],
   "source": [
    "transformed_X = preprocessor.transform(X_train)\n",
    "# X_test_processed = preprocessor.transform(X_test)"
   ]
  },
  {
   "cell_type": "code",
   "execution_count": null,
   "id": "47619a3b-7611-4442-bf26-5c86086e6441",
   "metadata": {},
   "outputs": [],
   "source": [
    "transformed_X_df = pd.DataFrame(transformed_X, columns=column_names)\n",
    "transformed_X_df"
   ]
  },
  {
   "cell_type": "code",
   "execution_count": null,
   "id": "f42d1ddc-41ca-4c39-85a9-18b87d9bf3a4",
   "metadata": {},
   "outputs": [],
   "source": [
    "n_components = 70\n",
    "pca = PCA(n_components=n_components, whiten=True, random_state=42)\n",
    "pca.fit(transformed_X)"
   ]
  },
  {
   "cell_type": "code",
   "execution_count": null,
   "id": "681efb0e-746c-478e-95af-8f942af25a55",
   "metadata": {},
   "outputs": [],
   "source": [
    "df = pd.DataFrame(\n",
    "    data=np.cumsum(pca.explained_variance_ratio_),\n",
    "    columns=[\"cummulative variance_explained (%)\"],\n",
    "    index=range(1, n_components + 1),\n",
    ")\n",
    "df.index.name = \"n_components\""
   ]
  },
  {
   "cell_type": "code",
   "execution_count": null,
   "id": "7a1a9ad2-a413-4cba-b5f5-39b5abf8de4c",
   "metadata": {},
   "outputs": [],
   "source": [
    "plt.figure(figsize=(8, 6))\n",
    "plt.xticks(range(1, 71, 5))\n",
    "plt.xlabel(\"number of components\")\n",
    "plt.ylabel(\"cumulative explained variance ratio\")\n",
    "plt.plot(range(1, 71), np.cumsum(pca.explained_variance_ratio_))\n",
    "plt.grid()\n",
    "plt.show()"
   ]
  },
  {
   "cell_type": "code",
   "execution_count": null,
   "id": "af2bf3ee-c027-4d29-a526-8480159847db",
   "metadata": {},
   "outputs": [],
   "source": [
    "feature_names_out = pca.get_feature_names_out(column_names)\n",
    "feature_names_out"
   ]
  },
  {
   "cell_type": "code",
   "execution_count": null,
   "id": "3eae0170-b5ee-44a6-a44f-b241b5ce47e6",
   "metadata": {},
   "outputs": [],
   "source": [
    "transformed_features = pd.DataFrame(abs(pca.components_), columns=column_names, index=feature_names_out)\n",
    "transformed_features.head()"
   ]
  },
  {
   "cell_type": "markdown",
   "id": "df4268d9-2418-4f31-86ed-f5430396c4a9",
   "metadata": {},
   "source": [
    "### Try 1: Filter and Count Important Features (of heavy weights)\n",
    "\n",
    "Filter the values in the PCA component matrix, and count the occurrence of the features in the filtered matrix."
   ]
  },
  {
   "cell_type": "code",
   "execution_count": null,
   "id": "3f430ab4-c29b-46bc-b793-1e052dbfcfea",
   "metadata": {},
   "outputs": [],
   "source": [
    "pca0_df = transformed_features.iloc[0].sort_values(axis=0, ascending=True)\n",
    "pca0_df.filter(pca0_df > 0.01)"
   ]
  },
  {
   "cell_type": "code",
   "execution_count": null,
   "id": "87344fac-f6d7-4bb5-8ade-04c489bf6cf7",
   "metadata": {},
   "outputs": [],
   "source": [
    "W = abs(pca.components_)\n",
    "features = transformed_features.columns\n",
    "long_results = []\n",
    "for i in range(W.shape[0]):\n",
    "    array = W[i]\n",
    "    heavy_idx = np.where(array > 0.01)\n",
    "    long_results += list(features[heavy_idx])"
   ]
  },
  {
   "cell_type": "code",
   "execution_count": null,
   "id": "41a4798f-30ba-4bd9-978d-cbb433a27ac8",
   "metadata": {},
   "outputs": [],
   "source": [
    "count = pd.Series(long_results).value_counts()\n",
    "count[:20]"
   ]
  },
  {
   "cell_type": "markdown",
   "id": "f165fa1d-8f3e-4661-b428-d5b330c181df",
   "metadata": {
    "tags": []
   },
   "source": [
    "## Hierachical Clustering"
   ]
  },
  {
   "cell_type": "code",
   "execution_count": null,
   "id": "67905ffc-662d-43ba-9b20-3171c38a9c25",
   "metadata": {},
   "outputs": [],
   "source": [
    "from scipy.cluster.hierarchy import (\n",
    "    average,\n",
    "    complete,\n",
    "    dendrogram,\n",
    "    fcluster,\n",
    "    single,\n",
    "    ward,\n",
    ")"
   ]
  },
  {
   "cell_type": "code",
   "execution_count": null,
   "id": "0f315b85-1d5c-414f-bf7d-ff8953a7b2e9",
   "metadata": {},
   "outputs": [],
   "source": [
    "linkage_array = complete(transformed_X)\n",
    "hier_labels = fcluster(linkage_array, 5, criterion=\"maxclust\") \n",
    "# plot_dendrogram_clusters(X, linkage_array, hier_labels, linkage_type='complete', title=\"maxclust 3\")"
   ]
  },
  {
   "cell_type": "code",
   "execution_count": null,
   "id": "8a344a55-de5f-4e26-bda2-cc6b9386949b",
   "metadata": {},
   "outputs": [],
   "source": [
    "hier_labels"
   ]
  },
  {
   "cell_type": "markdown",
   "id": "9578b194-f900-4b9a-bf87-489403039119",
   "metadata": {
    "tags": []
   },
   "source": [
    "## PCA + Hierarchical Clustering"
   ]
  },
  {
   "cell_type": "code",
   "execution_count": null,
   "id": "7042f01c-370c-4dbe-940c-7319cd8473c1",
   "metadata": {},
   "outputs": [],
   "source": [
    "from scipy.cluster.hierarchy import (\n",
    "    average,\n",
    "    complete,\n",
    "    dendrogram,\n",
    "    fcluster,\n",
    "    single,\n",
    "    ward,\n",
    ")\n",
    "\n",
    "X = pca.transform(transformed_X)"
   ]
  },
  {
   "cell_type": "code",
   "execution_count": null,
   "id": "f4a2650e-6fe0-4887-a6c4-660f618d278a",
   "metadata": {},
   "outputs": [],
   "source": [
    "linkage_array = complete(X)\n",
    "hier_labels = fcluster(linkage_array, 5, criterion=\"maxclust\") \n",
    "# plot_dendrogram_clusters(X, linkage_array, hier_labels, linkage_type='complete', title=\"maxclust 3\")"
   ]
  },
  {
   "cell_type": "code",
   "execution_count": null,
   "id": "5906ea70-7d82-4e1c-bd7b-c5be0bb35005",
   "metadata": {},
   "outputs": [],
   "source": [
    "hier_labels"
   ]
  },
  {
   "cell_type": "code",
   "execution_count": null,
   "id": "75c93f06-00b2-4e73-8a89-be2072e33819",
   "metadata": {},
   "outputs": [],
   "source": [
    "y_train"
   ]
  },
  {
   "cell_type": "markdown",
   "id": "4fbab176-6ce5-47f1-ac3b-d230f6a71e32",
   "metadata": {},
   "source": [
    "## Random Forest Classifier"
   ]
  },
  {
   "cell_type": "code",
   "execution_count": null,
   "id": "718abe42-c630-4eca-a510-7f5152f7a807",
   "metadata": {},
   "outputs": [],
   "source": [
    "lr_pipe = make_pipeline(preprocessor, RandomForestClassifier(max_depth=50))\n",
    "scores = cross_validate(lr_pipe, X_train, y_train, return_train_score=True)\n",
    "pd.DataFrame(scores)"
   ]
  },
  {
   "cell_type": "code",
   "execution_count": null,
   "id": "33df2f42-926f-41e3-9975-c066ae8b6dd8",
   "metadata": {},
   "outputs": [],
   "source": [
    "from sklearn.model_selection import RandomizedSearchCV\n",
    "\n",
    "param_grid = {\n",
    "    \"randomforestclassifier__max_depth\": range(5, 30),\n",
    "}\n",
    "\n",
    "random_search = RandomizedSearchCV(\n",
    "    lr_pipe, param_distributions=param_grid, n_jobs=-1, n_iter=20, cv=5, random_state=42\n",
    ")\n",
    "random_search.fit(X_train, y_train)\n",
    "pd.DataFrame(random_search.cv_results_)[\n",
    "    [\n",
    "        \"mean_test_score\",\n",
    "        \"param_randomforestclassifier__max_depth\",\n",
    "        \"mean_fit_time\",\n",
    "        \"rank_test_score\",\n",
    "    ]\n",
    "].set_index(\"rank_test_score\").sort_index().T"
   ]
  },
  {
   "cell_type": "markdown",
   "id": "bf348b2d-7c91-4b18-84fe-b8e8018b6aae",
   "metadata": {},
   "source": [
    "## PCA + Random Forest Classifier"
   ]
  },
  {
   "cell_type": "code",
   "execution_count": null,
   "id": "a2a535ca-15da-41b7-a638-e8f02c22cd01",
   "metadata": {},
   "outputs": [],
   "source": [
    "from sklearn.decomposition import PCA\n",
    "\n",
    "\n",
    "lr_pca_pipe = make_pipeline(preprocessor, PCA(n_components=60, whiten=True, random_state=0), RandomForestClassifier(max_depth=20))\n",
    "scores = cross_validate(lr_pca_pipe, X_train, y_train, return_train_score=True)\n",
    "pd.DataFrame(scores)"
   ]
  },
  {
   "cell_type": "code",
   "execution_count": null,
   "id": "3e3c2075-4c63-410f-a832-f7efbb48079d",
   "metadata": {},
   "outputs": [],
   "source": [
    "from sklearn.model_selection import RandomizedSearchCV\n",
    "\n",
    "param_grid = {\n",
    "    \"pca__n_components\": range(10, 60),\n",
    "    \"randomforestclassifier__max_depth\": range(12, 30),\n",
    "}\n",
    "\n",
    "print(\"Grid size: %d\" % (np.prod(list(map(len, param_grid.values())))))\n",
    "param_grid"
   ]
  },
  {
   "cell_type": "code",
   "execution_count": null,
   "id": "46c8ece6-fc65-4ac8-8381-2ab14e5e72b3",
   "metadata": {},
   "outputs": [],
   "source": [
    "random_search = RandomizedSearchCV(\n",
    "    lr_pca_pipe, param_distributions=param_grid, n_jobs=-1, n_iter=20, cv=5, random_state=42\n",
    ")\n",
    "random_search.fit(X_train, y_train)"
   ]
  },
  {
   "cell_type": "code",
   "execution_count": null,
   "id": "2620a780-6677-4ba7-8f25-6c76beaa1487",
   "metadata": {},
   "outputs": [],
   "source": [
    "pd.DataFrame(random_search.cv_results_)[\n",
    "    [\n",
    "        \"mean_test_score\",\n",
    "        \"param_pca__n_components\",\n",
    "        \"param_randomforestclassifier__max_depth\",\n",
    "        \"mean_fit_time\",\n",
    "        \"rank_test_score\",\n",
    "    ]\n",
    "].set_index(\"rank_test_score\").sort_index().T"
   ]
  },
  {
   "cell_type": "code",
   "execution_count": null,
   "id": "f996839f-c1ca-430e-995a-2e11a84dd9c0",
   "metadata": {},
   "outputs": [],
   "source": []
  }
 ],
 "metadata": {
  "kernelspec": {
   "display_name": "Python 3 (ipykernel)",
   "language": "python",
   "name": "python3"
  },
  "language_info": {
   "codemirror_mode": {
    "name": "ipython",
    "version": 3
   },
   "file_extension": ".py",
   "mimetype": "text/x-python",
   "name": "python",
   "nbconvert_exporter": "python",
   "pygments_lexer": "ipython3",
   "version": "3.10.9"
  }
 },
 "nbformat": 4,
 "nbformat_minor": 5
}
