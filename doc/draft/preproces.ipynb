{
 "cells": [
  {
   "cell_type": "code",
   "execution_count": null,
   "id": "33006723-cc8d-476c-9de5-55d0b1e3ae3f",
   "metadata": {},
   "outputs": [],
   "source": [
    "import os\n",
    "import string\n",
    "import sys\n",
    "from collections import deque\n",
    "\n",
    "import matplotlib.pyplot as plt\n",
    "import numpy as np\n",
    "import pandas as pd\n",
    "\n",
    "import seaborn as sns\n",
    "from sklearn import datasets\n",
    "from sklearn.compose import ColumnTransformer, make_column_transformer\n",
    "from sklearn.dummy import DummyRegressor\n",
    "from sklearn.ensemble import RandomForestClassifier\n",
    "from sklearn.impute import SimpleImputer\n",
    "from sklearn.linear_model import Ridge\n",
    "from sklearn.model_selection import (\n",
    "    cross_val_score,\n",
    "    cross_validate,\n",
    "    train_test_split,\n",
    ")\n",
    "from sklearn.pipeline import Pipeline, make_pipeline\n",
    "from sklearn.preprocessing import OneHotEncoder, OrdinalEncoder, StandardScaler\n",
    "from sklearn.svm import SVR"
   ]
  },
  {
   "cell_type": "code",
   "execution_count": null,
   "id": "916c3b1d-6a71-4efb-8a67-5800c92e3a6a",
   "metadata": {},
   "outputs": [],
   "source": [
    "DIR = \"../../data/\"\n",
    "SMOOTHIE = \"Smoothie King/smoothie_king_\""
   ]
  },
  {
   "cell_type": "code",
   "execution_count": null,
   "id": "d95a9b0b-b9f5-4892-8acd-dc47eb706c32",
   "metadata": {},
   "outputs": [],
   "source": [
    "smoothie_demographic = pd.read_csv(DIR + SMOOTHIE + \"demographic_variables.csv\")\n",
    "smoothie_stores = pd.read_csv(DIR + SMOOTHIE + \"stores.csv\")\n",
    "smoothie_poi_variables = pd.read_csv(DIR + SMOOTHIE + \"poi_variables.csv\")\n",
    "smoothie_sister = pd.read_csv(DIR + SMOOTHIE + \"competition_sister_variables.csv\")\n",
    "smoothie_trade_area = pd.read_csv(DIR + SMOOTHIE + \"trade_area_variables.csv\")"
   ]
  },
  {
   "cell_type": "code",
   "execution_count": null,
   "id": "f4cb824e-e8c4-4a21-9dca-f05dd45a6ed3",
   "metadata": {},
   "outputs": [],
   "source": [
    "smoothie_merged = smoothie_stores.merge(\n",
    "    smoothie_demographic\n",
    ").merge(\n",
    "    smoothie_poi_variables\n",
    ").merge(\n",
    "    smoothie_sister\n",
    ").merge(\n",
    "    smoothie_trade_area\n",
    ")\n",
    "smoothie_merged.to_csv(DIR + SMOOTHIE + \"merged.csv\")"
   ]
  },
  {
   "cell_type": "code",
   "execution_count": null,
   "id": "78ac99fc-ba50-490b-bd13-7f2c0081f36e",
   "metadata": {},
   "outputs": [],
   "source": [
    "train_df, test_df = train_test_split(smoothie_merged, test_size=0.1, random_state=42)\n",
    "X_train = train_df.drop(columns=[\"category\"])\n",
    "y_train = train_df[\"category\"]\n",
    "X_test = test_df.drop(columns=[\"category\"])\n",
    "y_test = test_df[\"category\"]"
   ]
  },
  {
   "cell_type": "code",
   "execution_count": null,
   "id": "769abff6-23ee-47f3-9abe-76a73ec42ca3",
   "metadata": {},
   "outputs": [],
   "source": [
    "drop_features = [\"store\", \"longitude\", \"latitude\", \"__store_latitude\"]\n",
    "ordinal_features_oth = [\n",
    "    \"market_size\",\n",
    "    \"store_density\",\n",
    "]\n",
    "ordering_ordinal_oth = [\n",
    "    [\"Very Large Metro (1)\", \"Large Metro (2)\", \"Large City (3)\", \"Medium City (4)\", \"Small City (5)\", \"Small Town (6)\"],\n",
    "    [\"Rural\", \"Exurban\", \"Suburban\", \"Light Suburban\", \"Light Urban\", \"Urban\", \"Super Urban\"],\n",
    "]\n",
    "categorical_features = [\"cbsa_name\", \"dma_name\", \"state_name\"]\n",
    "\n",
    "numeric_features = list(set(smoothie_merged.select_dtypes(include=np.number).columns.tolist()) - {\"longitude\", \"latitude\"})"
   ]
  },
  {
   "cell_type": "code",
   "execution_count": null,
   "id": "95c1af3f-b336-413c-8888-0eb4e78410c8",
   "metadata": {},
   "outputs": [],
   "source": [
    "numeric_transformer = make_pipeline(\n",
    "    SimpleImputer(strategy=\"median\"), \n",
    "    StandardScaler()\n",
    ")\n",
    "\n",
    "ordinal_transformer_oth = make_pipeline(\n",
    "    SimpleImputer(strategy=\"most_frequent\"),\n",
    "    OrdinalEncoder(categories=ordering_ordinal_oth),\n",
    ")\n",
    "\n",
    "categorical_transformer = make_pipeline(\n",
    "    SimpleImputer(strategy=\"constant\", fill_value=\"missing\"),\n",
    "    OneHotEncoder(handle_unknown=\"ignore\", sparse=False),\n",
    ")\n",
    "\n",
    "preprocessor = make_column_transformer(\n",
    "    (\"drop\", drop_features),\n",
    "    (numeric_transformer, numeric_features),\n",
    "    (ordinal_transformer_oth, ordinal_features_oth),\n",
    "    (categorical_transformer, categorical_features),\n",
    ")"
   ]
  },
  {
   "cell_type": "code",
   "execution_count": null,
   "id": "deeb9f89-a8f1-4f52-9dc5-30c692036d4e",
   "metadata": {},
   "outputs": [],
   "source": [
    "preprocessor.fit(X_train)"
   ]
  },
  {
   "cell_type": "code",
   "execution_count": null,
   "id": "e0d461d2-eb07-4bef-9157-5f4ff337a092",
   "metadata": {},
   "outputs": [],
   "source": [
    "# X_train_processed = preprocessor.transform(X_train)\n",
    "# X_test_processed = preprocessor.transform(X_test)"
   ]
  }
 ],
 "metadata": {
  "kernelspec": {
   "display_name": "Python 3 (ipykernel)",
   "language": "python",
   "name": "python3"
  },
  "language_info": {
   "codemirror_mode": {
    "name": "ipython",
    "version": 3
   },
   "file_extension": ".py",
   "mimetype": "text/x-python",
   "name": "python",
   "nbconvert_exporter": "python",
   "pygments_lexer": "ipython3",
   "version": "3.10.9"
  }
 },
 "nbformat": 4,
 "nbformat_minor": 5
}
