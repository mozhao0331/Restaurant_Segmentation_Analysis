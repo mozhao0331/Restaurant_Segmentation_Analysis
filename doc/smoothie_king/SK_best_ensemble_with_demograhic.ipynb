{
 "cells": [
  {
   "cell_type": "code",
   "execution_count": 462,
   "id": "dd988e01-3981-47b7-b79d-e1f44dc178ee",
   "metadata": {},
   "outputs": [],
   "source": [
    "import pandas as pd\n",
    "import numpy as np\n",
    "import matplotlib.pyplot as plt\n",
    "from sklearn.impute import SimpleImputer\n",
    "from sklearn.linear_model import LogisticRegression\n",
    "from sklearn.model_selection import train_test_split\n",
    "from sklearn.pipeline import make_pipeline\n",
    "from sklearn.preprocessing import OneHotEncoder, OrdinalEncoder, StandardScaler, LabelEncoder\n",
    "from sklearn.compose import make_column_transformer\n",
    "from sklearn.multiclass import OneVsOneClassifier, OneVsRestClassifier\n",
    "from lightgbm.sklearn import LGBMClassifier\n",
    "from xgboost import XGBClassifier\n",
    "from sklearn.model_selection import RandomizedSearchCV, GridSearchCV\n",
    "from sklearn.ensemble import RandomForestClassifier, VotingClassifier, StackingClassifier\n",
    "from sklearn.svm import SVC\n",
    "# from catboost import CatBoostClassifier\n",
    "from sklearn.feature_selection import SelectFromModel\n",
    "\n",
    "from sklearn.linear_model import Lasso, Ridge\n",
    "\n",
    "import warnings\n",
    "warnings.filterwarnings(\"ignore\")"
   ]
  },
  {
   "attachments": {},
   "cell_type": "markdown",
   "id": "b13914e0",
   "metadata": {},
   "source": [
    "## Load Data"
   ]
  },
  {
   "cell_type": "code",
   "execution_count": 8,
   "id": "90e7917f-4582-4204-96a2-429b8df708bd",
   "metadata": {},
   "outputs": [
    {
     "data": {
      "text/html": [
       "<div>\n",
       "<style scoped>\n",
       "    .dataframe tbody tr th:only-of-type {\n",
       "        vertical-align: middle;\n",
       "    }\n",
       "\n",
       "    .dataframe tbody tr th {\n",
       "        vertical-align: top;\n",
       "    }\n",
       "\n",
       "    .dataframe thead th {\n",
       "        text-align: right;\n",
       "    }\n",
       "</style>\n",
       "<table border=\"1\" class=\"dataframe\">\n",
       "  <thead>\n",
       "    <tr style=\"text-align: right;\">\n",
       "      <th></th>\n",
       "      <th>store</th>\n",
       "      <th>longitude</th>\n",
       "      <th>latitude</th>\n",
       "      <th>category</th>\n",
       "      <th>cbsa_name</th>\n",
       "      <th>dma_name</th>\n",
       "      <th>state_name</th>\n",
       "      <th>market_size</th>\n",
       "      <th>store_density</th>\n",
       "      <th>age0018_p_ta</th>\n",
       "      <th>...</th>\n",
       "      <th>wealth_hhtotal_10mi</th>\n",
       "      <th>wealth_hhtotal_1mi</th>\n",
       "      <th>wealth_hhtotal_2mi</th>\n",
       "      <th>wealth_hhtotal_3mi</th>\n",
       "      <th>wealth_hhtotal_5mi</th>\n",
       "      <th>white_p_10mi</th>\n",
       "      <th>white_p_1mi</th>\n",
       "      <th>white_p_2mi</th>\n",
       "      <th>white_p_3mi</th>\n",
       "      <th>white_p_5mi</th>\n",
       "    </tr>\n",
       "  </thead>\n",
       "  <tbody>\n",
       "    <tr>\n",
       "      <th>0</th>\n",
       "      <td>SK 1504</td>\n",
       "      <td>-97.650392</td>\n",
       "      <td>30.519353</td>\n",
       "      <td>SHOPPING</td>\n",
       "      <td>Austin-Round Rock, TX</td>\n",
       "      <td>Austin, TX</td>\n",
       "      <td>Texas</td>\n",
       "      <td>Large Metro (2)</td>\n",
       "      <td>Light Suburban</td>\n",
       "      <td>0.2907</td>\n",
       "      <td>...</td>\n",
       "      <td>241941.0</td>\n",
       "      <td>4785.0</td>\n",
       "      <td>19470.0</td>\n",
       "      <td>36419.0</td>\n",
       "      <td>79913.0</td>\n",
       "      <td>0.5118</td>\n",
       "      <td>0.4940</td>\n",
       "      <td>0.4745</td>\n",
       "      <td>0.4848</td>\n",
       "      <td>0.4933</td>\n",
       "    </tr>\n",
       "    <tr>\n",
       "      <th>1</th>\n",
       "      <td>SK 0057</td>\n",
       "      <td>-88.171150</td>\n",
       "      <td>30.672501</td>\n",
       "      <td>SHOPPING</td>\n",
       "      <td>Mobile, AL</td>\n",
       "      <td>Mobile et al, AL-FL</td>\n",
       "      <td>Alabama</td>\n",
       "      <td>Medium City (4)</td>\n",
       "      <td>Light Suburban</td>\n",
       "      <td>0.2416</td>\n",
       "      <td>...</td>\n",
       "      <td>120338.0</td>\n",
       "      <td>3357.0</td>\n",
       "      <td>16102.0</td>\n",
       "      <td>31227.0</td>\n",
       "      <td>60385.0</td>\n",
       "      <td>0.5205</td>\n",
       "      <td>0.7086</td>\n",
       "      <td>0.6128</td>\n",
       "      <td>0.6007</td>\n",
       "      <td>0.5423</td>\n",
       "    </tr>\n",
       "    <tr>\n",
       "      <th>2</th>\n",
       "      <td>SK 1415</td>\n",
       "      <td>-90.535722</td>\n",
       "      <td>38.784250</td>\n",
       "      <td>HOME</td>\n",
       "      <td>St. Louis, MO-IL</td>\n",
       "      <td>St. Louis, MO</td>\n",
       "      <td>Missouri</td>\n",
       "      <td>Very Large Metro (1)</td>\n",
       "      <td>Light Suburban</td>\n",
       "      <td>0.2198</td>\n",
       "      <td>...</td>\n",
       "      <td>169964.0</td>\n",
       "      <td>6216.0</td>\n",
       "      <td>19220.0</td>\n",
       "      <td>37834.0</td>\n",
       "      <td>62074.0</td>\n",
       "      <td>0.8088</td>\n",
       "      <td>0.8246</td>\n",
       "      <td>0.8307</td>\n",
       "      <td>0.8399</td>\n",
       "      <td>0.8622</td>\n",
       "    </tr>\n",
       "    <tr>\n",
       "      <th>3</th>\n",
       "      <td>SK 1231</td>\n",
       "      <td>-80.134700</td>\n",
       "      <td>26.100737</td>\n",
       "      <td>TRAVEL</td>\n",
       "      <td>Miami-Fort Lauderdale et al, FL</td>\n",
       "      <td>Miami-Ft. Lauderdale, FL</td>\n",
       "      <td>Florida</td>\n",
       "      <td>Very Large Metro (1)</td>\n",
       "      <td>Suburban</td>\n",
       "      <td>0.2060</td>\n",
       "      <td>...</td>\n",
       "      <td>422361.0</td>\n",
       "      <td>5996.0</td>\n",
       "      <td>28419.0</td>\n",
       "      <td>47104.0</td>\n",
       "      <td>104492.0</td>\n",
       "      <td>0.3940</td>\n",
       "      <td>0.6687</td>\n",
       "      <td>0.6887</td>\n",
       "      <td>0.5651</td>\n",
       "      <td>0.4456</td>\n",
       "    </tr>\n",
       "    <tr>\n",
       "      <th>4</th>\n",
       "      <td>SK 1535</td>\n",
       "      <td>-96.856651</td>\n",
       "      <td>32.996408</td>\n",
       "      <td>WORK</td>\n",
       "      <td>Dallas-Fort Worth-Arlington, TX</td>\n",
       "      <td>Dallas-Ft. Worth, TX</td>\n",
       "      <td>Texas</td>\n",
       "      <td>Very Large Metro (1)</td>\n",
       "      <td>Light Suburban</td>\n",
       "      <td>0.2866</td>\n",
       "      <td>...</td>\n",
       "      <td>479049.0</td>\n",
       "      <td>15491.0</td>\n",
       "      <td>37406.0</td>\n",
       "      <td>64597.0</td>\n",
       "      <td>154192.0</td>\n",
       "      <td>0.4906</td>\n",
       "      <td>0.3683</td>\n",
       "      <td>0.4413</td>\n",
       "      <td>0.4877</td>\n",
       "      <td>0.4822</td>\n",
       "    </tr>\n",
       "    <tr>\n",
       "      <th>...</th>\n",
       "      <td>...</td>\n",
       "      <td>...</td>\n",
       "      <td>...</td>\n",
       "      <td>...</td>\n",
       "      <td>...</td>\n",
       "      <td>...</td>\n",
       "      <td>...</td>\n",
       "      <td>...</td>\n",
       "      <td>...</td>\n",
       "      <td>...</td>\n",
       "      <td>...</td>\n",
       "      <td>...</td>\n",
       "      <td>...</td>\n",
       "      <td>...</td>\n",
       "      <td>...</td>\n",
       "      <td>...</td>\n",
       "      <td>...</td>\n",
       "      <td>...</td>\n",
       "      <td>...</td>\n",
       "      <td>...</td>\n",
       "      <td>...</td>\n",
       "    </tr>\n",
       "    <tr>\n",
       "      <th>791</th>\n",
       "      <td>SK 1536</td>\n",
       "      <td>-96.872596</td>\n",
       "      <td>32.647809</td>\n",
       "      <td>HOME</td>\n",
       "      <td>Dallas-Fort Worth-Arlington, TX</td>\n",
       "      <td>Dallas-Ft. Worth, TX</td>\n",
       "      <td>Texas</td>\n",
       "      <td>Very Large Metro (1)</td>\n",
       "      <td>Exurban</td>\n",
       "      <td>0.2745</td>\n",
       "      <td>...</td>\n",
       "      <td>231740.0</td>\n",
       "      <td>4972.0</td>\n",
       "      <td>13427.0</td>\n",
       "      <td>31174.0</td>\n",
       "      <td>80875.0</td>\n",
       "      <td>0.1615</td>\n",
       "      <td>0.0518</td>\n",
       "      <td>0.1095</td>\n",
       "      <td>0.1357</td>\n",
       "      <td>0.1291</td>\n",
       "    </tr>\n",
       "    <tr>\n",
       "      <th>792</th>\n",
       "      <td>SK 1886</td>\n",
       "      <td>-105.077634</td>\n",
       "      <td>40.564695</td>\n",
       "      <td>OTHER</td>\n",
       "      <td>Fort Collins, CO</td>\n",
       "      <td>Denver, CO</td>\n",
       "      <td>Colorado</td>\n",
       "      <td>Medium City (4)</td>\n",
       "      <td>Light Suburban</td>\n",
       "      <td>0.2083</td>\n",
       "      <td>...</td>\n",
       "      <td>102970.0</td>\n",
       "      <td>5387.0</td>\n",
       "      <td>25743.0</td>\n",
       "      <td>47572.0</td>\n",
       "      <td>70570.0</td>\n",
       "      <td>0.8203</td>\n",
       "      <td>0.8247</td>\n",
       "      <td>0.8233</td>\n",
       "      <td>0.8060</td>\n",
       "      <td>0.8004</td>\n",
       "    </tr>\n",
       "    <tr>\n",
       "      <th>793</th>\n",
       "      <td>SK 0162</td>\n",
       "      <td>-95.478001</td>\n",
       "      <td>30.316531</td>\n",
       "      <td>SHOPPING</td>\n",
       "      <td>Houston-The Woodlands et al, TX</td>\n",
       "      <td>Houston, TX</td>\n",
       "      <td>Texas</td>\n",
       "      <td>Very Large Metro (1)</td>\n",
       "      <td>Exurban</td>\n",
       "      <td>0.2730</td>\n",
       "      <td>...</td>\n",
       "      <td>103313.0</td>\n",
       "      <td>3105.0</td>\n",
       "      <td>12138.0</td>\n",
       "      <td>20657.0</td>\n",
       "      <td>35348.0</td>\n",
       "      <td>0.6788</td>\n",
       "      <td>0.6116</td>\n",
       "      <td>0.4522</td>\n",
       "      <td>0.4567</td>\n",
       "      <td>0.5694</td>\n",
       "    </tr>\n",
       "    <tr>\n",
       "      <th>794</th>\n",
       "      <td>SK 1449</td>\n",
       "      <td>-78.968258</td>\n",
       "      <td>35.064994</td>\n",
       "      <td>SHOPPING</td>\n",
       "      <td>Fayetteville, NC</td>\n",
       "      <td>Raleigh et al, NC</td>\n",
       "      <td>North Carolina</td>\n",
       "      <td>Medium City (4)</td>\n",
       "      <td>Exurban</td>\n",
       "      <td>0.2624</td>\n",
       "      <td>...</td>\n",
       "      <td>119859.0</td>\n",
       "      <td>3274.0</td>\n",
       "      <td>14426.0</td>\n",
       "      <td>31451.0</td>\n",
       "      <td>63792.0</td>\n",
       "      <td>0.4147</td>\n",
       "      <td>0.3955</td>\n",
       "      <td>0.3864</td>\n",
       "      <td>0.3822</td>\n",
       "      <td>0.3765</td>\n",
       "    </tr>\n",
       "    <tr>\n",
       "      <th>795</th>\n",
       "      <td>SK 1351</td>\n",
       "      <td>-98.605570</td>\n",
       "      <td>29.616600</td>\n",
       "      <td>HOME</td>\n",
       "      <td>San Antonio-New Braunfels, TX</td>\n",
       "      <td>San Antonio, TX</td>\n",
       "      <td>Texas</td>\n",
       "      <td>Very Large Metro (1)</td>\n",
       "      <td>Exurban</td>\n",
       "      <td>0.2431</td>\n",
       "      <td>...</td>\n",
       "      <td>259471.0</td>\n",
       "      <td>1316.0</td>\n",
       "      <td>7565.0</td>\n",
       "      <td>16107.0</td>\n",
       "      <td>51812.0</td>\n",
       "      <td>0.4187</td>\n",
       "      <td>0.4932</td>\n",
       "      <td>0.4555</td>\n",
       "      <td>0.4278</td>\n",
       "      <td>0.4553</td>\n",
       "    </tr>\n",
       "  </tbody>\n",
       "</table>\n",
       "<p>796 rows × 927 columns</p>\n",
       "</div>"
      ],
      "text/plain": [
       "       store   longitude   latitude  category  \\\n",
       "0    SK 1504  -97.650392  30.519353  SHOPPING   \n",
       "1    SK 0057  -88.171150  30.672501  SHOPPING   \n",
       "2    SK 1415  -90.535722  38.784250      HOME   \n",
       "3    SK 1231  -80.134700  26.100737    TRAVEL   \n",
       "4    SK 1535  -96.856651  32.996408      WORK   \n",
       "..       ...         ...        ...       ...   \n",
       "791  SK 1536  -96.872596  32.647809      HOME   \n",
       "792  SK 1886 -105.077634  40.564695     OTHER   \n",
       "793  SK 0162  -95.478001  30.316531  SHOPPING   \n",
       "794  SK 1449  -78.968258  35.064994  SHOPPING   \n",
       "795  SK 1351  -98.605570  29.616600      HOME   \n",
       "\n",
       "                           cbsa_name                  dma_name  \\\n",
       "0              Austin-Round Rock, TX                Austin, TX   \n",
       "1                         Mobile, AL       Mobile et al, AL-FL   \n",
       "2                   St. Louis, MO-IL             St. Louis, MO   \n",
       "3    Miami-Fort Lauderdale et al, FL  Miami-Ft. Lauderdale, FL   \n",
       "4    Dallas-Fort Worth-Arlington, TX      Dallas-Ft. Worth, TX   \n",
       "..                               ...                       ...   \n",
       "791  Dallas-Fort Worth-Arlington, TX      Dallas-Ft. Worth, TX   \n",
       "792                 Fort Collins, CO                Denver, CO   \n",
       "793  Houston-The Woodlands et al, TX               Houston, TX   \n",
       "794                 Fayetteville, NC         Raleigh et al, NC   \n",
       "795    San Antonio-New Braunfels, TX           San Antonio, TX   \n",
       "\n",
       "         state_name           market_size   store_density  age0018_p_ta  ...  \\\n",
       "0             Texas       Large Metro (2)  Light Suburban        0.2907  ...   \n",
       "1           Alabama       Medium City (4)  Light Suburban        0.2416  ...   \n",
       "2          Missouri  Very Large Metro (1)  Light Suburban        0.2198  ...   \n",
       "3           Florida  Very Large Metro (1)        Suburban        0.2060  ...   \n",
       "4             Texas  Very Large Metro (1)  Light Suburban        0.2866  ...   \n",
       "..              ...                   ...             ...           ...  ...   \n",
       "791           Texas  Very Large Metro (1)         Exurban        0.2745  ...   \n",
       "792        Colorado       Medium City (4)  Light Suburban        0.2083  ...   \n",
       "793           Texas  Very Large Metro (1)         Exurban        0.2730  ...   \n",
       "794  North Carolina       Medium City (4)         Exurban        0.2624  ...   \n",
       "795           Texas  Very Large Metro (1)         Exurban        0.2431  ...   \n",
       "\n",
       "     wealth_hhtotal_10mi  wealth_hhtotal_1mi  wealth_hhtotal_2mi  \\\n",
       "0               241941.0              4785.0             19470.0   \n",
       "1               120338.0              3357.0             16102.0   \n",
       "2               169964.0              6216.0             19220.0   \n",
       "3               422361.0              5996.0             28419.0   \n",
       "4               479049.0             15491.0             37406.0   \n",
       "..                   ...                 ...                 ...   \n",
       "791             231740.0              4972.0             13427.0   \n",
       "792             102970.0              5387.0             25743.0   \n",
       "793             103313.0              3105.0             12138.0   \n",
       "794             119859.0              3274.0             14426.0   \n",
       "795             259471.0              1316.0              7565.0   \n",
       "\n",
       "     wealth_hhtotal_3mi  wealth_hhtotal_5mi  white_p_10mi  white_p_1mi  \\\n",
       "0               36419.0             79913.0        0.5118       0.4940   \n",
       "1               31227.0             60385.0        0.5205       0.7086   \n",
       "2               37834.0             62074.0        0.8088       0.8246   \n",
       "3               47104.0            104492.0        0.3940       0.6687   \n",
       "4               64597.0            154192.0        0.4906       0.3683   \n",
       "..                  ...                 ...           ...          ...   \n",
       "791             31174.0             80875.0        0.1615       0.0518   \n",
       "792             47572.0             70570.0        0.8203       0.8247   \n",
       "793             20657.0             35348.0        0.6788       0.6116   \n",
       "794             31451.0             63792.0        0.4147       0.3955   \n",
       "795             16107.0             51812.0        0.4187       0.4932   \n",
       "\n",
       "     white_p_2mi  white_p_3mi  white_p_5mi  \n",
       "0         0.4745       0.4848       0.4933  \n",
       "1         0.6128       0.6007       0.5423  \n",
       "2         0.8307       0.8399       0.8622  \n",
       "3         0.6887       0.5651       0.4456  \n",
       "4         0.4413       0.4877       0.4822  \n",
       "..           ...          ...          ...  \n",
       "791       0.1095       0.1357       0.1291  \n",
       "792       0.8233       0.8060       0.8004  \n",
       "793       0.4522       0.4567       0.5694  \n",
       "794       0.3864       0.3822       0.3765  \n",
       "795       0.4555       0.4278       0.4553  \n",
       "\n",
       "[796 rows x 927 columns]"
      ]
     },
     "execution_count": 8,
     "metadata": {},
     "output_type": "execute_result"
    }
   ],
   "source": [
    "trade_area = pd.read_csv(\"../../data/Smoothie King/smoothie_king_trade_area_variables.csv\")\n",
    "stores = pd.read_csv('../../data/Smoothie King/smoothie_king_stores.csv')\n",
    "\n",
    "processed_demographic = pd.read_csv('../../data/Smoothie King/processed_demographic.csv')\n",
    "processed_poi = pd.read_csv('../../data/Smoothie King/processed_poi.csv')\n",
    "processed_trade_area = pd.read_csv(\"../../data/Smoothie King/processed_trade_area.csv\")\n",
    "\n",
    "merged = stores.merge(processed_trade_area, left_on=\"store\", right_on=\"store_num\").merge(processed_poi)\n",
    "merged = merged.drop(columns=[\"store_num\", \"country_code\"])\n",
    "merged = merged.merge(processed_demographic, on='store')\n",
    "merged"
   ]
  },
  {
   "cell_type": "code",
   "execution_count": 9,
   "id": "5920d81f-4452-4296-9f4d-eee53d7fba37",
   "metadata": {},
   "outputs": [],
   "source": [
    "merged = merged.drop(columns=[\"store\", \"longitude\", \"latitude\", \"state_name\", \"cbsa_name\", \"dma_name\"])\n",
    "merged = merged.dropna()"
   ]
  },
  {
   "cell_type": "code",
   "execution_count": 10,
   "id": "7094bd3a-4838-45e3-bb61-2ca4ff62f477",
   "metadata": {},
   "outputs": [
    {
     "data": {
      "text/html": [
       "<div>\n",
       "<style scoped>\n",
       "    .dataframe tbody tr th:only-of-type {\n",
       "        vertical-align: middle;\n",
       "    }\n",
       "\n",
       "    .dataframe tbody tr th {\n",
       "        vertical-align: top;\n",
       "    }\n",
       "\n",
       "    .dataframe thead th {\n",
       "        text-align: right;\n",
       "    }\n",
       "</style>\n",
       "<table border=\"1\" class=\"dataframe\">\n",
       "  <thead>\n",
       "    <tr style=\"text-align: right;\">\n",
       "      <th></th>\n",
       "      <th>category</th>\n",
       "      <th>market_size</th>\n",
       "      <th>store_density</th>\n",
       "      <th>age0018_p_ta</th>\n",
       "      <th>age65pl_p_ta</th>\n",
       "      <th>age85pl_p_ta</th>\n",
       "      <th>asian_p_ta</th>\n",
       "      <th>avg_faminc_ta</th>\n",
       "      <th>avghhinc_ta</th>\n",
       "      <th>black_p_ta</th>\n",
       "      <th>...</th>\n",
       "      <th>wealth_hhtotal_10mi</th>\n",
       "      <th>wealth_hhtotal_1mi</th>\n",
       "      <th>wealth_hhtotal_2mi</th>\n",
       "      <th>wealth_hhtotal_3mi</th>\n",
       "      <th>wealth_hhtotal_5mi</th>\n",
       "      <th>white_p_10mi</th>\n",
       "      <th>white_p_1mi</th>\n",
       "      <th>white_p_2mi</th>\n",
       "      <th>white_p_3mi</th>\n",
       "      <th>white_p_5mi</th>\n",
       "    </tr>\n",
       "  </thead>\n",
       "  <tbody>\n",
       "    <tr>\n",
       "      <th>0</th>\n",
       "      <td>2</td>\n",
       "      <td>Large Metro (2)</td>\n",
       "      <td>Light Suburban</td>\n",
       "      <td>0.2907</td>\n",
       "      <td>0.0909</td>\n",
       "      <td>0.0050</td>\n",
       "      <td>0.0555</td>\n",
       "      <td>108837.0</td>\n",
       "      <td>106093.0</td>\n",
       "      <td>0.0985</td>\n",
       "      <td>...</td>\n",
       "      <td>241941.0</td>\n",
       "      <td>4785.0</td>\n",
       "      <td>19470.0</td>\n",
       "      <td>36419.0</td>\n",
       "      <td>79913.0</td>\n",
       "      <td>0.5118</td>\n",
       "      <td>0.4940</td>\n",
       "      <td>0.4745</td>\n",
       "      <td>0.4848</td>\n",
       "      <td>0.4933</td>\n",
       "    </tr>\n",
       "    <tr>\n",
       "      <th>1</th>\n",
       "      <td>2</td>\n",
       "      <td>Medium City (4)</td>\n",
       "      <td>Light Suburban</td>\n",
       "      <td>0.2416</td>\n",
       "      <td>0.1537</td>\n",
       "      <td>0.0134</td>\n",
       "      <td>0.0327</td>\n",
       "      <td>80752.0</td>\n",
       "      <td>70536.0</td>\n",
       "      <td>0.3890</td>\n",
       "      <td>...</td>\n",
       "      <td>120338.0</td>\n",
       "      <td>3357.0</td>\n",
       "      <td>16102.0</td>\n",
       "      <td>31227.0</td>\n",
       "      <td>60385.0</td>\n",
       "      <td>0.5205</td>\n",
       "      <td>0.7086</td>\n",
       "      <td>0.6128</td>\n",
       "      <td>0.6007</td>\n",
       "      <td>0.5423</td>\n",
       "    </tr>\n",
       "    <tr>\n",
       "      <th>2</th>\n",
       "      <td>0</td>\n",
       "      <td>Very Large Metro (1)</td>\n",
       "      <td>Light Suburban</td>\n",
       "      <td>0.2198</td>\n",
       "      <td>0.1926</td>\n",
       "      <td>0.0147</td>\n",
       "      <td>0.0235</td>\n",
       "      <td>106893.0</td>\n",
       "      <td>97112.0</td>\n",
       "      <td>0.0552</td>\n",
       "      <td>...</td>\n",
       "      <td>169964.0</td>\n",
       "      <td>6216.0</td>\n",
       "      <td>19220.0</td>\n",
       "      <td>37834.0</td>\n",
       "      <td>62074.0</td>\n",
       "      <td>0.8088</td>\n",
       "      <td>0.8246</td>\n",
       "      <td>0.8307</td>\n",
       "      <td>0.8399</td>\n",
       "      <td>0.8622</td>\n",
       "    </tr>\n",
       "    <tr>\n",
       "      <th>3</th>\n",
       "      <td>3</td>\n",
       "      <td>Very Large Metro (1)</td>\n",
       "      <td>Suburban</td>\n",
       "      <td>0.2060</td>\n",
       "      <td>0.2108</td>\n",
       "      <td>0.0185</td>\n",
       "      <td>0.0203</td>\n",
       "      <td>134373.0</td>\n",
       "      <td>149467.0</td>\n",
       "      <td>0.0998</td>\n",
       "      <td>...</td>\n",
       "      <td>422361.0</td>\n",
       "      <td>5996.0</td>\n",
       "      <td>28419.0</td>\n",
       "      <td>47104.0</td>\n",
       "      <td>104492.0</td>\n",
       "      <td>0.3940</td>\n",
       "      <td>0.6687</td>\n",
       "      <td>0.6887</td>\n",
       "      <td>0.5651</td>\n",
       "      <td>0.4456</td>\n",
       "    </tr>\n",
       "    <tr>\n",
       "      <th>4</th>\n",
       "      <td>4</td>\n",
       "      <td>Very Large Metro (1)</td>\n",
       "      <td>Light Suburban</td>\n",
       "      <td>0.2866</td>\n",
       "      <td>0.1283</td>\n",
       "      <td>0.0057</td>\n",
       "      <td>0.0719</td>\n",
       "      <td>102367.0</td>\n",
       "      <td>96066.0</td>\n",
       "      <td>0.1935</td>\n",
       "      <td>...</td>\n",
       "      <td>479049.0</td>\n",
       "      <td>15491.0</td>\n",
       "      <td>37406.0</td>\n",
       "      <td>64597.0</td>\n",
       "      <td>154192.0</td>\n",
       "      <td>0.4906</td>\n",
       "      <td>0.3683</td>\n",
       "      <td>0.4413</td>\n",
       "      <td>0.4877</td>\n",
       "      <td>0.4822</td>\n",
       "    </tr>\n",
       "    <tr>\n",
       "      <th>...</th>\n",
       "      <td>...</td>\n",
       "      <td>...</td>\n",
       "      <td>...</td>\n",
       "      <td>...</td>\n",
       "      <td>...</td>\n",
       "      <td>...</td>\n",
       "      <td>...</td>\n",
       "      <td>...</td>\n",
       "      <td>...</td>\n",
       "      <td>...</td>\n",
       "      <td>...</td>\n",
       "      <td>...</td>\n",
       "      <td>...</td>\n",
       "      <td>...</td>\n",
       "      <td>...</td>\n",
       "      <td>...</td>\n",
       "      <td>...</td>\n",
       "      <td>...</td>\n",
       "      <td>...</td>\n",
       "      <td>...</td>\n",
       "      <td>...</td>\n",
       "    </tr>\n",
       "    <tr>\n",
       "      <th>791</th>\n",
       "      <td>0</td>\n",
       "      <td>Very Large Metro (1)</td>\n",
       "      <td>Exurban</td>\n",
       "      <td>0.2745</td>\n",
       "      <td>0.1529</td>\n",
       "      <td>0.0111</td>\n",
       "      <td>0.0085</td>\n",
       "      <td>66363.0</td>\n",
       "      <td>59465.0</td>\n",
       "      <td>0.5114</td>\n",
       "      <td>...</td>\n",
       "      <td>231740.0</td>\n",
       "      <td>4972.0</td>\n",
       "      <td>13427.0</td>\n",
       "      <td>31174.0</td>\n",
       "      <td>80875.0</td>\n",
       "      <td>0.1615</td>\n",
       "      <td>0.0518</td>\n",
       "      <td>0.1095</td>\n",
       "      <td>0.1357</td>\n",
       "      <td>0.1291</td>\n",
       "    </tr>\n",
       "    <tr>\n",
       "      <th>792</th>\n",
       "      <td>1</td>\n",
       "      <td>Medium City (4)</td>\n",
       "      <td>Light Suburban</td>\n",
       "      <td>0.2083</td>\n",
       "      <td>0.1078</td>\n",
       "      <td>0.0100</td>\n",
       "      <td>0.0304</td>\n",
       "      <td>95226.0</td>\n",
       "      <td>73773.0</td>\n",
       "      <td>0.0159</td>\n",
       "      <td>...</td>\n",
       "      <td>102970.0</td>\n",
       "      <td>5387.0</td>\n",
       "      <td>25743.0</td>\n",
       "      <td>47572.0</td>\n",
       "      <td>70570.0</td>\n",
       "      <td>0.8203</td>\n",
       "      <td>0.8247</td>\n",
       "      <td>0.8233</td>\n",
       "      <td>0.8060</td>\n",
       "      <td>0.8004</td>\n",
       "    </tr>\n",
       "    <tr>\n",
       "      <th>793</th>\n",
       "      <td>2</td>\n",
       "      <td>Very Large Metro (1)</td>\n",
       "      <td>Exurban</td>\n",
       "      <td>0.2730</td>\n",
       "      <td>0.1367</td>\n",
       "      <td>0.0111</td>\n",
       "      <td>0.0172</td>\n",
       "      <td>89271.0</td>\n",
       "      <td>86552.0</td>\n",
       "      <td>0.1078</td>\n",
       "      <td>...</td>\n",
       "      <td>103313.0</td>\n",
       "      <td>3105.0</td>\n",
       "      <td>12138.0</td>\n",
       "      <td>20657.0</td>\n",
       "      <td>35348.0</td>\n",
       "      <td>0.6788</td>\n",
       "      <td>0.6116</td>\n",
       "      <td>0.4522</td>\n",
       "      <td>0.4567</td>\n",
       "      <td>0.5694</td>\n",
       "    </tr>\n",
       "    <tr>\n",
       "      <th>794</th>\n",
       "      <td>2</td>\n",
       "      <td>Medium City (4)</td>\n",
       "      <td>Exurban</td>\n",
       "      <td>0.2624</td>\n",
       "      <td>0.1357</td>\n",
       "      <td>0.0111</td>\n",
       "      <td>0.0338</td>\n",
       "      <td>67117.0</td>\n",
       "      <td>62256.0</td>\n",
       "      <td>0.3939</td>\n",
       "      <td>...</td>\n",
       "      <td>119859.0</td>\n",
       "      <td>3274.0</td>\n",
       "      <td>14426.0</td>\n",
       "      <td>31451.0</td>\n",
       "      <td>63792.0</td>\n",
       "      <td>0.4147</td>\n",
       "      <td>0.3955</td>\n",
       "      <td>0.3864</td>\n",
       "      <td>0.3822</td>\n",
       "      <td>0.3765</td>\n",
       "    </tr>\n",
       "    <tr>\n",
       "      <th>795</th>\n",
       "      <td>0</td>\n",
       "      <td>Very Large Metro (1)</td>\n",
       "      <td>Exurban</td>\n",
       "      <td>0.2431</td>\n",
       "      <td>0.1287</td>\n",
       "      <td>0.0066</td>\n",
       "      <td>0.0731</td>\n",
       "      <td>144739.0</td>\n",
       "      <td>142568.0</td>\n",
       "      <td>0.0509</td>\n",
       "      <td>...</td>\n",
       "      <td>259471.0</td>\n",
       "      <td>1316.0</td>\n",
       "      <td>7565.0</td>\n",
       "      <td>16107.0</td>\n",
       "      <td>51812.0</td>\n",
       "      <td>0.4187</td>\n",
       "      <td>0.4932</td>\n",
       "      <td>0.4555</td>\n",
       "      <td>0.4278</td>\n",
       "      <td>0.4553</td>\n",
       "    </tr>\n",
       "  </tbody>\n",
       "</table>\n",
       "<p>786 rows × 921 columns</p>\n",
       "</div>"
      ],
      "text/plain": [
       "     category           market_size   store_density  age0018_p_ta  \\\n",
       "0           2       Large Metro (2)  Light Suburban        0.2907   \n",
       "1           2       Medium City (4)  Light Suburban        0.2416   \n",
       "2           0  Very Large Metro (1)  Light Suburban        0.2198   \n",
       "3           3  Very Large Metro (1)        Suburban        0.2060   \n",
       "4           4  Very Large Metro (1)  Light Suburban        0.2866   \n",
       "..        ...                   ...             ...           ...   \n",
       "791         0  Very Large Metro (1)         Exurban        0.2745   \n",
       "792         1       Medium City (4)  Light Suburban        0.2083   \n",
       "793         2  Very Large Metro (1)         Exurban        0.2730   \n",
       "794         2       Medium City (4)         Exurban        0.2624   \n",
       "795         0  Very Large Metro (1)         Exurban        0.2431   \n",
       "\n",
       "     age65pl_p_ta  age85pl_p_ta  asian_p_ta  avg_faminc_ta  avghhinc_ta  \\\n",
       "0          0.0909        0.0050      0.0555       108837.0     106093.0   \n",
       "1          0.1537        0.0134      0.0327        80752.0      70536.0   \n",
       "2          0.1926        0.0147      0.0235       106893.0      97112.0   \n",
       "3          0.2108        0.0185      0.0203       134373.0     149467.0   \n",
       "4          0.1283        0.0057      0.0719       102367.0      96066.0   \n",
       "..            ...           ...         ...            ...          ...   \n",
       "791        0.1529        0.0111      0.0085        66363.0      59465.0   \n",
       "792        0.1078        0.0100      0.0304        95226.0      73773.0   \n",
       "793        0.1367        0.0111      0.0172        89271.0      86552.0   \n",
       "794        0.1357        0.0111      0.0338        67117.0      62256.0   \n",
       "795        0.1287        0.0066      0.0731       144739.0     142568.0   \n",
       "\n",
       "     black_p_ta  ...  wealth_hhtotal_10mi  wealth_hhtotal_1mi  \\\n",
       "0        0.0985  ...             241941.0              4785.0   \n",
       "1        0.3890  ...             120338.0              3357.0   \n",
       "2        0.0552  ...             169964.0              6216.0   \n",
       "3        0.0998  ...             422361.0              5996.0   \n",
       "4        0.1935  ...             479049.0             15491.0   \n",
       "..          ...  ...                  ...                 ...   \n",
       "791      0.5114  ...             231740.0              4972.0   \n",
       "792      0.0159  ...             102970.0              5387.0   \n",
       "793      0.1078  ...             103313.0              3105.0   \n",
       "794      0.3939  ...             119859.0              3274.0   \n",
       "795      0.0509  ...             259471.0              1316.0   \n",
       "\n",
       "     wealth_hhtotal_2mi  wealth_hhtotal_3mi  wealth_hhtotal_5mi  white_p_10mi  \\\n",
       "0               19470.0             36419.0             79913.0        0.5118   \n",
       "1               16102.0             31227.0             60385.0        0.5205   \n",
       "2               19220.0             37834.0             62074.0        0.8088   \n",
       "3               28419.0             47104.0            104492.0        0.3940   \n",
       "4               37406.0             64597.0            154192.0        0.4906   \n",
       "..                  ...                 ...                 ...           ...   \n",
       "791             13427.0             31174.0             80875.0        0.1615   \n",
       "792             25743.0             47572.0             70570.0        0.8203   \n",
       "793             12138.0             20657.0             35348.0        0.6788   \n",
       "794             14426.0             31451.0             63792.0        0.4147   \n",
       "795              7565.0             16107.0             51812.0        0.4187   \n",
       "\n",
       "     white_p_1mi  white_p_2mi  white_p_3mi  white_p_5mi  \n",
       "0         0.4940       0.4745       0.4848       0.4933  \n",
       "1         0.7086       0.6128       0.6007       0.5423  \n",
       "2         0.8246       0.8307       0.8399       0.8622  \n",
       "3         0.6687       0.6887       0.5651       0.4456  \n",
       "4         0.3683       0.4413       0.4877       0.4822  \n",
       "..           ...          ...          ...          ...  \n",
       "791       0.0518       0.1095       0.1357       0.1291  \n",
       "792       0.8247       0.8233       0.8060       0.8004  \n",
       "793       0.6116       0.4522       0.4567       0.5694  \n",
       "794       0.3955       0.3864       0.3822       0.3765  \n",
       "795       0.4932       0.4555       0.4278       0.4553  \n",
       "\n",
       "[786 rows x 921 columns]"
      ]
     },
     "execution_count": 10,
     "metadata": {},
     "output_type": "execute_result"
    }
   ],
   "source": [
    "le = LabelEncoder()\n",
    "merged[\"category\"] = le.fit_transform(merged[\"category\"])\n",
    "merged"
   ]
  },
  {
   "cell_type": "code",
   "execution_count": 11,
   "id": "b1f8d9f4-ebb0-4269-81c0-0ce5b05ec34f",
   "metadata": {},
   "outputs": [
    {
     "data": {
      "text/plain": [
       "array(['HOME', 'OTHER', 'SHOPPING', 'TRAVEL', 'WORK'], dtype=object)"
      ]
     },
     "execution_count": 11,
     "metadata": {},
     "output_type": "execute_result"
    }
   ],
   "source": [
    "le.classes_"
   ]
  },
  {
   "cell_type": "code",
   "execution_count": 12,
   "id": "489b915c-9cca-4941-8b5e-798ce3315f08",
   "metadata": {},
   "outputs": [],
   "source": [
    "train_df, test_df = train_test_split(merged, test_size=0.1, random_state=42)\n",
    "X_train = train_df.drop(columns=[\"category\"])\n",
    "y_train = train_df[\"category\"]\n",
    "X_test = test_df.drop(columns=[\"category\"])\n",
    "y_test = test_df[\"category\"]"
   ]
  },
  {
   "cell_type": "code",
   "execution_count": 13,
   "id": "84a812d3-8c29-40e9-94d7-be004350a887",
   "metadata": {},
   "outputs": [
    {
     "data": {
      "text/html": [
       "<div>\n",
       "<style scoped>\n",
       "    .dataframe tbody tr th:only-of-type {\n",
       "        vertical-align: middle;\n",
       "    }\n",
       "\n",
       "    .dataframe tbody tr th {\n",
       "        vertical-align: top;\n",
       "    }\n",
       "\n",
       "    .dataframe thead th {\n",
       "        text-align: right;\n",
       "    }\n",
       "</style>\n",
       "<table border=\"1\" class=\"dataframe\">\n",
       "  <thead>\n",
       "    <tr style=\"text-align: right;\">\n",
       "      <th></th>\n",
       "      <th>market_size</th>\n",
       "      <th>store_density</th>\n",
       "      <th>age0018_p_ta</th>\n",
       "      <th>age65pl_p_ta</th>\n",
       "      <th>age85pl_p_ta</th>\n",
       "      <th>asian_p_ta</th>\n",
       "      <th>avg_faminc_ta</th>\n",
       "      <th>avghhinc_ta</th>\n",
       "      <th>black_p_ta</th>\n",
       "      <th>boomer_p_ta</th>\n",
       "      <th>...</th>\n",
       "      <th>wealth_hhtotal_10mi</th>\n",
       "      <th>wealth_hhtotal_1mi</th>\n",
       "      <th>wealth_hhtotal_2mi</th>\n",
       "      <th>wealth_hhtotal_3mi</th>\n",
       "      <th>wealth_hhtotal_5mi</th>\n",
       "      <th>white_p_10mi</th>\n",
       "      <th>white_p_1mi</th>\n",
       "      <th>white_p_2mi</th>\n",
       "      <th>white_p_3mi</th>\n",
       "      <th>white_p_5mi</th>\n",
       "    </tr>\n",
       "  </thead>\n",
       "  <tbody>\n",
       "    <tr>\n",
       "      <th>347</th>\n",
       "      <td>Very Large Metro (1)</td>\n",
       "      <td>Exurban</td>\n",
       "      <td>0.2969</td>\n",
       "      <td>0.1014</td>\n",
       "      <td>0.0071</td>\n",
       "      <td>0.0261</td>\n",
       "      <td>93118.0</td>\n",
       "      <td>89967.0</td>\n",
       "      <td>0.6010</td>\n",
       "      <td>0.1739</td>\n",
       "      <td>...</td>\n",
       "      <td>339976.0</td>\n",
       "      <td>2897.0</td>\n",
       "      <td>7695.0</td>\n",
       "      <td>20339.0</td>\n",
       "      <td>69606.0</td>\n",
       "      <td>0.3556</td>\n",
       "      <td>0.3138</td>\n",
       "      <td>0.3472</td>\n",
       "      <td>0.2909</td>\n",
       "      <td>0.3012</td>\n",
       "    </tr>\n",
       "    <tr>\n",
       "      <th>111</th>\n",
       "      <td>Very Large Metro (1)</td>\n",
       "      <td>Exurban</td>\n",
       "      <td>0.2584</td>\n",
       "      <td>0.1199</td>\n",
       "      <td>0.0059</td>\n",
       "      <td>0.0633</td>\n",
       "      <td>72243.0</td>\n",
       "      <td>67727.0</td>\n",
       "      <td>0.5925</td>\n",
       "      <td>0.2033</td>\n",
       "      <td>...</td>\n",
       "      <td>165612.0</td>\n",
       "      <td>4039.0</td>\n",
       "      <td>11630.0</td>\n",
       "      <td>21781.0</td>\n",
       "      <td>48837.0</td>\n",
       "      <td>0.1917</td>\n",
       "      <td>0.1104</td>\n",
       "      <td>0.1591</td>\n",
       "      <td>0.1876</td>\n",
       "      <td>0.2289</td>\n",
       "    </tr>\n",
       "    <tr>\n",
       "      <th>54</th>\n",
       "      <td>Small Town (6)</td>\n",
       "      <td>Exurban</td>\n",
       "      <td>0.2161</td>\n",
       "      <td>0.1461</td>\n",
       "      <td>0.0131</td>\n",
       "      <td>0.0151</td>\n",
       "      <td>73789.0</td>\n",
       "      <td>81607.0</td>\n",
       "      <td>0.4227</td>\n",
       "      <td>0.1953</td>\n",
       "      <td>...</td>\n",
       "      <td>17023.0</td>\n",
       "      <td>2130.0</td>\n",
       "      <td>5055.0</td>\n",
       "      <td>7792.0</td>\n",
       "      <td>11036.0</td>\n",
       "      <td>0.5330</td>\n",
       "      <td>0.6126</td>\n",
       "      <td>0.4865</td>\n",
       "      <td>0.4629</td>\n",
       "      <td>0.4879</td>\n",
       "    </tr>\n",
       "    <tr>\n",
       "      <th>747</th>\n",
       "      <td>Large City (3)</td>\n",
       "      <td>Exurban</td>\n",
       "      <td>0.2736</td>\n",
       "      <td>0.1147</td>\n",
       "      <td>0.0083</td>\n",
       "      <td>0.0446</td>\n",
       "      <td>135460.0</td>\n",
       "      <td>134123.0</td>\n",
       "      <td>0.0187</td>\n",
       "      <td>0.1858</td>\n",
       "      <td>...</td>\n",
       "      <td>111942.0</td>\n",
       "      <td>6034.0</td>\n",
       "      <td>15331.0</td>\n",
       "      <td>24097.0</td>\n",
       "      <td>40865.0</td>\n",
       "      <td>0.8548</td>\n",
       "      <td>0.8571</td>\n",
       "      <td>0.8752</td>\n",
       "      <td>0.8696</td>\n",
       "      <td>0.8640</td>\n",
       "    </tr>\n",
       "    <tr>\n",
       "      <th>194</th>\n",
       "      <td>Very Large Metro (1)</td>\n",
       "      <td>Light Suburban</td>\n",
       "      <td>0.2066</td>\n",
       "      <td>0.2145</td>\n",
       "      <td>0.0299</td>\n",
       "      <td>0.0209</td>\n",
       "      <td>104670.0</td>\n",
       "      <td>100387.0</td>\n",
       "      <td>0.0129</td>\n",
       "      <td>0.2525</td>\n",
       "      <td>...</td>\n",
       "      <td>383657.0</td>\n",
       "      <td>7770.0</td>\n",
       "      <td>21480.0</td>\n",
       "      <td>52006.0</td>\n",
       "      <td>157618.0</td>\n",
       "      <td>0.1545</td>\n",
       "      <td>0.1730</td>\n",
       "      <td>0.1775</td>\n",
       "      <td>0.1671</td>\n",
       "      <td>0.1539</td>\n",
       "    </tr>\n",
       "    <tr>\n",
       "      <th>...</th>\n",
       "      <td>...</td>\n",
       "      <td>...</td>\n",
       "      <td>...</td>\n",
       "      <td>...</td>\n",
       "      <td>...</td>\n",
       "      <td>...</td>\n",
       "      <td>...</td>\n",
       "      <td>...</td>\n",
       "      <td>...</td>\n",
       "      <td>...</td>\n",
       "      <td>...</td>\n",
       "      <td>...</td>\n",
       "      <td>...</td>\n",
       "      <td>...</td>\n",
       "      <td>...</td>\n",
       "      <td>...</td>\n",
       "      <td>...</td>\n",
       "      <td>...</td>\n",
       "      <td>...</td>\n",
       "      <td>...</td>\n",
       "      <td>...</td>\n",
       "    </tr>\n",
       "    <tr>\n",
       "      <th>72</th>\n",
       "      <td>Very Large Metro (1)</td>\n",
       "      <td>Exurban</td>\n",
       "      <td>0.2466</td>\n",
       "      <td>0.1358</td>\n",
       "      <td>0.0071</td>\n",
       "      <td>0.1914</td>\n",
       "      <td>137597.0</td>\n",
       "      <td>150433.0</td>\n",
       "      <td>0.1700</td>\n",
       "      <td>0.2253</td>\n",
       "      <td>...</td>\n",
       "      <td>198818.0</td>\n",
       "      <td>2850.0</td>\n",
       "      <td>12780.0</td>\n",
       "      <td>19454.0</td>\n",
       "      <td>51903.0</td>\n",
       "      <td>0.2879</td>\n",
       "      <td>0.4312</td>\n",
       "      <td>0.4339</td>\n",
       "      <td>0.4043</td>\n",
       "      <td>0.3858</td>\n",
       "    </tr>\n",
       "    <tr>\n",
       "      <th>107</th>\n",
       "      <td>Very Large Metro (1)</td>\n",
       "      <td>Suburban</td>\n",
       "      <td>0.1881</td>\n",
       "      <td>0.1878</td>\n",
       "      <td>0.0199</td>\n",
       "      <td>0.0884</td>\n",
       "      <td>146098.0</td>\n",
       "      <td>161364.0</td>\n",
       "      <td>0.0730</td>\n",
       "      <td>0.2473</td>\n",
       "      <td>...</td>\n",
       "      <td>618729.0</td>\n",
       "      <td>6372.0</td>\n",
       "      <td>23557.0</td>\n",
       "      <td>52008.0</td>\n",
       "      <td>144620.0</td>\n",
       "      <td>0.4821</td>\n",
       "      <td>0.7458</td>\n",
       "      <td>0.6984</td>\n",
       "      <td>0.4822</td>\n",
       "      <td>0.5032</td>\n",
       "    </tr>\n",
       "    <tr>\n",
       "      <th>275</th>\n",
       "      <td>Small City (5)</td>\n",
       "      <td>Exurban</td>\n",
       "      <td>0.2144</td>\n",
       "      <td>0.1539</td>\n",
       "      <td>0.0150</td>\n",
       "      <td>0.0187</td>\n",
       "      <td>75062.0</td>\n",
       "      <td>62347.0</td>\n",
       "      <td>0.0340</td>\n",
       "      <td>0.1862</td>\n",
       "      <td>...</td>\n",
       "      <td>32520.0</td>\n",
       "      <td>1077.0</td>\n",
       "      <td>4642.0</td>\n",
       "      <td>9652.0</td>\n",
       "      <td>20486.0</td>\n",
       "      <td>0.8959</td>\n",
       "      <td>0.8952</td>\n",
       "      <td>0.8633</td>\n",
       "      <td>0.8600</td>\n",
       "      <td>0.8638</td>\n",
       "    </tr>\n",
       "    <tr>\n",
       "      <th>443</th>\n",
       "      <td>Very Large Metro (1)</td>\n",
       "      <td>Exurban</td>\n",
       "      <td>0.2626</td>\n",
       "      <td>0.1129</td>\n",
       "      <td>0.0051</td>\n",
       "      <td>0.1057</td>\n",
       "      <td>103601.0</td>\n",
       "      <td>92428.0</td>\n",
       "      <td>0.4126</td>\n",
       "      <td>0.1956</td>\n",
       "      <td>...</td>\n",
       "      <td>230960.0</td>\n",
       "      <td>3283.0</td>\n",
       "      <td>12629.0</td>\n",
       "      <td>31658.0</td>\n",
       "      <td>66989.0</td>\n",
       "      <td>0.4286</td>\n",
       "      <td>0.3996</td>\n",
       "      <td>0.3771</td>\n",
       "      <td>0.3867</td>\n",
       "      <td>0.3569</td>\n",
       "    </tr>\n",
       "    <tr>\n",
       "      <th>103</th>\n",
       "      <td>Very Large Metro (1)</td>\n",
       "      <td>Rural</td>\n",
       "      <td>0.2539</td>\n",
       "      <td>0.1366</td>\n",
       "      <td>0.0086</td>\n",
       "      <td>0.0276</td>\n",
       "      <td>83827.0</td>\n",
       "      <td>79037.0</td>\n",
       "      <td>0.1305</td>\n",
       "      <td>0.2082</td>\n",
       "      <td>...</td>\n",
       "      <td>53682.0</td>\n",
       "      <td>553.0</td>\n",
       "      <td>2646.0</td>\n",
       "      <td>5661.0</td>\n",
       "      <td>16349.0</td>\n",
       "      <td>0.6936</td>\n",
       "      <td>0.6825</td>\n",
       "      <td>0.6787</td>\n",
       "      <td>0.6762</td>\n",
       "      <td>0.6950</td>\n",
       "    </tr>\n",
       "  </tbody>\n",
       "</table>\n",
       "<p>707 rows × 920 columns</p>\n",
       "</div>"
      ],
      "text/plain": [
       "              market_size   store_density  age0018_p_ta  age65pl_p_ta  \\\n",
       "347  Very Large Metro (1)         Exurban        0.2969        0.1014   \n",
       "111  Very Large Metro (1)         Exurban        0.2584        0.1199   \n",
       "54         Small Town (6)         Exurban        0.2161        0.1461   \n",
       "747        Large City (3)         Exurban        0.2736        0.1147   \n",
       "194  Very Large Metro (1)  Light Suburban        0.2066        0.2145   \n",
       "..                    ...             ...           ...           ...   \n",
       "72   Very Large Metro (1)         Exurban        0.2466        0.1358   \n",
       "107  Very Large Metro (1)        Suburban        0.1881        0.1878   \n",
       "275        Small City (5)         Exurban        0.2144        0.1539   \n",
       "443  Very Large Metro (1)         Exurban        0.2626        0.1129   \n",
       "103  Very Large Metro (1)           Rural        0.2539        0.1366   \n",
       "\n",
       "     age85pl_p_ta  asian_p_ta  avg_faminc_ta  avghhinc_ta  black_p_ta  \\\n",
       "347        0.0071      0.0261        93118.0      89967.0      0.6010   \n",
       "111        0.0059      0.0633        72243.0      67727.0      0.5925   \n",
       "54         0.0131      0.0151        73789.0      81607.0      0.4227   \n",
       "747        0.0083      0.0446       135460.0     134123.0      0.0187   \n",
       "194        0.0299      0.0209       104670.0     100387.0      0.0129   \n",
       "..            ...         ...            ...          ...         ...   \n",
       "72         0.0071      0.1914       137597.0     150433.0      0.1700   \n",
       "107        0.0199      0.0884       146098.0     161364.0      0.0730   \n",
       "275        0.0150      0.0187        75062.0      62347.0      0.0340   \n",
       "443        0.0051      0.1057       103601.0      92428.0      0.4126   \n",
       "103        0.0086      0.0276        83827.0      79037.0      0.1305   \n",
       "\n",
       "     boomer_p_ta  ...  wealth_hhtotal_10mi  wealth_hhtotal_1mi  \\\n",
       "347       0.1739  ...             339976.0              2897.0   \n",
       "111       0.2033  ...             165612.0              4039.0   \n",
       "54        0.1953  ...              17023.0              2130.0   \n",
       "747       0.1858  ...             111942.0              6034.0   \n",
       "194       0.2525  ...             383657.0              7770.0   \n",
       "..           ...  ...                  ...                 ...   \n",
       "72        0.2253  ...             198818.0              2850.0   \n",
       "107       0.2473  ...             618729.0              6372.0   \n",
       "275       0.1862  ...              32520.0              1077.0   \n",
       "443       0.1956  ...             230960.0              3283.0   \n",
       "103       0.2082  ...              53682.0               553.0   \n",
       "\n",
       "     wealth_hhtotal_2mi  wealth_hhtotal_3mi  wealth_hhtotal_5mi  white_p_10mi  \\\n",
       "347              7695.0             20339.0             69606.0        0.3556   \n",
       "111             11630.0             21781.0             48837.0        0.1917   \n",
       "54               5055.0              7792.0             11036.0        0.5330   \n",
       "747             15331.0             24097.0             40865.0        0.8548   \n",
       "194             21480.0             52006.0            157618.0        0.1545   \n",
       "..                  ...                 ...                 ...           ...   \n",
       "72              12780.0             19454.0             51903.0        0.2879   \n",
       "107             23557.0             52008.0            144620.0        0.4821   \n",
       "275              4642.0              9652.0             20486.0        0.8959   \n",
       "443             12629.0             31658.0             66989.0        0.4286   \n",
       "103              2646.0              5661.0             16349.0        0.6936   \n",
       "\n",
       "     white_p_1mi  white_p_2mi  white_p_3mi  white_p_5mi  \n",
       "347       0.3138       0.3472       0.2909       0.3012  \n",
       "111       0.1104       0.1591       0.1876       0.2289  \n",
       "54        0.6126       0.4865       0.4629       0.4879  \n",
       "747       0.8571       0.8752       0.8696       0.8640  \n",
       "194       0.1730       0.1775       0.1671       0.1539  \n",
       "..           ...          ...          ...          ...  \n",
       "72        0.4312       0.4339       0.4043       0.3858  \n",
       "107       0.7458       0.6984       0.4822       0.5032  \n",
       "275       0.8952       0.8633       0.8600       0.8638  \n",
       "443       0.3996       0.3771       0.3867       0.3569  \n",
       "103       0.6825       0.6787       0.6762       0.6950  \n",
       "\n",
       "[707 rows x 920 columns]"
      ]
     },
     "execution_count": 13,
     "metadata": {},
     "output_type": "execute_result"
    }
   ],
   "source": [
    "X_train"
   ]
  },
  {
   "cell_type": "code",
   "execution_count": 14,
   "id": "85fd3d76",
   "metadata": {},
   "outputs": [
    {
     "data": {
      "text/html": [
       "<div>\n",
       "<style scoped>\n",
       "    .dataframe tbody tr th:only-of-type {\n",
       "        vertical-align: middle;\n",
       "    }\n",
       "\n",
       "    .dataframe tbody tr th {\n",
       "        vertical-align: top;\n",
       "    }\n",
       "\n",
       "    .dataframe thead th {\n",
       "        text-align: right;\n",
       "    }\n",
       "</style>\n",
       "<table border=\"1\" class=\"dataframe\">\n",
       "  <thead>\n",
       "    <tr style=\"text-align: right;\">\n",
       "      <th></th>\n",
       "      <th>category</th>\n",
       "    </tr>\n",
       "  </thead>\n",
       "  <tbody>\n",
       "    <tr>\n",
       "      <th>347</th>\n",
       "      <td>2</td>\n",
       "    </tr>\n",
       "    <tr>\n",
       "      <th>111</th>\n",
       "      <td>4</td>\n",
       "    </tr>\n",
       "    <tr>\n",
       "      <th>54</th>\n",
       "      <td>0</td>\n",
       "    </tr>\n",
       "    <tr>\n",
       "      <th>747</th>\n",
       "      <td>0</td>\n",
       "    </tr>\n",
       "    <tr>\n",
       "      <th>194</th>\n",
       "      <td>0</td>\n",
       "    </tr>\n",
       "    <tr>\n",
       "      <th>...</th>\n",
       "      <td>...</td>\n",
       "    </tr>\n",
       "    <tr>\n",
       "      <th>72</th>\n",
       "      <td>0</td>\n",
       "    </tr>\n",
       "    <tr>\n",
       "      <th>107</th>\n",
       "      <td>4</td>\n",
       "    </tr>\n",
       "    <tr>\n",
       "      <th>275</th>\n",
       "      <td>4</td>\n",
       "    </tr>\n",
       "    <tr>\n",
       "      <th>443</th>\n",
       "      <td>2</td>\n",
       "    </tr>\n",
       "    <tr>\n",
       "      <th>103</th>\n",
       "      <td>4</td>\n",
       "    </tr>\n",
       "  </tbody>\n",
       "</table>\n",
       "<p>707 rows × 1 columns</p>\n",
       "</div>"
      ],
      "text/plain": [
       "     category\n",
       "347         2\n",
       "111         4\n",
       "54          0\n",
       "747         0\n",
       "194         0\n",
       "..        ...\n",
       "72          0\n",
       "107         4\n",
       "275         4\n",
       "443         2\n",
       "103         4\n",
       "\n",
       "[707 rows x 1 columns]"
      ]
     },
     "execution_count": 14,
     "metadata": {},
     "output_type": "execute_result"
    }
   ],
   "source": [
    "pd.DataFrame(y_train)"
   ]
  },
  {
   "cell_type": "code",
   "execution_count": 15,
   "id": "5fc20cc7",
   "metadata": {},
   "outputs": [
    {
     "data": {
      "text/html": [
       "<div>\n",
       "<style scoped>\n",
       "    .dataframe tbody tr th:only-of-type {\n",
       "        vertical-align: middle;\n",
       "    }\n",
       "\n",
       "    .dataframe tbody tr th {\n",
       "        vertical-align: top;\n",
       "    }\n",
       "\n",
       "    .dataframe thead th {\n",
       "        text-align: right;\n",
       "    }\n",
       "</style>\n",
       "<table border=\"1\" class=\"dataframe\">\n",
       "  <thead>\n",
       "    <tr style=\"text-align: right;\">\n",
       "      <th></th>\n",
       "      <th>market_size</th>\n",
       "      <th>store_density</th>\n",
       "      <th>age0018_p_ta</th>\n",
       "      <th>age65pl_p_ta</th>\n",
       "      <th>age85pl_p_ta</th>\n",
       "      <th>asian_p_ta</th>\n",
       "      <th>avg_faminc_ta</th>\n",
       "      <th>avghhinc_ta</th>\n",
       "      <th>black_p_ta</th>\n",
       "      <th>boomer_p_ta</th>\n",
       "      <th>...</th>\n",
       "      <th>wealth_hhtotal_10mi</th>\n",
       "      <th>wealth_hhtotal_1mi</th>\n",
       "      <th>wealth_hhtotal_2mi</th>\n",
       "      <th>wealth_hhtotal_3mi</th>\n",
       "      <th>wealth_hhtotal_5mi</th>\n",
       "      <th>white_p_10mi</th>\n",
       "      <th>white_p_1mi</th>\n",
       "      <th>white_p_2mi</th>\n",
       "      <th>white_p_3mi</th>\n",
       "      <th>white_p_5mi</th>\n",
       "    </tr>\n",
       "  </thead>\n",
       "  <tbody>\n",
       "    <tr>\n",
       "      <th>763</th>\n",
       "      <td>Very Large Metro (1)</td>\n",
       "      <td>Light Suburban</td>\n",
       "      <td>0.2089</td>\n",
       "      <td>0.1888</td>\n",
       "      <td>0.0190</td>\n",
       "      <td>0.0351</td>\n",
       "      <td>89178.0</td>\n",
       "      <td>79052.0</td>\n",
       "      <td>0.2004</td>\n",
       "      <td>0.2642</td>\n",
       "      <td>...</td>\n",
       "      <td>425785.0</td>\n",
       "      <td>4181.0</td>\n",
       "      <td>16756.0</td>\n",
       "      <td>38863.0</td>\n",
       "      <td>99277.0</td>\n",
       "      <td>0.5366</td>\n",
       "      <td>0.8026</td>\n",
       "      <td>0.7641</td>\n",
       "      <td>0.7298</td>\n",
       "      <td>0.5924</td>\n",
       "    </tr>\n",
       "    <tr>\n",
       "      <th>39</th>\n",
       "      <td>Very Large Metro (1)</td>\n",
       "      <td>Exurban</td>\n",
       "      <td>0.2318</td>\n",
       "      <td>0.1285</td>\n",
       "      <td>0.0069</td>\n",
       "      <td>0.0300</td>\n",
       "      <td>101364.0</td>\n",
       "      <td>102495.0</td>\n",
       "      <td>0.3710</td>\n",
       "      <td>0.2285</td>\n",
       "      <td>...</td>\n",
       "      <td>153826.0</td>\n",
       "      <td>1858.0</td>\n",
       "      <td>6439.0</td>\n",
       "      <td>15598.0</td>\n",
       "      <td>44653.0</td>\n",
       "      <td>0.4448</td>\n",
       "      <td>0.4813</td>\n",
       "      <td>0.4673</td>\n",
       "      <td>0.4774</td>\n",
       "      <td>0.4642</td>\n",
       "    </tr>\n",
       "    <tr>\n",
       "      <th>214</th>\n",
       "      <td>Very Large Metro (1)</td>\n",
       "      <td>Exurban</td>\n",
       "      <td>0.1728</td>\n",
       "      <td>0.2239</td>\n",
       "      <td>0.0169</td>\n",
       "      <td>0.0574</td>\n",
       "      <td>156673.0</td>\n",
       "      <td>164913.0</td>\n",
       "      <td>0.0116</td>\n",
       "      <td>0.3197</td>\n",
       "      <td>...</td>\n",
       "      <td>226771.0</td>\n",
       "      <td>3057.0</td>\n",
       "      <td>10208.0</td>\n",
       "      <td>17393.0</td>\n",
       "      <td>40455.0</td>\n",
       "      <td>0.7572</td>\n",
       "      <td>0.8839</td>\n",
       "      <td>0.8756</td>\n",
       "      <td>0.8771</td>\n",
       "      <td>0.8767</td>\n",
       "    </tr>\n",
       "    <tr>\n",
       "      <th>202</th>\n",
       "      <td>Large City (3)</td>\n",
       "      <td>Light Suburban</td>\n",
       "      <td>0.1699</td>\n",
       "      <td>0.3051</td>\n",
       "      <td>0.0486</td>\n",
       "      <td>0.0133</td>\n",
       "      <td>107283.0</td>\n",
       "      <td>105748.0</td>\n",
       "      <td>0.0360</td>\n",
       "      <td>0.2926</td>\n",
       "      <td>...</td>\n",
       "      <td>145103.0</td>\n",
       "      <td>3694.0</td>\n",
       "      <td>13301.0</td>\n",
       "      <td>34356.0</td>\n",
       "      <td>71441.0</td>\n",
       "      <td>0.7879</td>\n",
       "      <td>0.8643</td>\n",
       "      <td>0.8544</td>\n",
       "      <td>0.8352</td>\n",
       "      <td>0.7615</td>\n",
       "    </tr>\n",
       "    <tr>\n",
       "      <th>239</th>\n",
       "      <td>Medium City (4)</td>\n",
       "      <td>Rural</td>\n",
       "      <td>0.2394</td>\n",
       "      <td>0.1695</td>\n",
       "      <td>0.0134</td>\n",
       "      <td>0.0072</td>\n",
       "      <td>75991.0</td>\n",
       "      <td>69866.0</td>\n",
       "      <td>0.0684</td>\n",
       "      <td>0.2257</td>\n",
       "      <td>...</td>\n",
       "      <td>46769.0</td>\n",
       "      <td>2601.0</td>\n",
       "      <td>7086.0</td>\n",
       "      <td>10005.0</td>\n",
       "      <td>12789.0</td>\n",
       "      <td>0.7522</td>\n",
       "      <td>0.8381</td>\n",
       "      <td>0.8516</td>\n",
       "      <td>0.8566</td>\n",
       "      <td>0.8610</td>\n",
       "    </tr>\n",
       "    <tr>\n",
       "      <th>...</th>\n",
       "      <td>...</td>\n",
       "      <td>...</td>\n",
       "      <td>...</td>\n",
       "      <td>...</td>\n",
       "      <td>...</td>\n",
       "      <td>...</td>\n",
       "      <td>...</td>\n",
       "      <td>...</td>\n",
       "      <td>...</td>\n",
       "      <td>...</td>\n",
       "      <td>...</td>\n",
       "      <td>...</td>\n",
       "      <td>...</td>\n",
       "      <td>...</td>\n",
       "      <td>...</td>\n",
       "      <td>...</td>\n",
       "      <td>...</td>\n",
       "      <td>...</td>\n",
       "      <td>...</td>\n",
       "      <td>...</td>\n",
       "      <td>...</td>\n",
       "    </tr>\n",
       "    <tr>\n",
       "      <th>716</th>\n",
       "      <td>Very Large Metro (1)</td>\n",
       "      <td>Light Suburban</td>\n",
       "      <td>0.2643</td>\n",
       "      <td>0.1401</td>\n",
       "      <td>0.0118</td>\n",
       "      <td>0.0486</td>\n",
       "      <td>121663.0</td>\n",
       "      <td>144570.0</td>\n",
       "      <td>0.0486</td>\n",
       "      <td>0.2040</td>\n",
       "      <td>...</td>\n",
       "      <td>632997.0</td>\n",
       "      <td>6324.0</td>\n",
       "      <td>20117.0</td>\n",
       "      <td>54582.0</td>\n",
       "      <td>206752.0</td>\n",
       "      <td>0.3119</td>\n",
       "      <td>0.5108</td>\n",
       "      <td>0.4629</td>\n",
       "      <td>0.4882</td>\n",
       "      <td>0.4662</td>\n",
       "    </tr>\n",
       "    <tr>\n",
       "      <th>333</th>\n",
       "      <td>Medium City (4)</td>\n",
       "      <td>Rural</td>\n",
       "      <td>0.2272</td>\n",
       "      <td>0.1991</td>\n",
       "      <td>0.0223</td>\n",
       "      <td>0.0867</td>\n",
       "      <td>108180.0</td>\n",
       "      <td>97932.0</td>\n",
       "      <td>0.1168</td>\n",
       "      <td>0.2347</td>\n",
       "      <td>...</td>\n",
       "      <td>71079.0</td>\n",
       "      <td>2013.0</td>\n",
       "      <td>5666.0</td>\n",
       "      <td>9563.0</td>\n",
       "      <td>29802.0</td>\n",
       "      <td>0.6993</td>\n",
       "      <td>0.6805</td>\n",
       "      <td>0.6978</td>\n",
       "      <td>0.7122</td>\n",
       "      <td>0.7136</td>\n",
       "    </tr>\n",
       "    <tr>\n",
       "      <th>238</th>\n",
       "      <td>Large City (3)</td>\n",
       "      <td>Rural</td>\n",
       "      <td>0.2066</td>\n",
       "      <td>0.1813</td>\n",
       "      <td>0.0128</td>\n",
       "      <td>0.0171</td>\n",
       "      <td>98571.0</td>\n",
       "      <td>97421.0</td>\n",
       "      <td>0.0775</td>\n",
       "      <td>0.2471</td>\n",
       "      <td>...</td>\n",
       "      <td>69141.0</td>\n",
       "      <td>746.0</td>\n",
       "      <td>4253.0</td>\n",
       "      <td>7670.0</td>\n",
       "      <td>19110.0</td>\n",
       "      <td>0.7505</td>\n",
       "      <td>0.7251</td>\n",
       "      <td>0.7878</td>\n",
       "      <td>0.7899</td>\n",
       "      <td>0.7923</td>\n",
       "    </tr>\n",
       "    <tr>\n",
       "      <th>615</th>\n",
       "      <td>Very Large Metro (1)</td>\n",
       "      <td>Light Suburban</td>\n",
       "      <td>0.2367</td>\n",
       "      <td>0.1503</td>\n",
       "      <td>0.0147</td>\n",
       "      <td>0.0091</td>\n",
       "      <td>67353.0</td>\n",
       "      <td>64782.0</td>\n",
       "      <td>0.2797</td>\n",
       "      <td>0.2080</td>\n",
       "      <td>...</td>\n",
       "      <td>507286.0</td>\n",
       "      <td>8939.0</td>\n",
       "      <td>29623.0</td>\n",
       "      <td>52751.0</td>\n",
       "      <td>151766.0</td>\n",
       "      <td>0.1624</td>\n",
       "      <td>0.0578</td>\n",
       "      <td>0.0581</td>\n",
       "      <td>0.0684</td>\n",
       "      <td>0.0786</td>\n",
       "    </tr>\n",
       "    <tr>\n",
       "      <th>369</th>\n",
       "      <td>Very Large Metro (1)</td>\n",
       "      <td>Exurban</td>\n",
       "      <td>0.2899</td>\n",
       "      <td>0.0989</td>\n",
       "      <td>0.0053</td>\n",
       "      <td>0.0990</td>\n",
       "      <td>121139.0</td>\n",
       "      <td>122292.0</td>\n",
       "      <td>0.1248</td>\n",
       "      <td>0.1738</td>\n",
       "      <td>...</td>\n",
       "      <td>278620.0</td>\n",
       "      <td>3279.0</td>\n",
       "      <td>11303.0</td>\n",
       "      <td>25361.0</td>\n",
       "      <td>71350.0</td>\n",
       "      <td>0.4969</td>\n",
       "      <td>0.5668</td>\n",
       "      <td>0.5101</td>\n",
       "      <td>0.5320</td>\n",
       "      <td>0.5879</td>\n",
       "    </tr>\n",
       "  </tbody>\n",
       "</table>\n",
       "<p>79 rows × 920 columns</p>\n",
       "</div>"
      ],
      "text/plain": [
       "              market_size   store_density  age0018_p_ta  age65pl_p_ta  \\\n",
       "763  Very Large Metro (1)  Light Suburban        0.2089        0.1888   \n",
       "39   Very Large Metro (1)         Exurban        0.2318        0.1285   \n",
       "214  Very Large Metro (1)         Exurban        0.1728        0.2239   \n",
       "202        Large City (3)  Light Suburban        0.1699        0.3051   \n",
       "239       Medium City (4)           Rural        0.2394        0.1695   \n",
       "..                    ...             ...           ...           ...   \n",
       "716  Very Large Metro (1)  Light Suburban        0.2643        0.1401   \n",
       "333       Medium City (4)           Rural        0.2272        0.1991   \n",
       "238        Large City (3)           Rural        0.2066        0.1813   \n",
       "615  Very Large Metro (1)  Light Suburban        0.2367        0.1503   \n",
       "369  Very Large Metro (1)         Exurban        0.2899        0.0989   \n",
       "\n",
       "     age85pl_p_ta  asian_p_ta  avg_faminc_ta  avghhinc_ta  black_p_ta  \\\n",
       "763        0.0190      0.0351        89178.0      79052.0      0.2004   \n",
       "39         0.0069      0.0300       101364.0     102495.0      0.3710   \n",
       "214        0.0169      0.0574       156673.0     164913.0      0.0116   \n",
       "202        0.0486      0.0133       107283.0     105748.0      0.0360   \n",
       "239        0.0134      0.0072        75991.0      69866.0      0.0684   \n",
       "..            ...         ...            ...          ...         ...   \n",
       "716        0.0118      0.0486       121663.0     144570.0      0.0486   \n",
       "333        0.0223      0.0867       108180.0      97932.0      0.1168   \n",
       "238        0.0128      0.0171        98571.0      97421.0      0.0775   \n",
       "615        0.0147      0.0091        67353.0      64782.0      0.2797   \n",
       "369        0.0053      0.0990       121139.0     122292.0      0.1248   \n",
       "\n",
       "     boomer_p_ta  ...  wealth_hhtotal_10mi  wealth_hhtotal_1mi  \\\n",
       "763       0.2642  ...             425785.0              4181.0   \n",
       "39        0.2285  ...             153826.0              1858.0   \n",
       "214       0.3197  ...             226771.0              3057.0   \n",
       "202       0.2926  ...             145103.0              3694.0   \n",
       "239       0.2257  ...              46769.0              2601.0   \n",
       "..           ...  ...                  ...                 ...   \n",
       "716       0.2040  ...             632997.0              6324.0   \n",
       "333       0.2347  ...              71079.0              2013.0   \n",
       "238       0.2471  ...              69141.0               746.0   \n",
       "615       0.2080  ...             507286.0              8939.0   \n",
       "369       0.1738  ...             278620.0              3279.0   \n",
       "\n",
       "     wealth_hhtotal_2mi  wealth_hhtotal_3mi  wealth_hhtotal_5mi  white_p_10mi  \\\n",
       "763             16756.0             38863.0             99277.0        0.5366   \n",
       "39               6439.0             15598.0             44653.0        0.4448   \n",
       "214             10208.0             17393.0             40455.0        0.7572   \n",
       "202             13301.0             34356.0             71441.0        0.7879   \n",
       "239              7086.0             10005.0             12789.0        0.7522   \n",
       "..                  ...                 ...                 ...           ...   \n",
       "716             20117.0             54582.0            206752.0        0.3119   \n",
       "333              5666.0              9563.0             29802.0        0.6993   \n",
       "238              4253.0              7670.0             19110.0        0.7505   \n",
       "615             29623.0             52751.0            151766.0        0.1624   \n",
       "369             11303.0             25361.0             71350.0        0.4969   \n",
       "\n",
       "     white_p_1mi  white_p_2mi  white_p_3mi  white_p_5mi  \n",
       "763       0.8026       0.7641       0.7298       0.5924  \n",
       "39        0.4813       0.4673       0.4774       0.4642  \n",
       "214       0.8839       0.8756       0.8771       0.8767  \n",
       "202       0.8643       0.8544       0.8352       0.7615  \n",
       "239       0.8381       0.8516       0.8566       0.8610  \n",
       "..           ...          ...          ...          ...  \n",
       "716       0.5108       0.4629       0.4882       0.4662  \n",
       "333       0.6805       0.6978       0.7122       0.7136  \n",
       "238       0.7251       0.7878       0.7899       0.7923  \n",
       "615       0.0578       0.0581       0.0684       0.0786  \n",
       "369       0.5668       0.5101       0.5320       0.5879  \n",
       "\n",
       "[79 rows x 920 columns]"
      ]
     },
     "execution_count": 15,
     "metadata": {},
     "output_type": "execute_result"
    }
   ],
   "source": [
    "X_test"
   ]
  },
  {
   "cell_type": "code",
   "execution_count": 17,
   "id": "d3b38bce",
   "metadata": {},
   "outputs": [
    {
     "data": {
      "text/html": [
       "<div>\n",
       "<style scoped>\n",
       "    .dataframe tbody tr th:only-of-type {\n",
       "        vertical-align: middle;\n",
       "    }\n",
       "\n",
       "    .dataframe tbody tr th {\n",
       "        vertical-align: top;\n",
       "    }\n",
       "\n",
       "    .dataframe thead th {\n",
       "        text-align: right;\n",
       "    }\n",
       "</style>\n",
       "<table border=\"1\" class=\"dataframe\">\n",
       "  <thead>\n",
       "    <tr style=\"text-align: right;\">\n",
       "      <th></th>\n",
       "      <th>category</th>\n",
       "    </tr>\n",
       "  </thead>\n",
       "  <tbody>\n",
       "    <tr>\n",
       "      <th>763</th>\n",
       "      <td>2</td>\n",
       "    </tr>\n",
       "    <tr>\n",
       "      <th>39</th>\n",
       "      <td>0</td>\n",
       "    </tr>\n",
       "    <tr>\n",
       "      <th>214</th>\n",
       "      <td>0</td>\n",
       "    </tr>\n",
       "    <tr>\n",
       "      <th>202</th>\n",
       "      <td>0</td>\n",
       "    </tr>\n",
       "    <tr>\n",
       "      <th>239</th>\n",
       "      <td>4</td>\n",
       "    </tr>\n",
       "    <tr>\n",
       "      <th>...</th>\n",
       "      <td>...</td>\n",
       "    </tr>\n",
       "    <tr>\n",
       "      <th>716</th>\n",
       "      <td>2</td>\n",
       "    </tr>\n",
       "    <tr>\n",
       "      <th>333</th>\n",
       "      <td>2</td>\n",
       "    </tr>\n",
       "    <tr>\n",
       "      <th>238</th>\n",
       "      <td>0</td>\n",
       "    </tr>\n",
       "    <tr>\n",
       "      <th>615</th>\n",
       "      <td>0</td>\n",
       "    </tr>\n",
       "    <tr>\n",
       "      <th>369</th>\n",
       "      <td>0</td>\n",
       "    </tr>\n",
       "  </tbody>\n",
       "</table>\n",
       "<p>79 rows × 1 columns</p>\n",
       "</div>"
      ],
      "text/plain": [
       "     category\n",
       "763         2\n",
       "39          0\n",
       "214         0\n",
       "202         0\n",
       "239         4\n",
       "..        ...\n",
       "716         2\n",
       "333         2\n",
       "238         0\n",
       "615         0\n",
       "369         0\n",
       "\n",
       "[79 rows x 1 columns]"
      ]
     },
     "execution_count": 17,
     "metadata": {},
     "output_type": "execute_result"
    }
   ],
   "source": [
    "pd.DataFrame(y_test)"
   ]
  },
  {
   "cell_type": "code",
   "execution_count": 18,
   "id": "0d38c72e-94a5-4fbe-be52-7f506cf2368f",
   "metadata": {},
   "outputs": [],
   "source": [
    "ordinal_features = [\"market_size\", \"store_density\"]\n",
    "numeric_features = X_train.select_dtypes(include=[np.number]).columns.tolist()\n",
    "# drop_features = [\"store\", \"longitude\", \"latitude\", \"state_name\", \"cbsa_name\", \"dma_name\"]"
   ]
  },
  {
   "cell_type": "code",
   "execution_count": 19,
   "id": "ee8e5f81-b02f-4bdb-bfb3-297777b65347",
   "metadata": {},
   "outputs": [],
   "source": [
    "market_levels = [\n",
    "    \"Small Town (6)\",\n",
    "    \"Small City (5)\",\n",
    "    \"Medium City (4)\",\n",
    "    \"Large City (3)\",\n",
    "    \"Large Metro (2)\",\n",
    "    \"Very Large Metro (1)\"\n",
    "]\n",
    "density_levels = [\n",
    "    \"Rural\",\n",
    "    \"Exurban\",\n",
    "    \"Suburban\",\n",
    "    \"Light Suburban\",\n",
    "    \"Light Urban\",\n",
    "    \"Urban\",\n",
    "    \"Super Urban\"\n",
    "]"
   ]
  },
  {
   "cell_type": "code",
   "execution_count": 20,
   "id": "f209a19b-e0a1-4c40-a7d4-2a1e2efaf86e",
   "metadata": {},
   "outputs": [],
   "source": [
    "ordinal_transformer = OrdinalEncoder(categories=[market_levels, density_levels], dtype=int)\n",
    "\n",
    "preprocessor = make_column_transformer(\n",
    "    # (\"drop\", drop_features),\n",
    "    (StandardScaler(), numeric_features),\n",
    "    (ordinal_transformer, ordinal_features),\n",
    ")"
   ]
  },
  {
   "cell_type": "code",
   "execution_count": 21,
   "id": "ce271a85-0fe2-43dd-90af-4961ef122902",
   "metadata": {},
   "outputs": [],
   "source": [
    "class_weight = {\n",
    "    \"HOME\": 0.24,\n",
    "    \"OTHER\": 0.16,\n",
    "    \"SHOPPING\": 0.22,\n",
    "    \"TRAVEL\": 0.15,\n",
    "    \"WORK\": 0.23\n",
    "}\n",
    "encoded_class_weights = {i: class_weight[label] for i, label in enumerate(le.classes_)}\n",
    "class_weight = encoded_class_weights"
   ]
  },
  {
   "attachments": {},
   "cell_type": "markdown",
   "id": "1a6c6667-8664-4406-950b-5199e968ce8a",
   "metadata": {},
   "source": [
    "## Build Logistic Regression Models"
   ]
  },
  {
   "cell_type": "code",
   "execution_count": 514,
   "id": "617b54d0-70be-4b85-aac8-909895f4e19f",
   "metadata": {},
   "outputs": [],
   "source": [
    "pipe_lr = make_pipeline(\n",
    "    preprocessor,\n",
    "    LogisticRegression(C=0.1, max_iter=1000, multi_class='ovr', n_jobs=-1,\n",
    "    penalty='l2', random_state=42, solver='liblinear', class_weight=class_weight)\n",
    ")\n",
    "pipe_lr.fit(X_train, y_train);"
   ]
  },
  {
   "cell_type": "code",
   "execution_count": 515,
   "id": "4b70cf41-fe6a-437d-9b12-af3a03132c2e",
   "metadata": {},
   "outputs": [
    {
     "data": {
      "text/plain": [
       "0.8132956152758133"
      ]
     },
     "execution_count": 515,
     "metadata": {},
     "output_type": "execute_result"
    }
   ],
   "source": [
    "pipe_lr.score(X_train, y_train)"
   ]
  },
  {
   "cell_type": "code",
   "execution_count": 516,
   "id": "42569eed-a199-4f70-b2bc-abf26a30696e",
   "metadata": {},
   "outputs": [
    {
     "data": {
      "text/plain": [
       "0.5316455696202531"
      ]
     },
     "execution_count": 516,
     "metadata": {},
     "output_type": "execute_result"
    }
   ],
   "source": [
    "pipe_lr.score(X_test, y_test)"
   ]
  },
  {
   "cell_type": "code",
   "execution_count": 518,
   "id": "58825334-8263-4ee2-aa61-de64636c9f0d",
   "metadata": {},
   "outputs": [],
   "source": [
    "pipe_lr_multi = make_pipeline(\n",
    "    preprocessor,\n",
    "    LogisticRegression(C=0.1, max_iter=1000, multi_class='multinomial', n_jobs=-1,\n",
    "    penalty='l2', random_state=42, solver='saga', class_weight=class_weight)\n",
    "    # LogisticRegression(C=0.1, penalty=\"l2\", random_state=42, solver=\"saga\", max_iter=10000, multi_class=\"multinomial\", n_jobs=-1, \n",
    "    #                    class_weight=class_weight)\n",
    ")\n",
    "pipe_lr_multi.fit(X_train, y_train);"
   ]
  },
  {
   "cell_type": "code",
   "execution_count": 519,
   "id": "dfd2aca9-fed6-4177-9e2d-0692ca7d4be5",
   "metadata": {},
   "outputs": [
    {
     "data": {
      "text/plain": [
       "0.7666195190947667"
      ]
     },
     "execution_count": 519,
     "metadata": {},
     "output_type": "execute_result"
    }
   ],
   "source": [
    "pipe_lr_multi.score(X_train, y_train)"
   ]
  },
  {
   "cell_type": "code",
   "execution_count": 520,
   "id": "21d5a7dc-4e2d-4993-afaa-586e858cf169",
   "metadata": {},
   "outputs": [
    {
     "data": {
      "text/plain": [
       "0.5316455696202531"
      ]
     },
     "execution_count": 520,
     "metadata": {},
     "output_type": "execute_result"
    }
   ],
   "source": [
    "pipe_lr_multi.score(X_test, y_test)"
   ]
  },
  {
   "cell_type": "code",
   "execution_count": 28,
   "id": "9febad96-2747-4a67-b07f-6dee6e26926d",
   "metadata": {},
   "outputs": [],
   "source": [
    "prediction_result = pd.DataFrame({\n",
    "    \"True label\": y_test,\n",
    "    \"Logistic Regression (OVR)\": pipe_lr.predict(X_test),\n",
    "    \"Logistic Regression (multinomial)\": pipe_lr_multi.predict(X_test)\n",
    "})"
   ]
  },
  {
   "attachments": {},
   "cell_type": "markdown",
   "id": "adc7dc8a",
   "metadata": {},
   "source": [
    "## Build LASSO/RidgeModel"
   ]
  },
  {
   "cell_type": "code",
   "execution_count": 465,
   "id": "bcf7ab1d",
   "metadata": {},
   "outputs": [],
   "source": [
    "pipe_lasso = make_pipeline(\n",
    "    preprocessor,\n",
    "    Lasso(random_state=42)\n",
    ")\n",
    "param_param = {\n",
    "    \"lasso__alpha\": [0.00001, 0.00002, 0.00003, 0.00004],\n",
    "    # \"lasso__fit_intercept\": [False, True],\n",
    "    \"lasso__max_iter\": np.arange(9000, 11000, 500),\n",
    "    \"lasso__tol\": 10.0**np.arange(-6, -1, 1),\n",
    "    # \"lasso__selection\": ['cyclic', 'random']\n",
    "}\n",
    "lasso_search = RandomizedSearchCV(\n",
    "    pipe_lasso, param_param, n_iter=50, cv=5, random_state=42\n",
    ")"
   ]
  },
  {
   "cell_type": "code",
   "execution_count": 466,
   "id": "40985af9",
   "metadata": {},
   "outputs": [],
   "source": [
    "lasso_search.fit(X_train, y_train);"
   ]
  },
  {
   "cell_type": "code",
   "execution_count": 467,
   "id": "093aa8de",
   "metadata": {},
   "outputs": [
    {
     "data": {
      "text/html": [
       "<style>#sk-container-id-37 {color: black;background-color: white;}#sk-container-id-37 pre{padding: 0;}#sk-container-id-37 div.sk-toggleable {background-color: white;}#sk-container-id-37 label.sk-toggleable__label {cursor: pointer;display: block;width: 100%;margin-bottom: 0;padding: 0.3em;box-sizing: border-box;text-align: center;}#sk-container-id-37 label.sk-toggleable__label-arrow:before {content: \"▸\";float: left;margin-right: 0.25em;color: #696969;}#sk-container-id-37 label.sk-toggleable__label-arrow:hover:before {color: black;}#sk-container-id-37 div.sk-estimator:hover label.sk-toggleable__label-arrow:before {color: black;}#sk-container-id-37 div.sk-toggleable__content {max-height: 0;max-width: 0;overflow: hidden;text-align: left;background-color: #f0f8ff;}#sk-container-id-37 div.sk-toggleable__content pre {margin: 0.2em;color: black;border-radius: 0.25em;background-color: #f0f8ff;}#sk-container-id-37 input.sk-toggleable__control:checked~div.sk-toggleable__content {max-height: 200px;max-width: 100%;overflow: auto;}#sk-container-id-37 input.sk-toggleable__control:checked~label.sk-toggleable__label-arrow:before {content: \"▾\";}#sk-container-id-37 div.sk-estimator input.sk-toggleable__control:checked~label.sk-toggleable__label {background-color: #d4ebff;}#sk-container-id-37 div.sk-label input.sk-toggleable__control:checked~label.sk-toggleable__label {background-color: #d4ebff;}#sk-container-id-37 input.sk-hidden--visually {border: 0;clip: rect(1px 1px 1px 1px);clip: rect(1px, 1px, 1px, 1px);height: 1px;margin: -1px;overflow: hidden;padding: 0;position: absolute;width: 1px;}#sk-container-id-37 div.sk-estimator {font-family: monospace;background-color: #f0f8ff;border: 1px dotted black;border-radius: 0.25em;box-sizing: border-box;margin-bottom: 0.5em;}#sk-container-id-37 div.sk-estimator:hover {background-color: #d4ebff;}#sk-container-id-37 div.sk-parallel-item::after {content: \"\";width: 100%;border-bottom: 1px solid gray;flex-grow: 1;}#sk-container-id-37 div.sk-label:hover label.sk-toggleable__label {background-color: #d4ebff;}#sk-container-id-37 div.sk-serial::before {content: \"\";position: absolute;border-left: 1px solid gray;box-sizing: border-box;top: 0;bottom: 0;left: 50%;z-index: 0;}#sk-container-id-37 div.sk-serial {display: flex;flex-direction: column;align-items: center;background-color: white;padding-right: 0.2em;padding-left: 0.2em;position: relative;}#sk-container-id-37 div.sk-item {position: relative;z-index: 1;}#sk-container-id-37 div.sk-parallel {display: flex;align-items: stretch;justify-content: center;background-color: white;position: relative;}#sk-container-id-37 div.sk-item::before, #sk-container-id-37 div.sk-parallel-item::before {content: \"\";position: absolute;border-left: 1px solid gray;box-sizing: border-box;top: 0;bottom: 0;left: 50%;z-index: -1;}#sk-container-id-37 div.sk-parallel-item {display: flex;flex-direction: column;z-index: 1;position: relative;background-color: white;}#sk-container-id-37 div.sk-parallel-item:first-child::after {align-self: flex-end;width: 50%;}#sk-container-id-37 div.sk-parallel-item:last-child::after {align-self: flex-start;width: 50%;}#sk-container-id-37 div.sk-parallel-item:only-child::after {width: 0;}#sk-container-id-37 div.sk-dashed-wrapped {border: 1px dashed gray;margin: 0 0.4em 0.5em 0.4em;box-sizing: border-box;padding-bottom: 0.4em;background-color: white;}#sk-container-id-37 div.sk-label label {font-family: monospace;font-weight: bold;display: inline-block;line-height: 1.2em;}#sk-container-id-37 div.sk-label-container {text-align: center;}#sk-container-id-37 div.sk-container {/* jupyter's `normalize.less` sets `[hidden] { display: none; }` but bootstrap.min.css set `[hidden] { display: none !important; }` so we also need the `!important` here to be able to override the default hidden behavior on the sphinx rendered scikit-learn.org. See: https://github.com/scikit-learn/scikit-learn/issues/21755 */display: inline-block !important;position: relative;}#sk-container-id-37 div.sk-text-repr-fallback {display: none;}</style><div id=\"sk-container-id-37\" class=\"sk-top-container\"><div class=\"sk-text-repr-fallback\"><pre>Lasso(alpha=1e-05, max_iter=9000, random_state=42, tol=0.01)</pre><b>In a Jupyter environment, please rerun this cell to show the HTML representation or trust the notebook. <br />On GitHub, the HTML representation is unable to render, please try loading this page with nbviewer.org.</b></div><div class=\"sk-container\" hidden><div class=\"sk-item\"><div class=\"sk-estimator sk-toggleable\"><input class=\"sk-toggleable__control sk-hidden--visually\" id=\"sk-estimator-id-373\" type=\"checkbox\" checked><label for=\"sk-estimator-id-373\" class=\"sk-toggleable__label sk-toggleable__label-arrow\">Lasso</label><div class=\"sk-toggleable__content\"><pre>Lasso(alpha=1e-05, max_iter=9000, random_state=42, tol=0.01)</pre></div></div></div></div></div>"
      ],
      "text/plain": [
       "Lasso(alpha=1e-05, max_iter=9000, random_state=42, tol=0.01)"
      ]
     },
     "execution_count": 467,
     "metadata": {},
     "output_type": "execute_result"
    }
   ],
   "source": [
    "lasso_search.best_estimator_.named_steps['lasso']"
   ]
  },
  {
   "cell_type": "code",
   "execution_count": 482,
   "id": "d4e7df9a",
   "metadata": {},
   "outputs": [
    {
     "data": {
      "text/html": [
       "<style>#sk-container-id-42 {color: black;background-color: white;}#sk-container-id-42 pre{padding: 0;}#sk-container-id-42 div.sk-toggleable {background-color: white;}#sk-container-id-42 label.sk-toggleable__label {cursor: pointer;display: block;width: 100%;margin-bottom: 0;padding: 0.3em;box-sizing: border-box;text-align: center;}#sk-container-id-42 label.sk-toggleable__label-arrow:before {content: \"▸\";float: left;margin-right: 0.25em;color: #696969;}#sk-container-id-42 label.sk-toggleable__label-arrow:hover:before {color: black;}#sk-container-id-42 div.sk-estimator:hover label.sk-toggleable__label-arrow:before {color: black;}#sk-container-id-42 div.sk-toggleable__content {max-height: 0;max-width: 0;overflow: hidden;text-align: left;background-color: #f0f8ff;}#sk-container-id-42 div.sk-toggleable__content pre {margin: 0.2em;color: black;border-radius: 0.25em;background-color: #f0f8ff;}#sk-container-id-42 input.sk-toggleable__control:checked~div.sk-toggleable__content {max-height: 200px;max-width: 100%;overflow: auto;}#sk-container-id-42 input.sk-toggleable__control:checked~label.sk-toggleable__label-arrow:before {content: \"▾\";}#sk-container-id-42 div.sk-estimator input.sk-toggleable__control:checked~label.sk-toggleable__label {background-color: #d4ebff;}#sk-container-id-42 div.sk-label input.sk-toggleable__control:checked~label.sk-toggleable__label {background-color: #d4ebff;}#sk-container-id-42 input.sk-hidden--visually {border: 0;clip: rect(1px 1px 1px 1px);clip: rect(1px, 1px, 1px, 1px);height: 1px;margin: -1px;overflow: hidden;padding: 0;position: absolute;width: 1px;}#sk-container-id-42 div.sk-estimator {font-family: monospace;background-color: #f0f8ff;border: 1px dotted black;border-radius: 0.25em;box-sizing: border-box;margin-bottom: 0.5em;}#sk-container-id-42 div.sk-estimator:hover {background-color: #d4ebff;}#sk-container-id-42 div.sk-parallel-item::after {content: \"\";width: 100%;border-bottom: 1px solid gray;flex-grow: 1;}#sk-container-id-42 div.sk-label:hover label.sk-toggleable__label {background-color: #d4ebff;}#sk-container-id-42 div.sk-serial::before {content: \"\";position: absolute;border-left: 1px solid gray;box-sizing: border-box;top: 0;bottom: 0;left: 50%;z-index: 0;}#sk-container-id-42 div.sk-serial {display: flex;flex-direction: column;align-items: center;background-color: white;padding-right: 0.2em;padding-left: 0.2em;position: relative;}#sk-container-id-42 div.sk-item {position: relative;z-index: 1;}#sk-container-id-42 div.sk-parallel {display: flex;align-items: stretch;justify-content: center;background-color: white;position: relative;}#sk-container-id-42 div.sk-item::before, #sk-container-id-42 div.sk-parallel-item::before {content: \"\";position: absolute;border-left: 1px solid gray;box-sizing: border-box;top: 0;bottom: 0;left: 50%;z-index: -1;}#sk-container-id-42 div.sk-parallel-item {display: flex;flex-direction: column;z-index: 1;position: relative;background-color: white;}#sk-container-id-42 div.sk-parallel-item:first-child::after {align-self: flex-end;width: 50%;}#sk-container-id-42 div.sk-parallel-item:last-child::after {align-self: flex-start;width: 50%;}#sk-container-id-42 div.sk-parallel-item:only-child::after {width: 0;}#sk-container-id-42 div.sk-dashed-wrapped {border: 1px dashed gray;margin: 0 0.4em 0.5em 0.4em;box-sizing: border-box;padding-bottom: 0.4em;background-color: white;}#sk-container-id-42 div.sk-label label {font-family: monospace;font-weight: bold;display: inline-block;line-height: 1.2em;}#sk-container-id-42 div.sk-label-container {text-align: center;}#sk-container-id-42 div.sk-container {/* jupyter's `normalize.less` sets `[hidden] { display: none; }` but bootstrap.min.css set `[hidden] { display: none !important; }` so we also need the `!important` here to be able to override the default hidden behavior on the sphinx rendered scikit-learn.org. See: https://github.com/scikit-learn/scikit-learn/issues/21755 */display: inline-block !important;position: relative;}#sk-container-id-42 div.sk-text-repr-fallback {display: none;}</style><div id=\"sk-container-id-42\" class=\"sk-top-container\"><div class=\"sk-text-repr-fallback\"><pre>Pipeline(steps=[(&#x27;columntransformer&#x27;,\n",
       "                 ColumnTransformer(transformers=[(&#x27;standardscaler&#x27;,\n",
       "                                                  StandardScaler(),\n",
       "                                                  [&#x27;age0018_p_ta&#x27;,\n",
       "                                                   &#x27;age65pl_p_ta&#x27;,\n",
       "                                                   &#x27;age85pl_p_ta&#x27;, &#x27;asian_p_ta&#x27;,\n",
       "                                                   &#x27;avg_faminc_ta&#x27;,\n",
       "                                                   &#x27;avghhinc_ta&#x27;, &#x27;black_p_ta&#x27;,\n",
       "                                                   &#x27;boomer_p_ta&#x27;,\n",
       "                                                   &#x27;com0002_p_ta&#x27;,\n",
       "                                                   &#x27;com0205_p_ta&#x27;,\n",
       "                                                   &#x27;com0508_p_ta&#x27;,\n",
       "                                                   &#x27;com0811_p_ta&#x27;,\n",
       "                                                   &#x27;com12pl_p_ta&#x27;,\n",
       "                                                   &#x27;crime_total_index_ta&#x27;,\n",
       "                                                   &#x27;daypop_dens_ta&#x27;,\n",
       "                                                   &#x27;disposable_inc...\n",
       "                                                                 dtype=&lt;class &#x27;int&#x27;&gt;),\n",
       "                                                  [&#x27;market_size&#x27;,\n",
       "                                                   &#x27;store_density&#x27;])])),\n",
       "                (&#x27;selectfrommodel&#x27;,\n",
       "                 SelectFromModel(estimator=Lasso(alpha=2e-05,\n",
       "                                                 fit_intercept=False,\n",
       "                                                 max_iter=10000,\n",
       "                                                 random_state=42,\n",
       "                                                 tol=0.0005))),\n",
       "                (&#x27;onevsrestclassifier&#x27;,\n",
       "                 OneVsRestClassifier(estimator=RandomForestClassifier(max_depth=5,\n",
       "                                                                      max_leaf_nodes=50,\n",
       "                                                                      min_samples_leaf=20,\n",
       "                                                                      min_samples_split=20,\n",
       "                                                                      n_jobs=-1,\n",
       "                                                                      random_state=42)))])</pre><b>In a Jupyter environment, please rerun this cell to show the HTML representation or trust the notebook. <br />On GitHub, the HTML representation is unable to render, please try loading this page with nbviewer.org.</b></div><div class=\"sk-container\" hidden><div class=\"sk-item sk-dashed-wrapped\"><div class=\"sk-label-container\"><div class=\"sk-label sk-toggleable\"><input class=\"sk-toggleable__control sk-hidden--visually\" id=\"sk-estimator-id-420\" type=\"checkbox\" ><label for=\"sk-estimator-id-420\" class=\"sk-toggleable__label sk-toggleable__label-arrow\">Pipeline</label><div class=\"sk-toggleable__content\"><pre>Pipeline(steps=[(&#x27;columntransformer&#x27;,\n",
       "                 ColumnTransformer(transformers=[(&#x27;standardscaler&#x27;,\n",
       "                                                  StandardScaler(),\n",
       "                                                  [&#x27;age0018_p_ta&#x27;,\n",
       "                                                   &#x27;age65pl_p_ta&#x27;,\n",
       "                                                   &#x27;age85pl_p_ta&#x27;, &#x27;asian_p_ta&#x27;,\n",
       "                                                   &#x27;avg_faminc_ta&#x27;,\n",
       "                                                   &#x27;avghhinc_ta&#x27;, &#x27;black_p_ta&#x27;,\n",
       "                                                   &#x27;boomer_p_ta&#x27;,\n",
       "                                                   &#x27;com0002_p_ta&#x27;,\n",
       "                                                   &#x27;com0205_p_ta&#x27;,\n",
       "                                                   &#x27;com0508_p_ta&#x27;,\n",
       "                                                   &#x27;com0811_p_ta&#x27;,\n",
       "                                                   &#x27;com12pl_p_ta&#x27;,\n",
       "                                                   &#x27;crime_total_index_ta&#x27;,\n",
       "                                                   &#x27;daypop_dens_ta&#x27;,\n",
       "                                                   &#x27;disposable_inc...\n",
       "                                                                 dtype=&lt;class &#x27;int&#x27;&gt;),\n",
       "                                                  [&#x27;market_size&#x27;,\n",
       "                                                   &#x27;store_density&#x27;])])),\n",
       "                (&#x27;selectfrommodel&#x27;,\n",
       "                 SelectFromModel(estimator=Lasso(alpha=2e-05,\n",
       "                                                 fit_intercept=False,\n",
       "                                                 max_iter=10000,\n",
       "                                                 random_state=42,\n",
       "                                                 tol=0.0005))),\n",
       "                (&#x27;onevsrestclassifier&#x27;,\n",
       "                 OneVsRestClassifier(estimator=RandomForestClassifier(max_depth=5,\n",
       "                                                                      max_leaf_nodes=50,\n",
       "                                                                      min_samples_leaf=20,\n",
       "                                                                      min_samples_split=20,\n",
       "                                                                      n_jobs=-1,\n",
       "                                                                      random_state=42)))])</pre></div></div></div><div class=\"sk-serial\"><div class=\"sk-item sk-dashed-wrapped\"><div class=\"sk-label-container\"><div class=\"sk-label sk-toggleable\"><input class=\"sk-toggleable__control sk-hidden--visually\" id=\"sk-estimator-id-421\" type=\"checkbox\" ><label for=\"sk-estimator-id-421\" class=\"sk-toggleable__label sk-toggleable__label-arrow\">columntransformer: ColumnTransformer</label><div class=\"sk-toggleable__content\"><pre>ColumnTransformer(transformers=[(&#x27;standardscaler&#x27;, StandardScaler(),\n",
       "                                 [&#x27;age0018_p_ta&#x27;, &#x27;age65pl_p_ta&#x27;,\n",
       "                                  &#x27;age85pl_p_ta&#x27;, &#x27;asian_p_ta&#x27;, &#x27;avg_faminc_ta&#x27;,\n",
       "                                  &#x27;avghhinc_ta&#x27;, &#x27;black_p_ta&#x27;, &#x27;boomer_p_ta&#x27;,\n",
       "                                  &#x27;com0002_p_ta&#x27;, &#x27;com0205_p_ta&#x27;,\n",
       "                                  &#x27;com0508_p_ta&#x27;, &#x27;com0811_p_ta&#x27;,\n",
       "                                  &#x27;com12pl_p_ta&#x27;, &#x27;crime_total_index_ta&#x27;,\n",
       "                                  &#x27;daypop_dens_ta&#x27;, &#x27;disposable_inc_avg_ta&#x27;,\n",
       "                                  &#x27;dtpop_children_at_home_p_ta...\n",
       "                                  &#x27;edu_assocdeg_p_ta&#x27;, &#x27;edu_bach_p_ta&#x27;,\n",
       "                                  &#x27;edu_bachplus_female_p_ta&#x27;, ...]),\n",
       "                                (&#x27;ordinalencoder&#x27;,\n",
       "                                 OrdinalEncoder(categories=[[&#x27;Small Town (6)&#x27;,\n",
       "                                                             &#x27;Small City (5)&#x27;,\n",
       "                                                             &#x27;Medium City (4)&#x27;,\n",
       "                                                             &#x27;Large City (3)&#x27;,\n",
       "                                                             &#x27;Large Metro (2)&#x27;,\n",
       "                                                             &#x27;Very Large Metro &#x27;\n",
       "                                                             &#x27;(1)&#x27;],\n",
       "                                                            [&#x27;Rural&#x27;, &#x27;Exurban&#x27;,\n",
       "                                                             &#x27;Suburban&#x27;,\n",
       "                                                             &#x27;Light Suburban&#x27;,\n",
       "                                                             &#x27;Light Urban&#x27;,\n",
       "                                                             &#x27;Urban&#x27;,\n",
       "                                                             &#x27;Super Urban&#x27;]],\n",
       "                                                dtype=&lt;class &#x27;int&#x27;&gt;),\n",
       "                                 [&#x27;market_size&#x27;, &#x27;store_density&#x27;])])</pre></div></div></div><div class=\"sk-parallel\"><div class=\"sk-parallel-item\"><div class=\"sk-item\"><div class=\"sk-label-container\"><div class=\"sk-label sk-toggleable\"><input class=\"sk-toggleable__control sk-hidden--visually\" id=\"sk-estimator-id-422\" type=\"checkbox\" ><label for=\"sk-estimator-id-422\" class=\"sk-toggleable__label sk-toggleable__label-arrow\">standardscaler</label><div class=\"sk-toggleable__content\"><pre>[&#x27;age0018_p_ta&#x27;, &#x27;age65pl_p_ta&#x27;, &#x27;age85pl_p_ta&#x27;, &#x27;asian_p_ta&#x27;, &#x27;avg_faminc_ta&#x27;, &#x27;avghhinc_ta&#x27;, &#x27;black_p_ta&#x27;, &#x27;boomer_p_ta&#x27;, &#x27;com0002_p_ta&#x27;, &#x27;com0205_p_ta&#x27;, &#x27;com0508_p_ta&#x27;, &#x27;com0811_p_ta&#x27;, &#x27;com12pl_p_ta&#x27;, &#x27;crime_total_index_ta&#x27;, &#x27;daypop_dens_ta&#x27;, &#x27;disposable_inc_avg_ta&#x27;, &#x27;dtpop_children_at_home_p_ta&#x27;, &#x27;dtpop_homemakers_p_ta&#x27;, &#x27;dtpop_retired_disabled_p_ta&#x27;, &#x27;dtpop_students_9th_12th_p_ta&#x27;, &#x27;dtpop_students_p_ta&#x27;, &#x27;dtpop_students_post_secondary_p_ta&#x27;, &#x27;dtpop_students_prek_8th_p_ta&#x27;, &#x27;dtpop_ta&#x27;, &#x27;dtpop_unemployed_p_ta&#x27;, &#x27;dtpop_work_at_home_p_ta&#x27;, &#x27;edu_9to12_p_ta&#x27;, &#x27;edu_assocdeg_p_ta&#x27;, &#x27;edu_bach_p_ta&#x27;, &#x27;edu_bachplus_female_p_ta&#x27;, &#x27;edu_bachplus_male_p_ta&#x27;, &#x27;edu_bachplus_p_ta&#x27;, &#x27;edu_doctorate_p_ta&#x27;, &#x27;edu_highsch_p_ta&#x27;, &#x27;edu_lt9_p_ta&#x27;, &#x27;edu_master_p_ta&#x27;, &#x27;edu_profdeg_p_ta&#x27;, &#x27;edu_somecollege_p_ta&#x27;, &#x27;emp_accommodation_foodserv_p_ta&#x27;, &#x27;emp_admin_support_p_ta&#x27;, &#x27;emp_arts_entertainment_p_ta&#x27;, &#x27;emp_construction_p_ta&#x27;, &#x27;emp_educ_services_p_ta&#x27;, &#x27;emp_finance_insurance_p_ta&#x27;, &#x27;emp_healthcare_social_assistance_p_ta&#x27;, &#x27;emp_information_p_ta&#x27;, &#x27;emp_management_p_ta&#x27;, &#x27;emp_manfacturing_p_ta&#x27;, &#x27;emp_military_ta&#x27;, &#x27;emp_mining_p_ta&#x27;, &#x27;emp_other_p_ta&#x27;, &#x27;emp_p_ta&#x27;, &#x27;emp_professional_scientific_p_ta&#x27;, &#x27;emp_publicadmin_p_ta&#x27;, &#x27;emp_realestate_rentlease_p_ta&#x27;, &#x27;emp_retail_trade_p_ta&#x27;, &#x27;emp_transportation_storage_p_ta&#x27;, &#x27;emp_unknown_ta&#x27;, &#x27;emp_utilities_p_ta&#x27;, &#x27;emp_wholesale_trade_p_ta&#x27;, &#x27;empcy_ta&#x27;, &#x27;gdp_ta&#x27;, &#x27;genx_p_ta&#x27;, &#x27;genz_p_ta&#x27;, &#x27;gq_college_p_ta&#x27;, &#x27;gq_military_p_ta&#x27;, &#x27;gq_other_p_ta&#x27;, &#x27;hh_0vehicle_p_ta&#x27;, &#x27;hh_1pers_p_ta&#x27;, &#x27;hh_1vehicle_p_ta&#x27;, &#x27;hh_2pers_p_ta&#x27;, &#x27;hh_2vehicle_p_ta&#x27;, &#x27;hh_3pers_p_ta&#x27;, &#x27;hh_3vehicle_p_ta&#x27;, &#x27;hh_4pers_p_ta&#x27;, &#x27;hh_4vehicle_p_ta&#x27;, &#x27;hh_5pers_p_ta&#x27;, &#x27;hh_5vehicle_p_ta&#x27;, &#x27;hh_6pers_p_ta&#x27;, &#x27;hh_7pers_p_ta&#x27;, &#x27;hh_dens_ta&#x27;, &#x27;hh_inc_gt_500k_p_ta&#x27;, &#x27;hh_inc_gt_75k_p_ta&#x27;, &#x27;hh_inc_lt_75k_p_ta&#x27;, &#x27;hh_type_1pers_p_ta&#x27;, &#x27;hh_type_fam_p_ta&#x27;, &#x27;hh_type_female_child_p_ta&#x27;, &#x27;hh_type_female_nochild_p_ta&#x27;, &#x27;hh_type_female_p_ta&#x27;, &#x27;hh_type_male_child_p_ta&#x27;, &#x27;hh_type_male_nochild_p_ta&#x27;, &#x27;hh_type_male_p_ta&#x27;, &#x27;hh_type_married_child_p_ta&#x27;, &#x27;hh_type_married_nochild_p_ta&#x27;, &#x27;hh_type_married_p_ta&#x27;, &#x27;hh_type_nonfam_p_ta&#x27;, &#x27;hhcy_ta&#x27;, &#x27;hhgrfypy_ta&#x27;, &#x27;hhgrpycy_ta&#x27;, &#x27;hhinc100pl_p_ta&#x27;, &#x27;hhinc150pl_p_ta&#x27;, &#x27;hhinc30lt_p_ta&#x27;, &#x27;hispanic_p_ta&#x27;, &#x27;hu_ownerocc_ta&#x27;, &#x27;hu_renterocc_ta&#x27;, &#x27;hu_vacant_ta&#x27;, &#x27;medhhinc_1mi_x&#x27;, &#x27;medhhinc_dma&#x27;, &#x27;medhhinc_ta&#x27;, &#x27;medsalcy_ta&#x27;, &#x27;millenial_p_ta&#x27;, &#x27;mortgage_avgrisk_ta&#x27;, &#x27;occ_bc_p_ta&#x27;, &#x27;occ_military_p_ta&#x27;, &#x27;occ_unclassified_p_ta&#x27;, &#x27;occ_wc_p_ta&#x27;, &#x27;occhu_ta&#x27;, &#x27;other_p_ta&#x27;, &#x27;percapita_inc_ta&#x27;, &#x27;pop5y_cagr_ta&#x27;, &#x27;pop_dens_ta&#x27;, &#x27;pop_migration_ta&#x27;, &#x27;pop_seasonal_ta&#x27;, &#x27;pop_transient_ta&#x27;, &#x27;popcy_ta&#x27;, &#x27;popgr10cn_ta&#x27;, &#x27;popgrfy_ta&#x27;, &#x27;popgrpy_ta&#x27;, &#x27;poverty_inpoverty_p_ta&#x27;, &#x27;spend_breakfastbrunch_ta&#x27;, &#x27;spend_dinner_ta&#x27;, &#x27;spend_foodbev_ta&#x27;, &#x27;spend_lunch_ta&#x27;, &#x27;wealth_hhavg_ta&#x27;, &#x27;wealth_hhtotal_ta&#x27;, &#x27;white_p_ta&#x27;, &#x27;banks_10mi&#x27;, &#x27;banks_1mi&#x27;, &#x27;banks_2mi&#x27;, &#x27;banks_3mi&#x27;, &#x27;banks_5mi&#x27;, &#x27;centerxy_full_0p5_intersect_count&#x27;, &#x27;centerxy_full_0p5_intersect_gla&#x27;, &#x27;centerxy_full_count_10mi&#x27;, &#x27;centerxy_full_count_1mi&#x27;, &#x27;centerxy_full_count_2mi&#x27;, &#x27;centerxy_full_count_3mi&#x27;, &#x27;centerxy_full_count_5mi&#x27;, &#x27;centerxy_full_gla_10mi&#x27;, &#x27;centerxy_full_gla_1mi&#x27;, &#x27;centerxy_full_gla_2mi&#x27;, &#x27;centerxy_full_gla_3mi&#x27;, &#x27;centerxy_full_gla_5mi&#x27;, &#x27;centerxy_full_nearest_dist&#x27;, &#x27;centerxy_gla_effective_10mi&#x27;, &#x27;centerxy_gla_effective_1mi&#x27;, &#x27;centerxy_gla_effective_2mi&#x27;, &#x27;centerxy_gla_effective_3mi&#x27;, &#x27;centerxy_gla_effective_5mi&#x27;, &#x27;dmm_count_10mi&#x27;, &#x27;dmm_count_1mi&#x27;, &#x27;dmm_count_2mi&#x27;, &#x27;dmm_count_3mi&#x27;, &#x27;dmm_count_5mi&#x27;, &#x27;dmm_gla_10mi&#x27;, &#x27;dmm_gla_1mi&#x27;, &#x27;dmm_gla_2mi&#x27;, &#x27;dmm_gla_3mi&#x27;, &#x27;dmm_gla_5mi&#x27;, &#x27;dmm_nearest_dist&#x27;, &#x27;hrsa_hospitals_10mi&#x27;, &#x27;hrsa_hospitals_1mi&#x27;, &#x27;hrsa_hospitals_2mi&#x27;, &#x27;hrsa_hospitals_3mi&#x27;, &#x27;hrsa_hospitals_5mi&#x27;, &#x27;hrsa_hospitals_nearest_dist&#x27;, &#x27;hrsa_number_of_certified_beds_10mi&#x27;, &#x27;hrsa_number_of_certified_beds_1mi&#x27;, &#x27;hrsa_number_of_certified_beds_2mi&#x27;, &#x27;hrsa_number_of_certified_beds_3mi&#x27;, &#x27;hrsa_number_of_certified_beds_5mi&#x27;, &#x27;inrix_aadt_ew&#x27;, &#x27;inrix_aadt_ns&#x27;, &#x27;inrix_afternoon_ew&#x27;, &#x27;inrix_afternoon_ns&#x27;, &#x27;inrix_breakfast_ew&#x27;, &#x27;inrix_breakfast_ns&#x27;, &#x27;inrix_dinner_ew&#x27;, &#x27;inrix_dinner_ns&#x27;, &#x27;inrix_ew_distance&#x27;, &#x27;inrix_lunch_ew&#x27;, &#x27;inrix_lunch_ns&#x27;, &#x27;inrix_night_ew&#x27;, &#x27;inrix_night_ns&#x27;, &#x27;inrix_ns_distance&#x27;, &#x27;inrix_overnight_ew&#x27;, &#x27;inrix_overnight_ns&#x27;, &#x27;ipeds_postsecondary_nearest_dist&#x27;, &#x27;ipeds_postsecondary_schools_10mi&#x27;, &#x27;ipeds_postsecondary_schools_1mi&#x27;, &#x27;ipeds_postsecondary_schools_2mi&#x27;, &#x27;ipeds_postsecondary_schools_3mi&#x27;, &#x27;ipeds_postsecondary_schools_5mi&#x27;, &#x27;ipeds_postsecondary_schools_total_enrollment_10mi&#x27;, &#x27;ipeds_postsecondary_schools_total_enrollment_1mi&#x27;, &#x27;ipeds_postsecondary_schools_total_enrollment_2mi&#x27;, &#x27;ipeds_postsecondary_schools_total_enrollment_3mi&#x27;, &#x27;ipeds_postsecondary_schools_total_enrollment_5mi&#x27;, &#x27;military_installations_10mi&#x27;, &#x27;military_installations_1mi&#x27;, &#x27;military_installations_2mi&#x27;, &#x27;military_installations_3mi&#x27;, &#x27;military_installations_5mi&#x27;, &#x27;nces_private_schools_10mi&#x27;, &#x27;nces_private_schools_1mi&#x27;, &#x27;nces_private_schools_2mi&#x27;, &#x27;nces_private_schools_3mi&#x27;, &#x27;nces_private_schools_5mi&#x27;, &#x27;nces_private_schools_nearest_dist&#x27;, &#x27;nces_private_schools_total_enrollment_10mi&#x27;, &#x27;nces_private_schools_total_enrollment_1mi&#x27;, &#x27;nces_private_schools_total_enrollment_2mi&#x27;, &#x27;nces_private_schools_total_enrollment_3mi&#x27;, &#x27;nces_private_schools_total_enrollment_5mi&#x27;, &#x27;nces_public_schools_10mi&#x27;, &#x27;nces_public_schools_1mi&#x27;, &#x27;nces_public_schools_2mi&#x27;, &#x27;nces_public_schools_3mi&#x27;, &#x27;nces_public_schools_5mi&#x27;, &#x27;nces_public_schools_nearest_dist&#x27;, &#x27;nces_public_schools_total_enrollment_10mi&#x27;, &#x27;nces_public_schools_total_enrollment_1mi&#x27;, &#x27;nces_public_schools_total_enrollment_2mi&#x27;, &#x27;nces_public_schools_total_enrollment_3mi&#x27;, &#x27;nces_public_schools_total_enrollment_5mi&#x27;, &#x27;osm_highway_exits_count_10mi&#x27;, &#x27;osm_highway_exits_count_1mi&#x27;, &#x27;osm_highway_exits_count_2mi&#x27;, &#x27;osm_highway_exits_count_3mi&#x27;, &#x27;osm_highway_exits_count_5mi&#x27;, &#x27;osm_nearest_exit_dist&#x27;, &#x27;places_of_worship_10mi&#x27;, &#x27;places_of_worship_1mi&#x27;, &#x27;places_of_worship_2mi&#x27;, &#x27;places_of_worship_3mi&#x27;, &#x27;places_of_worship_5mi&#x27;, &#x27;transitstop_nearest_dist&#x27;, &#x27;transitstops&#x27;, &#x27;age0018_p_10mi&#x27;, &#x27;age0018_p_1mi&#x27;, &#x27;age0018_p_2mi&#x27;, &#x27;age0018_p_3mi&#x27;, &#x27;age0018_p_5mi&#x27;, &#x27;age65pl_p_10mi&#x27;, &#x27;age65pl_p_1mi&#x27;, &#x27;age65pl_p_2mi&#x27;, &#x27;age65pl_p_3mi&#x27;, &#x27;age65pl_p_5mi&#x27;, &#x27;age85pl_p_10mi&#x27;, &#x27;age85pl_p_1mi&#x27;, &#x27;age85pl_p_2mi&#x27;, &#x27;age85pl_p_3mi&#x27;, &#x27;age85pl_p_5mi&#x27;, &#x27;asian_p_10mi&#x27;, &#x27;asian_p_1mi&#x27;, &#x27;asian_p_2mi&#x27;, &#x27;asian_p_3mi&#x27;, &#x27;asian_p_5mi&#x27;, &#x27;avg_faminc_10mi&#x27;, &#x27;avg_faminc_1mi&#x27;, &#x27;avg_faminc_2mi&#x27;, &#x27;avg_faminc_3mi&#x27;, &#x27;avg_faminc_5mi&#x27;, &#x27;avghhinc_10mi&#x27;, &#x27;avghhinc_1mi&#x27;, &#x27;avghhinc_2mi&#x27;, &#x27;avghhinc_3mi&#x27;, &#x27;avghhinc_5mi&#x27;, &#x27;black_p_10mi&#x27;, &#x27;black_p_1mi&#x27;, &#x27;black_p_2mi&#x27;, &#x27;black_p_3mi&#x27;, &#x27;black_p_5mi&#x27;, &#x27;boomer_p_10mi&#x27;, &#x27;boomer_p_1mi&#x27;, &#x27;boomer_p_2mi&#x27;, &#x27;boomer_p_3mi&#x27;, &#x27;boomer_p_5mi&#x27;, &#x27;com0002_p_10mi&#x27;, &#x27;com0002_p_1mi&#x27;, &#x27;com0002_p_2mi&#x27;, &#x27;com0002_p_3mi&#x27;, &#x27;com0002_p_5mi&#x27;, &#x27;com0205_p_10mi&#x27;, &#x27;com0205_p_1mi&#x27;, &#x27;com0205_p_2mi&#x27;, &#x27;com0205_p_3mi&#x27;, &#x27;com0205_p_5mi&#x27;, &#x27;com0508_p_10mi&#x27;, &#x27;com0508_p_1mi&#x27;, &#x27;com0508_p_2mi&#x27;, &#x27;com0508_p_3mi&#x27;, &#x27;com0508_p_5mi&#x27;, &#x27;com0811_p_10mi&#x27;, &#x27;com0811_p_1mi&#x27;, &#x27;com0811_p_2mi&#x27;, &#x27;com0811_p_3mi&#x27;, &#x27;com0811_p_5mi&#x27;, &#x27;com12pl_p_10mi&#x27;, &#x27;com12pl_p_1mi&#x27;, &#x27;com12pl_p_2mi&#x27;, &#x27;com12pl_p_3mi&#x27;, &#x27;com12pl_p_5mi&#x27;, &#x27;crime_total_index_10mi&#x27;, &#x27;crime_total_index_1mi&#x27;, &#x27;crime_total_index_2mi&#x27;, &#x27;crime_total_index_3mi&#x27;, &#x27;crime_total_index_5mi&#x27;, &#x27;daypop_dens_10mi&#x27;, &#x27;daypop_dens_1mi&#x27;, &#x27;daypop_dens_2mi&#x27;, &#x27;daypop_dens_3mi&#x27;, &#x27;daypop_dens_5mi&#x27;, &#x27;disposable_inc_avg_10mi&#x27;, &#x27;disposable_inc_avg_1mi&#x27;, &#x27;disposable_inc_avg_2mi&#x27;, &#x27;disposable_inc_avg_3mi&#x27;, &#x27;disposable_inc_avg_5mi&#x27;, &#x27;dtpop_10mi&#x27;, &#x27;dtpop_1mi&#x27;, &#x27;dtpop_2mi&#x27;, &#x27;dtpop_3mi&#x27;, &#x27;dtpop_5mi&#x27;, &#x27;dtpop_children_at_home_p_10mi&#x27;, &#x27;dtpop_children_at_home_p_1mi&#x27;, &#x27;dtpop_children_at_home_p_2mi&#x27;, &#x27;dtpop_children_at_home_p_3mi&#x27;, &#x27;dtpop_children_at_home_p_5mi&#x27;, &#x27;dtpop_homemakers_p_10mi&#x27;, &#x27;dtpop_homemakers_p_1mi&#x27;, &#x27;dtpop_homemakers_p_2mi&#x27;, &#x27;dtpop_homemakers_p_3mi&#x27;, &#x27;dtpop_homemakers_p_5mi&#x27;, &#x27;dtpop_retired_disabled_p_10mi&#x27;, &#x27;dtpop_retired_disabled_p_1mi&#x27;, &#x27;dtpop_retired_disabled_p_2mi&#x27;, &#x27;dtpop_retired_disabled_p_3mi&#x27;, &#x27;dtpop_retired_disabled_p_5mi&#x27;, &#x27;dtpop_students_9th_12th_p_10mi&#x27;, &#x27;dtpop_students_9th_12th_p_1mi&#x27;, &#x27;dtpop_students_9th_12th_p_2mi&#x27;, &#x27;dtpop_students_9th_12th_p_3mi&#x27;, &#x27;dtpop_students_9th_12th_p_5mi&#x27;, &#x27;dtpop_students_p_10mi&#x27;, &#x27;dtpop_students_p_1mi&#x27;, &#x27;dtpop_students_p_2mi&#x27;, &#x27;dtpop_students_p_3mi&#x27;, &#x27;dtpop_students_p_5mi&#x27;, &#x27;dtpop_students_post_secondary_p_10mi&#x27;, &#x27;dtpop_students_post_secondary_p_1mi&#x27;, &#x27;dtpop_students_post_secondary_p_2mi&#x27;, &#x27;dtpop_students_post_secondary_p_3mi&#x27;, &#x27;dtpop_students_post_secondary_p_5mi&#x27;, &#x27;dtpop_students_prek_8th_p_10mi&#x27;, &#x27;dtpop_students_prek_8th_p_1mi&#x27;, &#x27;dtpop_students_prek_8th_p_2mi&#x27;, &#x27;dtpop_students_prek_8th_p_3mi&#x27;, &#x27;dtpop_students_prek_8th_p_5mi&#x27;, &#x27;dtpop_unemployed_p_10mi&#x27;, &#x27;dtpop_unemployed_p_1mi&#x27;, &#x27;dtpop_unemployed_p_2mi&#x27;, &#x27;dtpop_unemployed_p_3mi&#x27;, &#x27;dtpop_unemployed_p_5mi&#x27;, &#x27;dtpop_work_at_home_p_10mi&#x27;, &#x27;dtpop_work_at_home_p_1mi&#x27;, &#x27;dtpop_work_at_home_p_2mi&#x27;, &#x27;dtpop_work_at_home_p_3mi&#x27;, &#x27;dtpop_work_at_home_p_5mi&#x27;, &#x27;edu_9to12_p_10mi&#x27;, &#x27;edu_9to12_p_1mi&#x27;, &#x27;edu_9to12_p_2mi&#x27;, &#x27;edu_9to12_p_3mi&#x27;, &#x27;edu_9to12_p_5mi&#x27;, &#x27;edu_assocdeg_p_10mi&#x27;, &#x27;edu_assocdeg_p_1mi&#x27;, &#x27;edu_assocdeg_p_2mi&#x27;, &#x27;edu_assocdeg_p_3mi&#x27;, &#x27;edu_assocdeg_p_5mi&#x27;, &#x27;edu_bach_p_10mi&#x27;, &#x27;edu_bach_p_1mi&#x27;, &#x27;edu_bach_p_2mi&#x27;, &#x27;edu_bach_p_3mi&#x27;, &#x27;edu_bach_p_5mi&#x27;, &#x27;edu_bachplus_female_p_10mi&#x27;, &#x27;edu_bachplus_female_p_1mi&#x27;, &#x27;edu_bachplus_female_p_2mi&#x27;, &#x27;edu_bachplus_female_p_3mi&#x27;, &#x27;edu_bachplus_female_p_5mi&#x27;, &#x27;edu_bachplus_male_p_10mi&#x27;, &#x27;edu_bachplus_male_p_1mi&#x27;, &#x27;edu_bachplus_male_p_2mi&#x27;, &#x27;edu_bachplus_male_p_3mi&#x27;, &#x27;edu_bachplus_male_p_5mi&#x27;, &#x27;edu_bachplus_p_10mi&#x27;, &#x27;edu_bachplus_p_1mi&#x27;, &#x27;edu_bachplus_p_2mi&#x27;, &#x27;edu_bachplus_p_3mi&#x27;, &#x27;edu_bachplus_p_5mi&#x27;, &#x27;edu_doctorate_p_10mi&#x27;, &#x27;edu_doctorate_p_1mi&#x27;, &#x27;edu_doctorate_p_2mi&#x27;, &#x27;edu_doctorate_p_3mi&#x27;, &#x27;edu_doctorate_p_5mi&#x27;, &#x27;edu_highsch_p_10mi&#x27;, &#x27;edu_highsch_p_1mi&#x27;, &#x27;edu_highsch_p_2mi&#x27;, &#x27;edu_highsch_p_3mi&#x27;, &#x27;edu_highsch_p_5mi&#x27;, &#x27;edu_lt9_p_10mi&#x27;, &#x27;edu_lt9_p_1mi&#x27;, &#x27;edu_lt9_p_2mi&#x27;, &#x27;edu_lt9_p_3mi&#x27;, &#x27;edu_lt9_p_5mi&#x27;, &#x27;edu_master_p_10mi&#x27;, &#x27;edu_master_p_1mi&#x27;, &#x27;edu_master_p_2mi&#x27;, &#x27;edu_master_p_3mi&#x27;, &#x27;edu_master_p_5mi&#x27;, &#x27;edu_profdeg_p_10mi&#x27;, &#x27;edu_profdeg_p_1mi&#x27;, &#x27;edu_profdeg_p_2mi&#x27;, &#x27;edu_profdeg_p_3mi&#x27;, &#x27;edu_profdeg_p_5mi&#x27;, &#x27;edu_somecollege_p_10mi&#x27;, &#x27;edu_somecollege_p_1mi&#x27;, &#x27;edu_somecollege_p_2mi&#x27;, &#x27;edu_somecollege_p_3mi&#x27;, &#x27;edu_somecollege_p_5mi&#x27;, &#x27;emp_accommodation_foodserv_p_10mi&#x27;, &#x27;emp_accommodation_foodserv_p_1mi&#x27;, &#x27;emp_accommodation_foodserv_p_2mi&#x27;, &#x27;emp_accommodation_foodserv_p_3mi&#x27;, &#x27;emp_accommodation_foodserv_p_5mi&#x27;, &#x27;emp_admin_support_p_10mi&#x27;, &#x27;emp_admin_support_p_1mi&#x27;, &#x27;emp_admin_support_p_2mi&#x27;, &#x27;emp_admin_support_p_3mi&#x27;, &#x27;emp_admin_support_p_5mi&#x27;, &#x27;emp_arts_entertainment_p_10mi&#x27;, &#x27;emp_arts_entertainment_p_1mi&#x27;, &#x27;emp_arts_entertainment_p_2mi&#x27;, &#x27;emp_arts_entertainment_p_3mi&#x27;, &#x27;emp_arts_entertainment_p_5mi&#x27;, &#x27;emp_construction_p_10mi&#x27;, &#x27;emp_construction_p_1mi&#x27;, &#x27;emp_construction_p_2mi&#x27;, &#x27;emp_construction_p_3mi&#x27;, &#x27;emp_construction_p_5mi&#x27;, &#x27;emp_educ_services_p_10mi&#x27;, &#x27;emp_educ_services_p_1mi&#x27;, &#x27;emp_educ_services_p_2mi&#x27;, &#x27;emp_educ_services_p_3mi&#x27;, &#x27;emp_educ_services_p_5mi&#x27;, &#x27;emp_finance_insurance_p_10mi&#x27;, &#x27;emp_finance_insurance_p_1mi&#x27;, &#x27;emp_finance_insurance_p_2mi&#x27;, &#x27;emp_finance_insurance_p_3mi&#x27;, &#x27;emp_finance_insurance_p_5mi&#x27;, &#x27;emp_healthcare_social_assistance_p_10mi&#x27;, &#x27;emp_healthcare_social_assistance_p_1mi&#x27;, &#x27;emp_healthcare_social_assistance_p_2mi&#x27;, &#x27;emp_healthcare_social_assistance_p_3mi&#x27;, &#x27;emp_healthcare_social_assistance_p_5mi&#x27;, &#x27;emp_information_p_10mi&#x27;, &#x27;emp_information_p_1mi&#x27;, &#x27;emp_information_p_2mi&#x27;, &#x27;emp_information_p_3mi&#x27;, &#x27;emp_information_p_5mi&#x27;, &#x27;emp_management_p_10mi&#x27;, &#x27;emp_management_p_1mi&#x27;, &#x27;emp_management_p_2mi&#x27;, &#x27;emp_management_p_3mi&#x27;, &#x27;emp_management_p_5mi&#x27;, &#x27;emp_manfacturing_p_10mi&#x27;, &#x27;emp_manfacturing_p_1mi&#x27;, &#x27;emp_manfacturing_p_2mi&#x27;, &#x27;emp_manfacturing_p_3mi&#x27;, &#x27;emp_manfacturing_p_5mi&#x27;, &#x27;emp_military_10mi&#x27;, &#x27;emp_military_1mi&#x27;, &#x27;emp_military_2mi&#x27;, &#x27;emp_military_3mi&#x27;, &#x27;emp_military_5mi&#x27;, &#x27;emp_mining_p_10mi&#x27;, &#x27;emp_mining_p_1mi&#x27;, &#x27;emp_mining_p_2mi&#x27;, &#x27;emp_mining_p_3mi&#x27;, &#x27;emp_mining_p_5mi&#x27;, &#x27;emp_other_p_10mi&#x27;, &#x27;emp_other_p_1mi&#x27;, &#x27;emp_other_p_2mi&#x27;, &#x27;emp_other_p_3mi&#x27;, &#x27;emp_other_p_5mi&#x27;, &#x27;emp_p_10mi&#x27;, &#x27;emp_p_1mi&#x27;, &#x27;emp_p_2mi&#x27;, &#x27;emp_p_3mi&#x27;, &#x27;emp_p_5mi&#x27;, &#x27;emp_professional_scientific_p_10mi&#x27;, &#x27;emp_professional_scientific_p_1mi&#x27;, &#x27;emp_professional_scientific_p_2mi&#x27;, &#x27;emp_professional_scientific_p_3mi&#x27;, &#x27;emp_professional_scientific_p_5mi&#x27;, &#x27;emp_publicadmin_p_10mi&#x27;, &#x27;emp_publicadmin_p_1mi&#x27;, &#x27;emp_publicadmin_p_2mi&#x27;, &#x27;emp_publicadmin_p_3mi&#x27;, &#x27;emp_publicadmin_p_5mi&#x27;, &#x27;emp_realestate_rentlease_p_10mi&#x27;, &#x27;emp_realestate_rentlease_p_1mi&#x27;, &#x27;emp_realestate_rentlease_p_2mi&#x27;, &#x27;emp_realestate_rentlease_p_3mi&#x27;, &#x27;emp_realestate_rentlease_p_5mi&#x27;, &#x27;emp_retail_trade_p_10mi&#x27;, &#x27;emp_retail_trade_p_1mi&#x27;, &#x27;emp_retail_trade_p_2mi&#x27;, &#x27;emp_retail_trade_p_3mi&#x27;, &#x27;emp_retail_trade_p_5mi&#x27;, &#x27;emp_transportation_storage_p_10mi&#x27;, &#x27;emp_transportation_storage_p_1mi&#x27;, &#x27;emp_transportation_storage_p_2mi&#x27;, &#x27;emp_transportation_storage_p_3mi&#x27;, &#x27;emp_transportation_storage_p_5mi&#x27;, &#x27;emp_unknown_10mi&#x27;, &#x27;emp_unknown_1mi&#x27;, &#x27;emp_unknown_2mi&#x27;, &#x27;emp_unknown_3mi&#x27;, &#x27;emp_unknown_5mi&#x27;, &#x27;emp_utilities_p_10mi&#x27;, &#x27;emp_utilities_p_1mi&#x27;, &#x27;emp_utilities_p_2mi&#x27;, &#x27;emp_utilities_p_3mi&#x27;, &#x27;emp_utilities_p_5mi&#x27;, &#x27;emp_wholesale_trade_p_10mi&#x27;, &#x27;emp_wholesale_trade_p_1mi&#x27;, &#x27;emp_wholesale_trade_p_2mi&#x27;, &#x27;emp_wholesale_trade_p_3mi&#x27;, &#x27;emp_wholesale_trade_p_5mi&#x27;, &#x27;empcy_10mi&#x27;, &#x27;empcy_1mi&#x27;, &#x27;empcy_2mi&#x27;, &#x27;empcy_3mi&#x27;, &#x27;empcy_5mi&#x27;, &#x27;gdp_10mi&#x27;, &#x27;gdp_1mi&#x27;, &#x27;gdp_2mi&#x27;, &#x27;gdp_3mi&#x27;, &#x27;gdp_5mi&#x27;, &#x27;genx_p_10mi&#x27;, &#x27;genx_p_1mi&#x27;, &#x27;genx_p_2mi&#x27;, &#x27;genx_p_3mi&#x27;, &#x27;genx_p_5mi&#x27;, &#x27;genz_p_10mi&#x27;, &#x27;genz_p_1mi&#x27;, &#x27;genz_p_2mi&#x27;, &#x27;genz_p_3mi&#x27;, &#x27;genz_p_5mi&#x27;, &#x27;gq_college_p_10mi&#x27;, &#x27;gq_college_p_1mi&#x27;, &#x27;gq_college_p_2mi&#x27;, &#x27;gq_college_p_3mi&#x27;, &#x27;gq_college_p_5mi&#x27;, &#x27;gq_military_p_10mi&#x27;, &#x27;gq_military_p_1mi&#x27;, &#x27;gq_military_p_2mi&#x27;, &#x27;gq_military_p_3mi&#x27;, &#x27;gq_military_p_5mi&#x27;, &#x27;gq_other_p_10mi&#x27;, &#x27;gq_other_p_1mi&#x27;, &#x27;gq_other_p_2mi&#x27;, &#x27;gq_other_p_3mi&#x27;, &#x27;gq_other_p_5mi&#x27;, &#x27;hh_0vehicle_p_10mi&#x27;, &#x27;hh_0vehicle_p_1mi&#x27;, &#x27;hh_0vehicle_p_2mi&#x27;, &#x27;hh_0vehicle_p_3mi&#x27;, &#x27;hh_0vehicle_p_5mi&#x27;, &#x27;hh_1pers_p_10mi&#x27;, &#x27;hh_1pers_p_1mi&#x27;, &#x27;hh_1pers_p_2mi&#x27;, &#x27;hh_1pers_p_3mi&#x27;, &#x27;hh_1pers_p_5mi&#x27;, &#x27;hh_1vehicle_p_10mi&#x27;, &#x27;hh_1vehicle_p_1mi&#x27;, &#x27;hh_1vehicle_p_2mi&#x27;, &#x27;hh_1vehicle_p_3mi&#x27;, &#x27;hh_1vehicle_p_5mi&#x27;, &#x27;hh_2pers_p_10mi&#x27;, &#x27;hh_2pers_p_1mi&#x27;, &#x27;hh_2pers_p_2mi&#x27;, &#x27;hh_2pers_p_3mi&#x27;, &#x27;hh_2pers_p_5mi&#x27;, &#x27;hh_2vehicle_p_10mi&#x27;, &#x27;hh_2vehicle_p_1mi&#x27;, &#x27;hh_2vehicle_p_2mi&#x27;, &#x27;hh_2vehicle_p_3mi&#x27;, &#x27;hh_2vehicle_p_5mi&#x27;, &#x27;hh_3pers_p_10mi&#x27;, &#x27;hh_3pers_p_1mi&#x27;, &#x27;hh_3pers_p_2mi&#x27;, &#x27;hh_3pers_p_3mi&#x27;, &#x27;hh_3pers_p_5mi&#x27;, &#x27;hh_3vehicle_p_10mi&#x27;, &#x27;hh_3vehicle_p_1mi&#x27;, &#x27;hh_3vehicle_p_2mi&#x27;, &#x27;hh_3vehicle_p_3mi&#x27;, &#x27;hh_3vehicle_p_5mi&#x27;, &#x27;hh_4pers_p_10mi&#x27;, &#x27;hh_4pers_p_1mi&#x27;, &#x27;hh_4pers_p_2mi&#x27;, &#x27;hh_4pers_p_3mi&#x27;, &#x27;hh_4pers_p_5mi&#x27;, &#x27;hh_4vehicle_p_10mi&#x27;, &#x27;hh_4vehicle_p_1mi&#x27;, &#x27;hh_4vehicle_p_2mi&#x27;, &#x27;hh_4vehicle_p_3mi&#x27;, &#x27;hh_4vehicle_p_5mi&#x27;, &#x27;hh_5pers_p_10mi&#x27;, &#x27;hh_5pers_p_1mi&#x27;, &#x27;hh_5pers_p_2mi&#x27;, &#x27;hh_5pers_p_3mi&#x27;, &#x27;hh_5pers_p_5mi&#x27;, &#x27;hh_5vehicle_p_10mi&#x27;, &#x27;hh_5vehicle_p_1mi&#x27;, &#x27;hh_5vehicle_p_2mi&#x27;, &#x27;hh_5vehicle_p_3mi&#x27;, &#x27;hh_5vehicle_p_5mi&#x27;, &#x27;hh_6pers_p_10mi&#x27;, &#x27;hh_6pers_p_1mi&#x27;, &#x27;hh_6pers_p_2mi&#x27;, &#x27;hh_6pers_p_3mi&#x27;, &#x27;hh_6pers_p_5mi&#x27;, &#x27;hh_7pers_p_10mi&#x27;, &#x27;hh_7pers_p_1mi&#x27;, &#x27;hh_7pers_p_2mi&#x27;, &#x27;hh_7pers_p_3mi&#x27;, &#x27;hh_7pers_p_5mi&#x27;, &#x27;hh_dens_10mi&#x27;, &#x27;hh_dens_1mi&#x27;, &#x27;hh_dens_2mi&#x27;, &#x27;hh_dens_3mi&#x27;, &#x27;hh_dens_5mi&#x27;, &#x27;hh_inc_gt_500k_p_10mi&#x27;, &#x27;hh_inc_gt_500k_p_1mi&#x27;, &#x27;hh_inc_gt_500k_p_2mi&#x27;, &#x27;hh_inc_gt_500k_p_3mi&#x27;, &#x27;hh_inc_gt_500k_p_5mi&#x27;, &#x27;hh_inc_gt_75k_p_10mi&#x27;, &#x27;hh_inc_gt_75k_p_1mi&#x27;, &#x27;hh_inc_gt_75k_p_2mi&#x27;, &#x27;hh_inc_gt_75k_p_3mi&#x27;, &#x27;hh_inc_gt_75k_p_5mi&#x27;, &#x27;hh_inc_lt_75k_p_10mi&#x27;, &#x27;hh_inc_lt_75k_p_1mi&#x27;, &#x27;hh_inc_lt_75k_p_2mi&#x27;, &#x27;hh_inc_lt_75k_p_3mi&#x27;, &#x27;hh_inc_lt_75k_p_5mi&#x27;, &#x27;hh_type_1pers_p_10mi&#x27;, &#x27;hh_type_1pers_p_1mi&#x27;, &#x27;hh_type_1pers_p_2mi&#x27;, &#x27;hh_type_1pers_p_3mi&#x27;, &#x27;hh_type_1pers_p_5mi&#x27;, &#x27;hh_type_fam_p_10mi&#x27;, &#x27;hh_type_fam_p_1mi&#x27;, &#x27;hh_type_fam_p_2mi&#x27;, &#x27;hh_type_fam_p_3mi&#x27;, &#x27;hh_type_fam_p_5mi&#x27;, &#x27;hh_type_female_child_p_10mi&#x27;, &#x27;hh_type_female_child_p_1mi&#x27;, &#x27;hh_type_female_child_p_2mi&#x27;, &#x27;hh_type_female_child_p_3mi&#x27;, &#x27;hh_type_female_child_p_5mi&#x27;, &#x27;hh_type_female_nochild_p_10mi&#x27;, &#x27;hh_type_female_nochild_p_1mi&#x27;, &#x27;hh_type_female_nochild_p_2mi&#x27;, &#x27;hh_type_female_nochild_p_3mi&#x27;, &#x27;hh_type_female_nochild_p_5mi&#x27;, &#x27;hh_type_female_p_10mi&#x27;, &#x27;hh_type_female_p_1mi&#x27;, &#x27;hh_type_female_p_2mi&#x27;, &#x27;hh_type_female_p_3mi&#x27;, &#x27;hh_type_female_p_5mi&#x27;, &#x27;hh_type_male_child_p_10mi&#x27;, &#x27;hh_type_male_child_p_1mi&#x27;, &#x27;hh_type_male_child_p_2mi&#x27;, &#x27;hh_type_male_child_p_3mi&#x27;, &#x27;hh_type_male_child_p_5mi&#x27;, &#x27;hh_type_male_nochild_p_10mi&#x27;, &#x27;hh_type_male_nochild_p_1mi&#x27;, &#x27;hh_type_male_nochild_p_2mi&#x27;, &#x27;hh_type_male_nochild_p_3mi&#x27;, &#x27;hh_type_male_nochild_p_5mi&#x27;, &#x27;hh_type_male_p_10mi&#x27;, &#x27;hh_type_male_p_1mi&#x27;, &#x27;hh_type_male_p_2mi&#x27;, &#x27;hh_type_male_p_3mi&#x27;, &#x27;hh_type_male_p_5mi&#x27;, &#x27;hh_type_married_child_p_10mi&#x27;, &#x27;hh_type_married_child_p_1mi&#x27;, &#x27;hh_type_married_child_p_2mi&#x27;, &#x27;hh_type_married_child_p_3mi&#x27;, &#x27;hh_type_married_child_p_5mi&#x27;, &#x27;hh_type_married_nochild_p_10mi&#x27;, &#x27;hh_type_married_nochild_p_1mi&#x27;, &#x27;hh_type_married_nochild_p_2mi&#x27;, &#x27;hh_type_married_nochild_p_3mi&#x27;, &#x27;hh_type_married_nochild_p_5mi&#x27;, &#x27;hh_type_married_p_10mi&#x27;, &#x27;hh_type_married_p_1mi&#x27;, &#x27;hh_type_married_p_2mi&#x27;, &#x27;hh_type_married_p_3mi&#x27;, &#x27;hh_type_married_p_5mi&#x27;, &#x27;hh_type_nonfam_p_10mi&#x27;, &#x27;hh_type_nonfam_p_1mi&#x27;, &#x27;hh_type_nonfam_p_2mi&#x27;, &#x27;hh_type_nonfam_p_3mi&#x27;, &#x27;hh_type_nonfam_p_5mi&#x27;, &#x27;hhcy_10mi&#x27;, &#x27;hhcy_1mi&#x27;, &#x27;hhcy_2mi&#x27;, &#x27;hhcy_3mi&#x27;, &#x27;hhcy_5mi&#x27;, &#x27;hhgrfypy_10mi&#x27;, &#x27;hhgrfypy_1mi&#x27;, &#x27;hhgrfypy_2mi&#x27;, &#x27;hhgrfypy_3mi&#x27;, &#x27;hhgrfypy_5mi&#x27;, &#x27;hhgrpycy_10mi&#x27;, &#x27;hhgrpycy_1mi&#x27;, &#x27;hhgrpycy_2mi&#x27;, &#x27;hhgrpycy_3mi&#x27;, &#x27;hhgrpycy_5mi&#x27;, &#x27;hhinc100pl_p_10mi&#x27;, &#x27;hhinc100pl_p_1mi&#x27;, &#x27;hhinc100pl_p_2mi&#x27;, &#x27;hhinc100pl_p_3mi&#x27;, &#x27;hhinc100pl_p_5mi&#x27;, &#x27;hhinc150pl_p_10mi&#x27;, &#x27;hhinc150pl_p_1mi&#x27;, &#x27;hhinc150pl_p_2mi&#x27;, &#x27;hhinc150pl_p_3mi&#x27;, &#x27;hhinc150pl_p_5mi&#x27;, &#x27;hhinc30lt_p_10mi&#x27;, &#x27;hhinc30lt_p_1mi&#x27;, &#x27;hhinc30lt_p_2mi&#x27;, &#x27;hhinc30lt_p_3mi&#x27;, &#x27;hhinc30lt_p_5mi&#x27;, &#x27;hispanic_p_10mi&#x27;, &#x27;hispanic_p_1mi&#x27;, &#x27;hispanic_p_2mi&#x27;, &#x27;hispanic_p_3mi&#x27;, &#x27;hispanic_p_5mi&#x27;, &#x27;hu_ownerocc_10mi&#x27;, &#x27;hu_ownerocc_1mi&#x27;, &#x27;hu_ownerocc_2mi&#x27;, &#x27;hu_ownerocc_3mi&#x27;, &#x27;hu_ownerocc_5mi&#x27;, &#x27;hu_renterocc_10mi&#x27;, &#x27;hu_renterocc_1mi&#x27;, &#x27;hu_renterocc_2mi&#x27;, &#x27;hu_renterocc_3mi&#x27;, &#x27;hu_renterocc_5mi&#x27;, &#x27;hu_vacant_10mi&#x27;, &#x27;hu_vacant_1mi&#x27;, &#x27;hu_vacant_2mi&#x27;, &#x27;hu_vacant_3mi&#x27;, &#x27;hu_vacant_5mi&#x27;, &#x27;medhhinc_10mi&#x27;, &#x27;medhhinc_1mi_y&#x27;, &#x27;medhhinc_2mi&#x27;, &#x27;medhhinc_3mi&#x27;, &#x27;medhhinc_5mi&#x27;, &#x27;medsalcy_10mi&#x27;, &#x27;medsalcy_1mi&#x27;, &#x27;medsalcy_2mi&#x27;, &#x27;medsalcy_3mi&#x27;, &#x27;medsalcy_5mi&#x27;, &#x27;millenial_p_10mi&#x27;, &#x27;millenial_p_1mi&#x27;, &#x27;millenial_p_2mi&#x27;, &#x27;millenial_p_3mi&#x27;, &#x27;millenial_p_5mi&#x27;, &#x27;mortgage_avgrisk_10mi&#x27;, &#x27;mortgage_avgrisk_1mi&#x27;, &#x27;mortgage_avgrisk_2mi&#x27;, &#x27;mortgage_avgrisk_3mi&#x27;, &#x27;mortgage_avgrisk_5mi&#x27;, &#x27;occ_bc_p_10mi&#x27;, &#x27;occ_bc_p_1mi&#x27;, &#x27;occ_bc_p_2mi&#x27;, &#x27;occ_bc_p_3mi&#x27;, &#x27;occ_bc_p_5mi&#x27;, &#x27;occ_military_p_10mi&#x27;, &#x27;occ_military_p_1mi&#x27;, &#x27;occ_military_p_2mi&#x27;, &#x27;occ_military_p_3mi&#x27;, &#x27;occ_military_p_5mi&#x27;, &#x27;occ_unclassified_p_10mi&#x27;, &#x27;occ_unclassified_p_1mi&#x27;, &#x27;occ_unclassified_p_2mi&#x27;, &#x27;occ_unclassified_p_3mi&#x27;, &#x27;occ_unclassified_p_5mi&#x27;, &#x27;occ_wc_p_10mi&#x27;, &#x27;occ_wc_p_1mi&#x27;, &#x27;occ_wc_p_2mi&#x27;, &#x27;occ_wc_p_3mi&#x27;, &#x27;occ_wc_p_5mi&#x27;, &#x27;occhu_10mi&#x27;, &#x27;occhu_1mi&#x27;, &#x27;occhu_2mi&#x27;, &#x27;occhu_3mi&#x27;, &#x27;occhu_5mi&#x27;, &#x27;other_p_10mi&#x27;, &#x27;other_p_1mi&#x27;, &#x27;other_p_2mi&#x27;, &#x27;other_p_3mi&#x27;, &#x27;other_p_5mi&#x27;, &#x27;percapita_inc_10mi&#x27;, &#x27;percapita_inc_1mi&#x27;, &#x27;percapita_inc_2mi&#x27;, &#x27;percapita_inc_3mi&#x27;, &#x27;percapita_inc_5mi&#x27;, &#x27;pop5y_cagr_10mi&#x27;, &#x27;pop5y_cagr_1mi&#x27;, &#x27;pop5y_cagr_2mi&#x27;, &#x27;pop5y_cagr_3mi&#x27;, &#x27;pop5y_cagr_5mi&#x27;, &#x27;pop_dens_10mi&#x27;, &#x27;pop_dens_1mi&#x27;, &#x27;pop_dens_2mi&#x27;, &#x27;pop_dens_3mi&#x27;, &#x27;pop_dens_5mi&#x27;, &#x27;pop_migration_10mi&#x27;, &#x27;pop_migration_1mi&#x27;, &#x27;pop_migration_2mi&#x27;, &#x27;pop_migration_3mi&#x27;, &#x27;pop_migration_5mi&#x27;, &#x27;pop_seasonal_10mi&#x27;, &#x27;pop_seasonal_1mi&#x27;, &#x27;pop_seasonal_2mi&#x27;, &#x27;pop_seasonal_3mi&#x27;, &#x27;pop_seasonal_5mi&#x27;, &#x27;pop_transient_10mi&#x27;, &#x27;pop_transient_1mi&#x27;, &#x27;pop_transient_2mi&#x27;, &#x27;pop_transient_3mi&#x27;, &#x27;pop_transient_5mi&#x27;, &#x27;popcy_10mi&#x27;, &#x27;popcy_1mi&#x27;, &#x27;popcy_2mi&#x27;, &#x27;popcy_3mi&#x27;, &#x27;popcy_5mi&#x27;, &#x27;popgr10cn_10mi&#x27;, &#x27;popgr10cn_1mi&#x27;, &#x27;popgr10cn_2mi&#x27;, &#x27;popgr10cn_3mi&#x27;, &#x27;popgr10cn_5mi&#x27;, &#x27;popgrfy_10mi&#x27;, &#x27;popgrfy_1mi&#x27;, &#x27;popgrfy_2mi&#x27;, &#x27;popgrfy_3mi&#x27;, &#x27;popgrfy_5mi&#x27;, &#x27;popgrpy_10mi&#x27;, &#x27;popgrpy_1mi&#x27;, &#x27;popgrpy_2mi&#x27;, &#x27;popgrpy_3mi&#x27;, &#x27;popgrpy_5mi&#x27;, &#x27;poverty_inpoverty_p_10mi&#x27;, &#x27;poverty_inpoverty_p_1mi&#x27;, &#x27;poverty_inpoverty_p_2mi&#x27;, &#x27;poverty_inpoverty_p_3mi&#x27;, &#x27;poverty_inpoverty_p_5mi&#x27;, &#x27;spend_breakfastbrunch_10mi&#x27;, &#x27;spend_breakfastbrunch_1mi&#x27;, &#x27;spend_breakfastbrunch_2mi&#x27;, &#x27;spend_breakfastbrunch_3mi&#x27;, &#x27;spend_breakfastbrunch_5mi&#x27;, &#x27;spend_dinner_10mi&#x27;, &#x27;spend_dinner_1mi&#x27;, &#x27;spend_dinner_2mi&#x27;, &#x27;spend_dinner_3mi&#x27;, &#x27;spend_dinner_5mi&#x27;, &#x27;spend_foodbev_10mi&#x27;, &#x27;spend_foodbev_1mi&#x27;, &#x27;spend_foodbev_2mi&#x27;, &#x27;spend_foodbev_3mi&#x27;, &#x27;spend_foodbev_5mi&#x27;, &#x27;spend_lunch_10mi&#x27;, &#x27;spend_lunch_1mi&#x27;, &#x27;spend_lunch_2mi&#x27;, &#x27;spend_lunch_3mi&#x27;, &#x27;spend_lunch_5mi&#x27;, &#x27;wealth_hhavg_10mi&#x27;, &#x27;wealth_hhavg_1mi&#x27;, &#x27;wealth_hhavg_2mi&#x27;, &#x27;wealth_hhavg_3mi&#x27;, &#x27;wealth_hhavg_5mi&#x27;, &#x27;wealth_hhtotal_10mi&#x27;, &#x27;wealth_hhtotal_1mi&#x27;, &#x27;wealth_hhtotal_2mi&#x27;, &#x27;wealth_hhtotal_3mi&#x27;, &#x27;wealth_hhtotal_5mi&#x27;, &#x27;white_p_10mi&#x27;, &#x27;white_p_1mi&#x27;, &#x27;white_p_2mi&#x27;, &#x27;white_p_3mi&#x27;, &#x27;white_p_5mi&#x27;]</pre></div></div></div><div class=\"sk-serial\"><div class=\"sk-item\"><div class=\"sk-estimator sk-toggleable\"><input class=\"sk-toggleable__control sk-hidden--visually\" id=\"sk-estimator-id-423\" type=\"checkbox\" ><label for=\"sk-estimator-id-423\" class=\"sk-toggleable__label sk-toggleable__label-arrow\">StandardScaler</label><div class=\"sk-toggleable__content\"><pre>StandardScaler()</pre></div></div></div></div></div></div><div class=\"sk-parallel-item\"><div class=\"sk-item\"><div class=\"sk-label-container\"><div class=\"sk-label sk-toggleable\"><input class=\"sk-toggleable__control sk-hidden--visually\" id=\"sk-estimator-id-424\" type=\"checkbox\" ><label for=\"sk-estimator-id-424\" class=\"sk-toggleable__label sk-toggleable__label-arrow\">ordinalencoder</label><div class=\"sk-toggleable__content\"><pre>[&#x27;market_size&#x27;, &#x27;store_density&#x27;]</pre></div></div></div><div class=\"sk-serial\"><div class=\"sk-item\"><div class=\"sk-estimator sk-toggleable\"><input class=\"sk-toggleable__control sk-hidden--visually\" id=\"sk-estimator-id-425\" type=\"checkbox\" ><label for=\"sk-estimator-id-425\" class=\"sk-toggleable__label sk-toggleable__label-arrow\">OrdinalEncoder</label><div class=\"sk-toggleable__content\"><pre>OrdinalEncoder(categories=[[&#x27;Small Town (6)&#x27;, &#x27;Small City (5)&#x27;,\n",
       "                            &#x27;Medium City (4)&#x27;, &#x27;Large City (3)&#x27;,\n",
       "                            &#x27;Large Metro (2)&#x27;, &#x27;Very Large Metro (1)&#x27;],\n",
       "                           [&#x27;Rural&#x27;, &#x27;Exurban&#x27;, &#x27;Suburban&#x27;, &#x27;Light Suburban&#x27;,\n",
       "                            &#x27;Light Urban&#x27;, &#x27;Urban&#x27;, &#x27;Super Urban&#x27;]],\n",
       "               dtype=&lt;class &#x27;int&#x27;&gt;)</pre></div></div></div></div></div></div></div></div><div class=\"sk-item sk-dashed-wrapped\"><div class=\"sk-label-container\"><div class=\"sk-label sk-toggleable\"><input class=\"sk-toggleable__control sk-hidden--visually\" id=\"sk-estimator-id-426\" type=\"checkbox\" ><label for=\"sk-estimator-id-426\" class=\"sk-toggleable__label sk-toggleable__label-arrow\">selectfrommodel: SelectFromModel</label><div class=\"sk-toggleable__content\"><pre>SelectFromModel(estimator=Lasso(alpha=2e-05, fit_intercept=False,\n",
       "                                max_iter=10000, random_state=42, tol=0.0005))</pre></div></div></div><div class=\"sk-parallel\"><div class=\"sk-parallel-item\"><div class=\"sk-item\"><div class=\"sk-label-container\"><div class=\"sk-label sk-toggleable\"><input class=\"sk-toggleable__control sk-hidden--visually\" id=\"sk-estimator-id-427\" type=\"checkbox\" ><label for=\"sk-estimator-id-427\" class=\"sk-toggleable__label sk-toggleable__label-arrow\">estimator: Lasso</label><div class=\"sk-toggleable__content\"><pre>Lasso(alpha=2e-05, fit_intercept=False, max_iter=10000, random_state=42,\n",
       "      tol=0.0005)</pre></div></div></div><div class=\"sk-serial\"><div class=\"sk-item\"><div class=\"sk-estimator sk-toggleable\"><input class=\"sk-toggleable__control sk-hidden--visually\" id=\"sk-estimator-id-428\" type=\"checkbox\" ><label for=\"sk-estimator-id-428\" class=\"sk-toggleable__label sk-toggleable__label-arrow\">Lasso</label><div class=\"sk-toggleable__content\"><pre>Lasso(alpha=2e-05, fit_intercept=False, max_iter=10000, random_state=42,\n",
       "      tol=0.0005)</pre></div></div></div></div></div></div></div></div><div class=\"sk-item sk-dashed-wrapped\"><div class=\"sk-label-container\"><div class=\"sk-label sk-toggleable\"><input class=\"sk-toggleable__control sk-hidden--visually\" id=\"sk-estimator-id-429\" type=\"checkbox\" ><label for=\"sk-estimator-id-429\" class=\"sk-toggleable__label sk-toggleable__label-arrow\">onevsrestclassifier: OneVsRestClassifier</label><div class=\"sk-toggleable__content\"><pre>OneVsRestClassifier(estimator=RandomForestClassifier(max_depth=5,\n",
       "                                                     max_leaf_nodes=50,\n",
       "                                                     min_samples_leaf=20,\n",
       "                                                     min_samples_split=20,\n",
       "                                                     n_jobs=-1,\n",
       "                                                     random_state=42))</pre></div></div></div><div class=\"sk-parallel\"><div class=\"sk-parallel-item\"><div class=\"sk-item\"><div class=\"sk-label-container\"><div class=\"sk-label sk-toggleable\"><input class=\"sk-toggleable__control sk-hidden--visually\" id=\"sk-estimator-id-430\" type=\"checkbox\" ><label for=\"sk-estimator-id-430\" class=\"sk-toggleable__label sk-toggleable__label-arrow\">estimator: RandomForestClassifier</label><div class=\"sk-toggleable__content\"><pre>RandomForestClassifier(max_depth=5, max_leaf_nodes=50, min_samples_leaf=20,\n",
       "                       min_samples_split=20, n_jobs=-1, random_state=42)</pre></div></div></div><div class=\"sk-serial\"><div class=\"sk-item\"><div class=\"sk-estimator sk-toggleable\"><input class=\"sk-toggleable__control sk-hidden--visually\" id=\"sk-estimator-id-431\" type=\"checkbox\" ><label for=\"sk-estimator-id-431\" class=\"sk-toggleable__label sk-toggleable__label-arrow\">RandomForestClassifier</label><div class=\"sk-toggleable__content\"><pre>RandomForestClassifier(max_depth=5, max_leaf_nodes=50, min_samples_leaf=20,\n",
       "                       min_samples_split=20, n_jobs=-1, random_state=42)</pre></div></div></div></div></div></div></div></div></div></div></div></div>"
      ],
      "text/plain": [
       "Pipeline(steps=[('columntransformer',\n",
       "                 ColumnTransformer(transformers=[('standardscaler',\n",
       "                                                  StandardScaler(),\n",
       "                                                  ['age0018_p_ta',\n",
       "                                                   'age65pl_p_ta',\n",
       "                                                   'age85pl_p_ta', 'asian_p_ta',\n",
       "                                                   'avg_faminc_ta',\n",
       "                                                   'avghhinc_ta', 'black_p_ta',\n",
       "                                                   'boomer_p_ta',\n",
       "                                                   'com0002_p_ta',\n",
       "                                                   'com0205_p_ta',\n",
       "                                                   'com0508_p_ta',\n",
       "                                                   'com0811_p_ta',\n",
       "                                                   'com12pl_p_ta',\n",
       "                                                   'crime_total_index_ta',\n",
       "                                                   'daypop_dens_ta',\n",
       "                                                   'disposable_inc...\n",
       "                                                                 dtype=<class 'int'>),\n",
       "                                                  ['market_size',\n",
       "                                                   'store_density'])])),\n",
       "                ('selectfrommodel',\n",
       "                 SelectFromModel(estimator=Lasso(alpha=2e-05,\n",
       "                                                 fit_intercept=False,\n",
       "                                                 max_iter=10000,\n",
       "                                                 random_state=42,\n",
       "                                                 tol=0.0005))),\n",
       "                ('onevsrestclassifier',\n",
       "                 OneVsRestClassifier(estimator=RandomForestClassifier(max_depth=5,\n",
       "                                                                      max_leaf_nodes=50,\n",
       "                                                                      min_samples_leaf=20,\n",
       "                                                                      min_samples_split=20,\n",
       "                                                                      n_jobs=-1,\n",
       "                                                                      random_state=42)))])"
      ]
     },
     "execution_count": 482,
     "metadata": {},
     "output_type": "execute_result"
    }
   ],
   "source": [
    "lasso_rf_ovr = make_pipeline(\n",
    "    preprocessor,\n",
    "    SelectFromModel(\n",
    "        # Lasso(alpha=0.00002, fit_intercept=False, precompute=False, \n",
    "        # tol=0.00001, random_state=42, selection='cyclic', max_iter=10000)\n",
    "        Lasso(alpha=0.00002, fit_intercept=False, precompute=False, \n",
    "        tol=0.0005, random_state=42, selection='cyclic', max_iter=10000)\n",
    "        # lasso_search.best_estimator_.named_steps['lasso']\n",
    "    ),\n",
    "    OneVsRestClassifier(\n",
    "        # RandomForestClassifier(n_estimators=400, max_depth=20, max_leaf_nodes=30, class_weight=None, \n",
    "        #                        min_samples_leaf=10, min_samples_split=10, n_jobs=-1, random_state=42)\n",
    "        rf_grid_search_best_est\n",
    "    )\n",
    ")\n",
    "lasso_rf_ovr.fit(X_train, y_train)"
   ]
  },
  {
   "cell_type": "code",
   "execution_count": 484,
   "id": "6111218c",
   "metadata": {},
   "outputs": [
    {
     "name": "stdout",
     "output_type": "stream",
     "text": [
      "Training set score: 0.69\n",
      "Test set score: 0.66\n"
     ]
    }
   ],
   "source": [
    "print(\"Training set score: {:.2f}\".format(lasso_rf_ovr.score(X_train, y_train)))\n",
    "print(\"Test set score: {:.2f}\".format(lasso_rf_ovr.score(X_test, y_test)))"
   ]
  },
  {
   "cell_type": "code",
   "execution_count": 487,
   "id": "5a492f71",
   "metadata": {},
   "outputs": [],
   "source": [
    "ridge_rf_ovr = make_pipeline(\n",
    "    preprocessor,\n",
    "    SelectFromModel(\n",
    "        Ridge(alpha=0.0009, fit_intercept=False, solver='auto', #positive=True,\n",
    "        tol=0.001, random_state=42, max_iter=20000)\n",
    "    ),\n",
    "    OneVsRestClassifier(\n",
    "        # RandomForestClassifier(n_estimators=100, max_depth=30, max_leaf_nodes=30, class_weight=None, \n",
    "        #                        min_samples_leaf=10, min_samples_split=30, n_jobs=-1, random_state=42)\n",
    "        rf_grid_search_best_est\n",
    "    )\n",
    ")\n",
    "ridge_rf_ovr.fit(X_train, y_train);"
   ]
  },
  {
   "cell_type": "code",
   "execution_count": 488,
   "id": "13a3c729",
   "metadata": {},
   "outputs": [
    {
     "name": "stdout",
     "output_type": "stream",
     "text": [
      "Training set score: 0.67\n",
      "Test set score: 0.65\n"
     ]
    }
   ],
   "source": [
    "print(\"Training set score: {:.2f}\".format(ridge_rf_ovr.score(X_train, y_train)))\n",
    "print(\"Test set score: {:.2f}\".format(ridge_rf_ovr.score(X_test, y_test)))"
   ]
  },
  {
   "attachments": {},
   "cell_type": "markdown",
   "id": "2de97a59-e9d7-4a40-a929-483b3c335617",
   "metadata": {},
   "source": [
    "## Build Random Forest Models"
   ]
  },
  {
   "attachments": {},
   "cell_type": "markdown",
   "id": "753c3a1c-2802-4bc1-b952-82683a04e69b",
   "metadata": {},
   "source": [
    "### Basic RF model"
   ]
  },
  {
   "cell_type": "code",
   "execution_count": 29,
   "id": "328e42c0-12a9-4a43-85e0-28bb420dbbc6",
   "metadata": {},
   "outputs": [],
   "source": [
    "pipe_rf = make_pipeline(\n",
    "    preprocessor,\n",
    "    RandomForestClassifier(n_jobs=-1, random_state=42)\n",
    ")\n",
    "rf_param_grid = {\n",
    "    \"randomforestclassifier__n_estimators\": [25, 50, 100, 150],\n",
    "    \"randomforestclassifier__max_depth\": [5, 10, 20, 30],\n",
    "    \"randomforestclassifier__max_leaf_nodes\": [30, 50, 70],\n",
    "    \"randomforestclassifier__min_samples_leaf\": [10, 20, 30, 40, 50],\n",
    "    \"randomforestclassifier__min_samples_split\": [10, 20, 30],\n",
    "    \"randomforestclassifier__class_weight\": [None, \"balanced\", class_weight]\n",
    "}\n",
    "rf_grid_search = RandomizedSearchCV(\n",
    "    pipe_rf, rf_param_grid, n_iter=30, cv=5, n_jobs=-1, return_train_score=True\n",
    ")\n",
    "rf_grid_search.fit(X_train, y_train);"
   ]
  },
  {
   "cell_type": "code",
   "execution_count": 32,
   "id": "2a51f22d",
   "metadata": {},
   "outputs": [
    {
     "data": {
      "text/html": [
       "<style>#sk-container-id-3 {color: black;background-color: white;}#sk-container-id-3 pre{padding: 0;}#sk-container-id-3 div.sk-toggleable {background-color: white;}#sk-container-id-3 label.sk-toggleable__label {cursor: pointer;display: block;width: 100%;margin-bottom: 0;padding: 0.3em;box-sizing: border-box;text-align: center;}#sk-container-id-3 label.sk-toggleable__label-arrow:before {content: \"▸\";float: left;margin-right: 0.25em;color: #696969;}#sk-container-id-3 label.sk-toggleable__label-arrow:hover:before {color: black;}#sk-container-id-3 div.sk-estimator:hover label.sk-toggleable__label-arrow:before {color: black;}#sk-container-id-3 div.sk-toggleable__content {max-height: 0;max-width: 0;overflow: hidden;text-align: left;background-color: #f0f8ff;}#sk-container-id-3 div.sk-toggleable__content pre {margin: 0.2em;color: black;border-radius: 0.25em;background-color: #f0f8ff;}#sk-container-id-3 input.sk-toggleable__control:checked~div.sk-toggleable__content {max-height: 200px;max-width: 100%;overflow: auto;}#sk-container-id-3 input.sk-toggleable__control:checked~label.sk-toggleable__label-arrow:before {content: \"▾\";}#sk-container-id-3 div.sk-estimator input.sk-toggleable__control:checked~label.sk-toggleable__label {background-color: #d4ebff;}#sk-container-id-3 div.sk-label input.sk-toggleable__control:checked~label.sk-toggleable__label {background-color: #d4ebff;}#sk-container-id-3 input.sk-hidden--visually {border: 0;clip: rect(1px 1px 1px 1px);clip: rect(1px, 1px, 1px, 1px);height: 1px;margin: -1px;overflow: hidden;padding: 0;position: absolute;width: 1px;}#sk-container-id-3 div.sk-estimator {font-family: monospace;background-color: #f0f8ff;border: 1px dotted black;border-radius: 0.25em;box-sizing: border-box;margin-bottom: 0.5em;}#sk-container-id-3 div.sk-estimator:hover {background-color: #d4ebff;}#sk-container-id-3 div.sk-parallel-item::after {content: \"\";width: 100%;border-bottom: 1px solid gray;flex-grow: 1;}#sk-container-id-3 div.sk-label:hover label.sk-toggleable__label {background-color: #d4ebff;}#sk-container-id-3 div.sk-serial::before {content: \"\";position: absolute;border-left: 1px solid gray;box-sizing: border-box;top: 0;bottom: 0;left: 50%;z-index: 0;}#sk-container-id-3 div.sk-serial {display: flex;flex-direction: column;align-items: center;background-color: white;padding-right: 0.2em;padding-left: 0.2em;position: relative;}#sk-container-id-3 div.sk-item {position: relative;z-index: 1;}#sk-container-id-3 div.sk-parallel {display: flex;align-items: stretch;justify-content: center;background-color: white;position: relative;}#sk-container-id-3 div.sk-item::before, #sk-container-id-3 div.sk-parallel-item::before {content: \"\";position: absolute;border-left: 1px solid gray;box-sizing: border-box;top: 0;bottom: 0;left: 50%;z-index: -1;}#sk-container-id-3 div.sk-parallel-item {display: flex;flex-direction: column;z-index: 1;position: relative;background-color: white;}#sk-container-id-3 div.sk-parallel-item:first-child::after {align-self: flex-end;width: 50%;}#sk-container-id-3 div.sk-parallel-item:last-child::after {align-self: flex-start;width: 50%;}#sk-container-id-3 div.sk-parallel-item:only-child::after {width: 0;}#sk-container-id-3 div.sk-dashed-wrapped {border: 1px dashed gray;margin: 0 0.4em 0.5em 0.4em;box-sizing: border-box;padding-bottom: 0.4em;background-color: white;}#sk-container-id-3 div.sk-label label {font-family: monospace;font-weight: bold;display: inline-block;line-height: 1.2em;}#sk-container-id-3 div.sk-label-container {text-align: center;}#sk-container-id-3 div.sk-container {/* jupyter's `normalize.less` sets `[hidden] { display: none; }` but bootstrap.min.css set `[hidden] { display: none !important; }` so we also need the `!important` here to be able to override the default hidden behavior on the sphinx rendered scikit-learn.org. See: https://github.com/scikit-learn/scikit-learn/issues/21755 */display: inline-block !important;position: relative;}#sk-container-id-3 div.sk-text-repr-fallback {display: none;}</style><div id=\"sk-container-id-3\" class=\"sk-top-container\"><div class=\"sk-text-repr-fallback\"><pre>RandomForestClassifier(max_depth=5, max_leaf_nodes=50, min_samples_leaf=20,\n",
       "                       min_samples_split=20, n_jobs=-1, random_state=42)</pre><b>In a Jupyter environment, please rerun this cell to show the HTML representation or trust the notebook. <br />On GitHub, the HTML representation is unable to render, please try loading this page with nbviewer.org.</b></div><div class=\"sk-container\" hidden><div class=\"sk-item\"><div class=\"sk-estimator sk-toggleable\"><input class=\"sk-toggleable__control sk-hidden--visually\" id=\"sk-estimator-id-9\" type=\"checkbox\" checked><label for=\"sk-estimator-id-9\" class=\"sk-toggleable__label sk-toggleable__label-arrow\">RandomForestClassifier</label><div class=\"sk-toggleable__content\"><pre>RandomForestClassifier(max_depth=5, max_leaf_nodes=50, min_samples_leaf=20,\n",
       "                       min_samples_split=20, n_jobs=-1, random_state=42)</pre></div></div></div></div></div>"
      ],
      "text/plain": [
       "RandomForestClassifier(max_depth=5, max_leaf_nodes=50, min_samples_leaf=20,\n",
       "                       min_samples_split=20, n_jobs=-1, random_state=42)"
      ]
     },
     "execution_count": 32,
     "metadata": {},
     "output_type": "execute_result"
    }
   ],
   "source": [
    "rf_grid_search_best_est = rf_grid_search.best_estimator_.named_steps['randomforestclassifier']\n",
    "rf_grid_search_best_est"
   ]
  },
  {
   "cell_type": "code",
   "execution_count": null,
   "id": "b1b1cd9a-85f9-4665-825b-f4f46ea2419d",
   "metadata": {},
   "outputs": [],
   "source": [
    "# pd.DataFrame(rf_grid_search.cv_results_)[\n",
    "#     [\n",
    "#         \"param_randomforestclassifier__n_estimators\",\n",
    "#         \"param_randomforestclassifier__max_depth\",\n",
    "#         \"param_randomforestclassifier__max_leaf_nodes\",\n",
    "#         \"param_randomforestclassifier__min_samples_leaf\",\n",
    "#         \"param_randomforestclassifier__min_samples_split\",\n",
    "#         \"param_randomforestclassifier__class_weight\",\n",
    "#         \"mean_fit_time\",\n",
    "#         \"rank_test_score\",\n",
    "#         \"mean_test_score\",\n",
    "#     ]\n",
    "# ].set_index(\"rank_test_score\").sort_index().head(10)"
   ]
  },
  {
   "cell_type": "code",
   "execution_count": 35,
   "id": "cf74220d",
   "metadata": {},
   "outputs": [],
   "source": [
    "rf_tuned_base = make_pipeline(\n",
    "    preprocessor,\n",
    "    rf_grid_search_best_est\n",
    ")\n",
    "rf_tuned_base.fit(X_train, y_train);"
   ]
  },
  {
   "cell_type": "code",
   "execution_count": 36,
   "id": "6f2181b7",
   "metadata": {},
   "outputs": [
    {
     "data": {
      "text/plain": [
       "0.6265912305516266"
      ]
     },
     "execution_count": 36,
     "metadata": {},
     "output_type": "execute_result"
    }
   ],
   "source": [
    "rf_tuned_base.score(X_train, y_train)"
   ]
  },
  {
   "cell_type": "code",
   "execution_count": 37,
   "id": "6fe28e20",
   "metadata": {},
   "outputs": [
    {
     "data": {
      "text/plain": [
       "0.6075949367088608"
      ]
     },
     "execution_count": 37,
     "metadata": {},
     "output_type": "execute_result"
    }
   ],
   "source": [
    "rf_tuned_base.score(X_test, y_test)"
   ]
  },
  {
   "cell_type": "code",
   "execution_count": 43,
   "id": "0afcc694",
   "metadata": {},
   "outputs": [],
   "source": [
    "prediction_result[\"Random Forest(Base)\"] = rf_tuned_base.predict(X_test)"
   ]
  },
  {
   "cell_type": "code",
   "execution_count": 38,
   "id": "c12ec5bb-15d3-4f76-a977-5aa4e4928dc5",
   "metadata": {},
   "outputs": [],
   "source": [
    "rf_tuned = make_pipeline(\n",
    "    preprocessor,\n",
    "    RandomForestClassifier(n_estimators=100, max_depth=30, max_leaf_nodes=30, class_weight=class_weight, \n",
    "                           min_samples_leaf=10, min_samples_split=30, n_jobs=-1, random_state=42)\n",
    ")\n",
    "rf_tuned.fit(X_train, y_train);"
   ]
  },
  {
   "cell_type": "code",
   "execution_count": 39,
   "id": "6b9805cb-1fd7-4508-a8f3-49f7f270c11c",
   "metadata": {},
   "outputs": [
    {
     "data": {
      "text/plain": [
       "0.7157001414427157"
      ]
     },
     "execution_count": 39,
     "metadata": {},
     "output_type": "execute_result"
    }
   ],
   "source": [
    "rf_tuned.score(X_train, y_train)"
   ]
  },
  {
   "cell_type": "code",
   "execution_count": 40,
   "id": "cd8177ae-dc0b-46d0-a07f-c261c1892d78",
   "metadata": {},
   "outputs": [
    {
     "data": {
      "text/plain": [
       "0.5443037974683544"
      ]
     },
     "execution_count": 40,
     "metadata": {},
     "output_type": "execute_result"
    }
   ],
   "source": [
    "rf_tuned.score(X_test, y_test)"
   ]
  },
  {
   "cell_type": "code",
   "execution_count": 41,
   "id": "e8bc7c54-517b-45ed-9473-1fe857d6e94f",
   "metadata": {},
   "outputs": [],
   "source": [
    "prediction_result[\"Random Forest\"] = rf_tuned.predict(X_test)"
   ]
  },
  {
   "cell_type": "code",
   "execution_count": 44,
   "id": "e2e897a5",
   "metadata": {},
   "outputs": [
    {
     "data": {
      "text/html": [
       "<div>\n",
       "<style scoped>\n",
       "    .dataframe tbody tr th:only-of-type {\n",
       "        vertical-align: middle;\n",
       "    }\n",
       "\n",
       "    .dataframe tbody tr th {\n",
       "        vertical-align: top;\n",
       "    }\n",
       "\n",
       "    .dataframe thead th {\n",
       "        text-align: right;\n",
       "    }\n",
       "</style>\n",
       "<table border=\"1\" class=\"dataframe\">\n",
       "  <thead>\n",
       "    <tr style=\"text-align: right;\">\n",
       "      <th></th>\n",
       "      <th>True label</th>\n",
       "      <th>Logistic Regression (OVR)</th>\n",
       "      <th>Logistic Regression (multinomial)</th>\n",
       "      <th>Random Forest</th>\n",
       "      <th>Random Forest(Base)</th>\n",
       "    </tr>\n",
       "  </thead>\n",
       "  <tbody>\n",
       "    <tr>\n",
       "      <th>763</th>\n",
       "      <td>2</td>\n",
       "      <td>0</td>\n",
       "      <td>0</td>\n",
       "      <td>0</td>\n",
       "      <td>0</td>\n",
       "    </tr>\n",
       "    <tr>\n",
       "      <th>39</th>\n",
       "      <td>0</td>\n",
       "      <td>0</td>\n",
       "      <td>0</td>\n",
       "      <td>0</td>\n",
       "      <td>0</td>\n",
       "    </tr>\n",
       "    <tr>\n",
       "      <th>214</th>\n",
       "      <td>0</td>\n",
       "      <td>0</td>\n",
       "      <td>0</td>\n",
       "      <td>0</td>\n",
       "      <td>0</td>\n",
       "    </tr>\n",
       "    <tr>\n",
       "      <th>202</th>\n",
       "      <td>0</td>\n",
       "      <td>4</td>\n",
       "      <td>4</td>\n",
       "      <td>0</td>\n",
       "      <td>0</td>\n",
       "    </tr>\n",
       "    <tr>\n",
       "      <th>239</th>\n",
       "      <td>4</td>\n",
       "      <td>4</td>\n",
       "      <td>4</td>\n",
       "      <td>0</td>\n",
       "      <td>2</td>\n",
       "    </tr>\n",
       "    <tr>\n",
       "      <th>...</th>\n",
       "      <td>...</td>\n",
       "      <td>...</td>\n",
       "      <td>...</td>\n",
       "      <td>...</td>\n",
       "      <td>...</td>\n",
       "    </tr>\n",
       "    <tr>\n",
       "      <th>716</th>\n",
       "      <td>2</td>\n",
       "      <td>2</td>\n",
       "      <td>4</td>\n",
       "      <td>4</td>\n",
       "      <td>4</td>\n",
       "    </tr>\n",
       "    <tr>\n",
       "      <th>333</th>\n",
       "      <td>2</td>\n",
       "      <td>0</td>\n",
       "      <td>0</td>\n",
       "      <td>2</td>\n",
       "      <td>2</td>\n",
       "    </tr>\n",
       "    <tr>\n",
       "      <th>238</th>\n",
       "      <td>0</td>\n",
       "      <td>2</td>\n",
       "      <td>2</td>\n",
       "      <td>0</td>\n",
       "      <td>0</td>\n",
       "    </tr>\n",
       "    <tr>\n",
       "      <th>615</th>\n",
       "      <td>0</td>\n",
       "      <td>0</td>\n",
       "      <td>0</td>\n",
       "      <td>0</td>\n",
       "      <td>0</td>\n",
       "    </tr>\n",
       "    <tr>\n",
       "      <th>369</th>\n",
       "      <td>0</td>\n",
       "      <td>0</td>\n",
       "      <td>0</td>\n",
       "      <td>0</td>\n",
       "      <td>0</td>\n",
       "    </tr>\n",
       "  </tbody>\n",
       "</table>\n",
       "<p>79 rows × 5 columns</p>\n",
       "</div>"
      ],
      "text/plain": [
       "     True label  Logistic Regression (OVR)  Logistic Regression (multinomial)  \\\n",
       "763           2                          0                                  0   \n",
       "39            0                          0                                  0   \n",
       "214           0                          0                                  0   \n",
       "202           0                          4                                  4   \n",
       "239           4                          4                                  4   \n",
       "..          ...                        ...                                ...   \n",
       "716           2                          2                                  4   \n",
       "333           2                          0                                  0   \n",
       "238           0                          2                                  2   \n",
       "615           0                          0                                  0   \n",
       "369           0                          0                                  0   \n",
       "\n",
       "     Random Forest  Random Forest(Base)  \n",
       "763              0                    0  \n",
       "39               0                    0  \n",
       "214              0                    0  \n",
       "202              0                    0  \n",
       "239              0                    2  \n",
       "..             ...                  ...  \n",
       "716              4                    4  \n",
       "333              2                    2  \n",
       "238              0                    0  \n",
       "615              0                    0  \n",
       "369              0                    0  \n",
       "\n",
       "[79 rows x 5 columns]"
      ]
     },
     "execution_count": 44,
     "metadata": {},
     "output_type": "execute_result"
    }
   ],
   "source": [
    "prediction_result"
   ]
  },
  {
   "cell_type": "code",
   "execution_count": 45,
   "id": "98466ee4-4d7c-46ea-9dc4-c94756ff45eb",
   "metadata": {},
   "outputs": [],
   "source": [
    "# Takes long time to run\n",
    "\n",
    "rf_ovr_test = make_pipeline(\n",
    "    preprocessor,\n",
    "    SelectFromModel(\n",
    "        LogisticRegression(C=0.15, penalty=\"l2\", random_state=42, solver=\"saga\", max_iter=10000, multi_class=\"ovr\", \n",
    "                           n_jobs=-1, class_weight=class_weight)\n",
    "    ),\n",
    "    RandomForestClassifier(n_estimators=100, max_depth=30, max_leaf_nodes=30, class_weight=\"balanced\", \n",
    "                           min_samples_leaf=10, min_samples_split=30, n_jobs=-1, random_state=42)\n",
    ")\n",
    "rf_param_grid = {\n",
    "    \"randomforestclassifier__n_estimators\": [25, 50, 100, 150],\n",
    "    # \"randomforestclassifier__max_features\": [\"sqrt\", \"log2\", None],\n",
    "    \"randomforestclassifier__max_features\": [5, 10, 15, 20, 30],\n",
    "    \"randomforestclassifier__max_depth\": [5, 10, 20, 30],\n",
    "    \"randomforestclassifier__max_leaf_nodes\": [30, 50, 70],\n",
    "    \"randomforestclassifier__min_samples_leaf\": [10, 20, 30, 40, 50],\n",
    "    \"randomforestclassifier__min_samples_split\": [10, 20, 30, 40],\n",
    "    \"randomforestclassifier__class_weight\": [None, \"balanced\", class_weight]\n",
    "}\n",
    "rf_ovr_search = RandomizedSearchCV(\n",
    "    rf_ovr_test, rf_param_grid, n_iter=30, cv=5, n_jobs=-1, random_state=42\n",
    ")"
   ]
  },
  {
   "cell_type": "code",
   "execution_count": 46,
   "id": "1f42504a-4afe-4ae9-97db-b63b104859bc",
   "metadata": {},
   "outputs": [],
   "source": [
    "rf_ovr_search.fit(X_train, y_train);"
   ]
  },
  {
   "cell_type": "code",
   "execution_count": null,
   "id": "f2b493c4-2371-460a-a197-497ff926d189",
   "metadata": {},
   "outputs": [],
   "source": [
    "# pd.DataFrame(rf_ovr_search.cv_results_)[\n",
    "#     [\n",
    "#         \"param_randomforestclassifier__n_estimators\",\n",
    "#         \"param_randomforestclassifier__max_features\",\n",
    "#         \"param_randomforestclassifier__max_depth\",\n",
    "#         \"param_randomforestclassifier__max_leaf_nodes\",\n",
    "#         \"param_randomforestclassifier__min_samples_leaf\",\n",
    "#         \"param_randomforestclassifier__min_samples_split\",\n",
    "#         \"param_randomforestclassifier__class_weight\",\n",
    "#         \"mean_fit_time\",\n",
    "#         \"rank_test_score\",\n",
    "#         \"mean_test_score\",\n",
    "#     ]\n",
    "# ].set_index(\"rank_test_score\").sort_values(by=\"mean_test_score\", ascending=False)"
   ]
  },
  {
   "cell_type": "code",
   "execution_count": 47,
   "id": "56af9987-0948-46f8-92b0-9e4c6d107935",
   "metadata": {},
   "outputs": [
    {
     "data": {
      "text/plain": [
       "{'randomforestclassifier__n_estimators': 100,\n",
       " 'randomforestclassifier__min_samples_split': 10,\n",
       " 'randomforestclassifier__min_samples_leaf': 10,\n",
       " 'randomforestclassifier__max_leaf_nodes': 70,\n",
       " 'randomforestclassifier__max_features': 30,\n",
       " 'randomforestclassifier__max_depth': 20,\n",
       " 'randomforestclassifier__class_weight': 'balanced'}"
      ]
     },
     "execution_count": 47,
     "metadata": {},
     "output_type": "execute_result"
    }
   ],
   "source": [
    "rf_ovr_search.best_params_"
   ]
  },
  {
   "cell_type": "code",
   "execution_count": 48,
   "id": "a9c76b6b-360c-4ffe-9b51-f9ab1429b611",
   "metadata": {},
   "outputs": [
    {
     "data": {
      "text/plain": [
       "0.8557284299858557"
      ]
     },
     "execution_count": 48,
     "metadata": {},
     "output_type": "execute_result"
    }
   ],
   "source": [
    "rf_ovr_search.score(X_train, y_train)"
   ]
  },
  {
   "cell_type": "code",
   "execution_count": 49,
   "id": "e4902b0e-2368-42b0-af5d-2e4368f4455b",
   "metadata": {},
   "outputs": [
    {
     "data": {
      "text/plain": [
       "0.620253164556962"
      ]
     },
     "execution_count": 49,
     "metadata": {},
     "output_type": "execute_result"
    }
   ],
   "source": [
    "rf_ovr_search.score(X_test, y_test)"
   ]
  },
  {
   "attachments": {},
   "cell_type": "markdown",
   "id": "974e5827-7fd5-409b-b0fb-317b29433332",
   "metadata": {},
   "source": [
    "### RandomForest with regularization using LogisticRegression"
   ]
  },
  {
   "cell_type": "code",
   "execution_count": 50,
   "id": "89f2d32b-5ff1-47e8-9061-fa4cc243a2f8",
   "metadata": {},
   "outputs": [],
   "source": [
    "pipe_lr_rf = make_pipeline(\n",
    "    preprocessor,\n",
    "    SelectFromModel(\n",
    "        LogisticRegression(C=0.15, penalty=\"l2\", random_state=42, solver=\"saga\", max_iter=10000, multi_class=\"ovr\", \n",
    "                           n_jobs=-1, class_weight=class_weight)\n",
    "    ),\n",
    "    RandomForestClassifier(n_estimators=100, max_depth=20, max_leaf_nodes=70, class_weight=class_weight, \n",
    "                           min_samples_leaf=10, min_samples_split=30, n_jobs=-1, random_state=42)\n",
    ")\n",
    "pipe_lr_rf.fit(X_train, y_train);"
   ]
  },
  {
   "cell_type": "code",
   "execution_count": 51,
   "id": "d761f59e-c14b-4c05-af08-12960a2aff83",
   "metadata": {},
   "outputs": [
    {
     "data": {
      "text/plain": [
       "0.7171145685997171"
      ]
     },
     "execution_count": 51,
     "metadata": {},
     "output_type": "execute_result"
    }
   ],
   "source": [
    "pipe_lr_rf.score(X_train, y_train)"
   ]
  },
  {
   "cell_type": "code",
   "execution_count": 52,
   "id": "686aae3b-8393-4678-b09c-9799cf914451",
   "metadata": {},
   "outputs": [
    {
     "data": {
      "text/plain": [
       "0.569620253164557"
      ]
     },
     "execution_count": 52,
     "metadata": {},
     "output_type": "execute_result"
    }
   ],
   "source": [
    "pipe_lr_rf.score(X_test, y_test)"
   ]
  },
  {
   "cell_type": "code",
   "execution_count": 53,
   "id": "e0b352d7-1369-4ef2-aa84-49fc76eddd7c",
   "metadata": {},
   "outputs": [],
   "source": [
    "prediction_result[\"Random Forest (L2 reg with LR)\"] = pipe_lr_rf.predict(X_test)"
   ]
  },
  {
   "cell_type": "code",
   "execution_count": null,
   "id": "2221d0ab-7da8-4245-be2c-5112344ed5b5",
   "metadata": {},
   "outputs": [],
   "source": [
    "# pipe_lr_rf_test = make_pipeline(\n",
    "#     preprocessor,\n",
    "#     SelectFromModel(\n",
    "#         LogisticRegression(C=0.15, penalty=\"l2\", random_state=42, solver=\"saga\", max_iter=10000, multi_class=\"ovr\", \n",
    "#                            n_jobs=-1, class_weight=class_weight)\n",
    "#     ),\n",
    "#     RandomForestClassifier(n_estimators=100, max_depth=20, max_leaf_nodes=70, class_weight=class_weight, \n",
    "#                            min_samples_leaf=10, min_samples_split=30, n_jobs=-1, random_state=42)\n",
    "# )"
   ]
  },
  {
   "cell_type": "code",
   "execution_count": 54,
   "id": "58863632-e724-4829-8a9e-05463a95ce94",
   "metadata": {},
   "outputs": [],
   "source": [
    "lr_rf_param = {\n",
    "    \"selectfrommodel__estimator__C\": [0.1, 0.15, 0.2, 0.3, 0.4],\n",
    "    \"selectfrommodel__estimator__penalty\": [\"l1\", \"l2\"],\n",
    "    \"selectfrommodel__estimator__multi_class\": [\"ovr\", \"multinomial\"],\n",
    "    \"selectfrommodel__estimator__class_weight\": [None, \"balanced\", class_weight]\n",
    "}\n",
    "lr_rf_search = RandomizedSearchCV(\n",
    "    pipe_lr_rf, lr_rf_param, n_iter=30, cv=5, n_jobs=-1, random_state=42\n",
    ")\n",
    "lr_rf_search.fit(X_train, y_train);"
   ]
  },
  {
   "cell_type": "code",
   "execution_count": 55,
   "id": "bb7c1075-b4c1-4428-8345-2ee1ea862213",
   "metadata": {},
   "outputs": [
    {
     "data": {
      "text/html": [
       "<div>\n",
       "<style scoped>\n",
       "    .dataframe tbody tr th:only-of-type {\n",
       "        vertical-align: middle;\n",
       "    }\n",
       "\n",
       "    .dataframe tbody tr th {\n",
       "        vertical-align: top;\n",
       "    }\n",
       "\n",
       "    .dataframe thead th {\n",
       "        text-align: right;\n",
       "    }\n",
       "</style>\n",
       "<table border=\"1\" class=\"dataframe\">\n",
       "  <thead>\n",
       "    <tr style=\"text-align: right;\">\n",
       "      <th></th>\n",
       "      <th>param_selectfrommodel__estimator__C</th>\n",
       "      <th>param_selectfrommodel__estimator__penalty</th>\n",
       "      <th>param_selectfrommodel__estimator__multi_class</th>\n",
       "      <th>param_selectfrommodel__estimator__class_weight</th>\n",
       "      <th>mean_fit_time</th>\n",
       "      <th>mean_test_score</th>\n",
       "    </tr>\n",
       "    <tr>\n",
       "      <th>rank_test_score</th>\n",
       "      <th></th>\n",
       "      <th></th>\n",
       "      <th></th>\n",
       "      <th></th>\n",
       "      <th></th>\n",
       "      <th></th>\n",
       "    </tr>\n",
       "  </thead>\n",
       "  <tbody>\n",
       "    <tr>\n",
       "      <th>1</th>\n",
       "      <td>0.2</td>\n",
       "      <td>l1</td>\n",
       "      <td>multinomial</td>\n",
       "      <td>{0: 0.24, 1: 0.16, 2: 0.22, 3: 0.15, 4: 0.23}</td>\n",
       "      <td>42.314941</td>\n",
       "      <td>0.469573</td>\n",
       "    </tr>\n",
       "    <tr>\n",
       "      <th>2</th>\n",
       "      <td>0.1</td>\n",
       "      <td>l2</td>\n",
       "      <td>ovr</td>\n",
       "      <td>{0: 0.24, 1: 0.16, 2: 0.22, 3: 0.15, 4: 0.23}</td>\n",
       "      <td>14.685809</td>\n",
       "      <td>0.469553</td>\n",
       "    </tr>\n",
       "    <tr>\n",
       "      <th>3</th>\n",
       "      <td>0.4</td>\n",
       "      <td>l1</td>\n",
       "      <td>ovr</td>\n",
       "      <td>{0: 0.24, 1: 0.16, 2: 0.22, 3: 0.15, 4: 0.23}</td>\n",
       "      <td>34.242780</td>\n",
       "      <td>0.466717</td>\n",
       "    </tr>\n",
       "    <tr>\n",
       "      <th>4</th>\n",
       "      <td>0.15</td>\n",
       "      <td>l2</td>\n",
       "      <td>multinomial</td>\n",
       "      <td>balanced</td>\n",
       "      <td>18.643862</td>\n",
       "      <td>0.461123</td>\n",
       "    </tr>\n",
       "    <tr>\n",
       "      <th>5</th>\n",
       "      <td>0.2</td>\n",
       "      <td>l2</td>\n",
       "      <td>multinomial</td>\n",
       "      <td>balanced</td>\n",
       "      <td>20.258965</td>\n",
       "      <td>0.459704</td>\n",
       "    </tr>\n",
       "    <tr>\n",
       "      <th>6</th>\n",
       "      <td>0.15</td>\n",
       "      <td>l2</td>\n",
       "      <td>ovr</td>\n",
       "      <td>None</td>\n",
       "      <td>22.785199</td>\n",
       "      <td>0.459674</td>\n",
       "    </tr>\n",
       "    <tr>\n",
       "      <th>7</th>\n",
       "      <td>0.15</td>\n",
       "      <td>l1</td>\n",
       "      <td>ovr</td>\n",
       "      <td>None</td>\n",
       "      <td>52.136794</td>\n",
       "      <td>0.459654</td>\n",
       "    </tr>\n",
       "    <tr>\n",
       "      <th>8</th>\n",
       "      <td>0.4</td>\n",
       "      <td>l1</td>\n",
       "      <td>multinomial</td>\n",
       "      <td>{0: 0.24, 1: 0.16, 2: 0.22, 3: 0.15, 4: 0.23}</td>\n",
       "      <td>45.146192</td>\n",
       "      <td>0.458246</td>\n",
       "    </tr>\n",
       "    <tr>\n",
       "      <th>9</th>\n",
       "      <td>0.1</td>\n",
       "      <td>l1</td>\n",
       "      <td>ovr</td>\n",
       "      <td>None</td>\n",
       "      <td>67.790766</td>\n",
       "      <td>0.458216</td>\n",
       "    </tr>\n",
       "    <tr>\n",
       "      <th>10</th>\n",
       "      <td>0.3</td>\n",
       "      <td>l2</td>\n",
       "      <td>ovr</td>\n",
       "      <td>{0: 0.24, 1: 0.16, 2: 0.22, 3: 0.15, 4: 0.23}</td>\n",
       "      <td>29.568501</td>\n",
       "      <td>0.456887</td>\n",
       "    </tr>\n",
       "  </tbody>\n",
       "</table>\n",
       "</div>"
      ],
      "text/plain": [
       "                param_selectfrommodel__estimator__C  \\\n",
       "rank_test_score                                       \n",
       "1                                               0.2   \n",
       "2                                               0.1   \n",
       "3                                               0.4   \n",
       "4                                              0.15   \n",
       "5                                               0.2   \n",
       "6                                              0.15   \n",
       "7                                              0.15   \n",
       "8                                               0.4   \n",
       "9                                               0.1   \n",
       "10                                              0.3   \n",
       "\n",
       "                param_selectfrommodel__estimator__penalty  \\\n",
       "rank_test_score                                             \n",
       "1                                                      l1   \n",
       "2                                                      l2   \n",
       "3                                                      l1   \n",
       "4                                                      l2   \n",
       "5                                                      l2   \n",
       "6                                                      l2   \n",
       "7                                                      l1   \n",
       "8                                                      l1   \n",
       "9                                                      l1   \n",
       "10                                                     l2   \n",
       "\n",
       "                param_selectfrommodel__estimator__multi_class  \\\n",
       "rank_test_score                                                 \n",
       "1                                                 multinomial   \n",
       "2                                                         ovr   \n",
       "3                                                         ovr   \n",
       "4                                                 multinomial   \n",
       "5                                                 multinomial   \n",
       "6                                                         ovr   \n",
       "7                                                         ovr   \n",
       "8                                                 multinomial   \n",
       "9                                                         ovr   \n",
       "10                                                        ovr   \n",
       "\n",
       "                param_selectfrommodel__estimator__class_weight  mean_fit_time  \\\n",
       "rank_test_score                                                                 \n",
       "1                {0: 0.24, 1: 0.16, 2: 0.22, 3: 0.15, 4: 0.23}      42.314941   \n",
       "2                {0: 0.24, 1: 0.16, 2: 0.22, 3: 0.15, 4: 0.23}      14.685809   \n",
       "3                {0: 0.24, 1: 0.16, 2: 0.22, 3: 0.15, 4: 0.23}      34.242780   \n",
       "4                                                     balanced      18.643862   \n",
       "5                                                     balanced      20.258965   \n",
       "6                                                         None      22.785199   \n",
       "7                                                         None      52.136794   \n",
       "8                {0: 0.24, 1: 0.16, 2: 0.22, 3: 0.15, 4: 0.23}      45.146192   \n",
       "9                                                         None      67.790766   \n",
       "10               {0: 0.24, 1: 0.16, 2: 0.22, 3: 0.15, 4: 0.23}      29.568501   \n",
       "\n",
       "                 mean_test_score  \n",
       "rank_test_score                   \n",
       "1                       0.469573  \n",
       "2                       0.469553  \n",
       "3                       0.466717  \n",
       "4                       0.461123  \n",
       "5                       0.459704  \n",
       "6                       0.459674  \n",
       "7                       0.459654  \n",
       "8                       0.458246  \n",
       "9                       0.458216  \n",
       "10                      0.456887  "
      ]
     },
     "execution_count": 55,
     "metadata": {},
     "output_type": "execute_result"
    }
   ],
   "source": [
    "pd.DataFrame(lr_rf_search.cv_results_)[\n",
    "    [\n",
    "        \"param_selectfrommodel__estimator__C\",\n",
    "        \"param_selectfrommodel__estimator__penalty\",\n",
    "        \"param_selectfrommodel__estimator__multi_class\",\n",
    "        \"param_selectfrommodel__estimator__class_weight\",\n",
    "        \"mean_fit_time\",\n",
    "        \"rank_test_score\",\n",
    "        \"mean_test_score\",\n",
    "    ]\n",
    "].set_index(\"rank_test_score\").sort_index().head(10)"
   ]
  },
  {
   "cell_type": "code",
   "execution_count": 56,
   "id": "947b44ee-e0fa-44b3-9c42-6f9a26981b7c",
   "metadata": {},
   "outputs": [
    {
     "data": {
      "text/plain": [
       "0.6676096181046676"
      ]
     },
     "execution_count": 56,
     "metadata": {},
     "output_type": "execute_result"
    }
   ],
   "source": [
    "lr_rf_search.score(X_train, y_train)"
   ]
  },
  {
   "cell_type": "code",
   "execution_count": 57,
   "id": "bb150bb7-52b4-4421-b592-a7b9941e9952",
   "metadata": {},
   "outputs": [
    {
     "data": {
      "text/plain": [
       "0.5949367088607594"
      ]
     },
     "execution_count": 57,
     "metadata": {},
     "output_type": "execute_result"
    }
   ],
   "source": [
    "lr_rf_search.score(X_test, y_test)"
   ]
  },
  {
   "cell_type": "code",
   "execution_count": 58,
   "id": "02a51167-6b40-464c-bbca-cc9e0520cb97",
   "metadata": {},
   "outputs": [],
   "source": [
    "lr_rf_l1 = make_pipeline(\n",
    "    preprocessor,\n",
    "    SelectFromModel(\n",
    "        LogisticRegression(C=0.1, penalty=\"l1\", random_state=42, solver=\"saga\", max_iter=10000, multi_class=\"ovr\", \n",
    "                           n_jobs=-1, class_weight=None)\n",
    "    ),\n",
    "    RandomForestClassifier(n_estimators=100, max_depth=20, max_leaf_nodes=70, class_weight=class_weight, \n",
    "                           min_samples_leaf=10, min_samples_split=30, n_jobs=-1, random_state=42)\n",
    ")\n",
    "lr_rf_l1.fit(X_train, y_train);"
   ]
  },
  {
   "cell_type": "code",
   "execution_count": 59,
   "id": "59bef65d-aec1-4974-bfd8-b7d9aa301c1c",
   "metadata": {},
   "outputs": [
    {
     "name": "stdout",
     "output_type": "stream",
     "text": [
      "0.693069306930693\n",
      "0.5949367088607594\n"
     ]
    }
   ],
   "source": [
    "print(lr_rf_l1.score(X_train, y_train))\n",
    "print(lr_rf_l1.score(X_test, y_test))"
   ]
  },
  {
   "cell_type": "code",
   "execution_count": 60,
   "id": "775f826c-1a72-4095-8fff-ac987b5a1338",
   "metadata": {},
   "outputs": [],
   "source": [
    "prediction_result[\"Random Forest (L1 reg with LR)\"] = lr_rf_l1.predict(X_test)"
   ]
  },
  {
   "cell_type": "code",
   "execution_count": 61,
   "id": "87e3b932-0ef7-47f2-b575-0d61ca269406",
   "metadata": {},
   "outputs": [],
   "source": [
    "pipe_lr_rf_rank2 = make_pipeline(\n",
    "    preprocessor,\n",
    "    SelectFromModel(\n",
    "        LogisticRegression(C=0.4, penalty=\"l1\", random_state=42, solver=\"saga\", max_iter=10000, multi_class=\"multinomial\", \n",
    "                           n_jobs=-1, class_weight=class_weight)\n",
    "    ),\n",
    "    RandomForestClassifier(n_estimators=100, max_depth=20, max_leaf_nodes=70, class_weight=class_weight, \n",
    "                           min_samples_leaf=10, min_samples_split=30, n_jobs=-1, random_state=42)\n",
    ")\n",
    "pipe_lr_rf_rank2.fit(X_train, y_train);"
   ]
  },
  {
   "cell_type": "code",
   "execution_count": 62,
   "id": "7a403c7e-ca36-440d-91b2-b0329ad21801",
   "metadata": {},
   "outputs": [
    {
     "name": "stdout",
     "output_type": "stream",
     "text": [
      "0.6973125884016973\n",
      "0.5569620253164557\n"
     ]
    }
   ],
   "source": [
    "print(pipe_lr_rf_rank2.score(X_train, y_train))\n",
    "print(pipe_lr_rf_rank2.score(X_test, y_test))"
   ]
  },
  {
   "attachments": {},
   "cell_type": "markdown",
   "id": "b3d2eadc-064c-441c-b1aa-d1d355db8ff9",
   "metadata": {},
   "source": [
    "**Second best set of parameters do not lead to better result. Just use the best set of parameters.**"
   ]
  },
  {
   "attachments": {},
   "cell_type": "markdown",
   "id": "212c6ad0-3ac5-4d79-84df-78a6d6f9cd6a",
   "metadata": {},
   "source": [
    "### Random Forest with OVR and regularization using LogisticRegression"
   ]
  },
  {
   "cell_type": "code",
   "execution_count": 63,
   "id": "0ec38f65-8721-4ec3-bdcc-25841cce34f8",
   "metadata": {},
   "outputs": [],
   "source": [
    "lr_rf_ovr = make_pipeline(\n",
    "    preprocessor,\n",
    "    SelectFromModel(\n",
    "        LogisticRegression(C=0.15, penalty=\"l2\", random_state=42, solver=\"saga\", max_iter=10000, multi_class=\"ovr\", \n",
    "                           n_jobs=-1, class_weight=class_weight)\n",
    "    ),\n",
    "    OneVsRestClassifier(\n",
    "        RandomForestClassifier(n_estimators=100, max_depth=30, max_leaf_nodes=30, class_weight=None, \n",
    "                               min_samples_leaf=10, min_samples_split=30, n_jobs=-1, random_state=42)\n",
    "    )\n",
    ")"
   ]
  },
  {
   "cell_type": "code",
   "execution_count": 64,
   "id": "7fd48ec1-3288-4a21-a248-34f7ee6c0dbd",
   "metadata": {},
   "outputs": [],
   "source": [
    "lr_rf_ovr_search = RandomizedSearchCV(\n",
    "    lr_rf_ovr, lr_rf_param, n_iter=30, cv=5, n_jobs=-1, random_state=42\n",
    ")\n",
    "lr_rf_ovr_search.fit(X_train, y_train);"
   ]
  },
  {
   "cell_type": "code",
   "execution_count": 65,
   "id": "ac32f6bf-9054-4f6d-93cb-2bfd02f79dd5",
   "metadata": {},
   "outputs": [
    {
     "data": {
      "text/html": [
       "<div>\n",
       "<style scoped>\n",
       "    .dataframe tbody tr th:only-of-type {\n",
       "        vertical-align: middle;\n",
       "    }\n",
       "\n",
       "    .dataframe tbody tr th {\n",
       "        vertical-align: top;\n",
       "    }\n",
       "\n",
       "    .dataframe thead th {\n",
       "        text-align: right;\n",
       "    }\n",
       "</style>\n",
       "<table border=\"1\" class=\"dataframe\">\n",
       "  <thead>\n",
       "    <tr style=\"text-align: right;\">\n",
       "      <th></th>\n",
       "      <th>param_selectfrommodel__estimator__C</th>\n",
       "      <th>param_selectfrommodel__estimator__penalty</th>\n",
       "      <th>param_selectfrommodel__estimator__multi_class</th>\n",
       "      <th>param_selectfrommodel__estimator__class_weight</th>\n",
       "      <th>mean_fit_time</th>\n",
       "      <th>mean_test_score</th>\n",
       "    </tr>\n",
       "    <tr>\n",
       "      <th>rank_test_score</th>\n",
       "      <th></th>\n",
       "      <th></th>\n",
       "      <th></th>\n",
       "      <th></th>\n",
       "      <th></th>\n",
       "      <th></th>\n",
       "    </tr>\n",
       "  </thead>\n",
       "  <tbody>\n",
       "    <tr>\n",
       "      <th>1</th>\n",
       "      <td>0.3</td>\n",
       "      <td>l2</td>\n",
       "      <td>ovr</td>\n",
       "      <td>{0: 0.24, 1: 0.16, 2: 0.22, 3: 0.15, 4: 0.23}</td>\n",
       "      <td>29.951961</td>\n",
       "      <td>0.497872</td>\n",
       "    </tr>\n",
       "    <tr>\n",
       "      <th>2</th>\n",
       "      <td>0.4</td>\n",
       "      <td>l1</td>\n",
       "      <td>multinomial</td>\n",
       "      <td>{0: 0.24, 1: 0.16, 2: 0.22, 3: 0.15, 4: 0.23}</td>\n",
       "      <td>44.621645</td>\n",
       "      <td>0.497852</td>\n",
       "    </tr>\n",
       "    <tr>\n",
       "      <th>3</th>\n",
       "      <td>0.4</td>\n",
       "      <td>l2</td>\n",
       "      <td>ovr</td>\n",
       "      <td>{0: 0.24, 1: 0.16, 2: 0.22, 3: 0.15, 4: 0.23}</td>\n",
       "      <td>20.464391</td>\n",
       "      <td>0.495045</td>\n",
       "    </tr>\n",
       "    <tr>\n",
       "      <th>4</th>\n",
       "      <td>0.3</td>\n",
       "      <td>l1</td>\n",
       "      <td>multinomial</td>\n",
       "      <td>{0: 0.24, 1: 0.16, 2: 0.22, 3: 0.15, 4: 0.23}</td>\n",
       "      <td>33.234358</td>\n",
       "      <td>0.492179</td>\n",
       "    </tr>\n",
       "    <tr>\n",
       "      <th>5</th>\n",
       "      <td>0.1</td>\n",
       "      <td>l1</td>\n",
       "      <td>ovr</td>\n",
       "      <td>balanced</td>\n",
       "      <td>27.674880</td>\n",
       "      <td>0.485176</td>\n",
       "    </tr>\n",
       "    <tr>\n",
       "      <th>6</th>\n",
       "      <td>0.4</td>\n",
       "      <td>l1</td>\n",
       "      <td>ovr</td>\n",
       "      <td>{0: 0.24, 1: 0.16, 2: 0.22, 3: 0.15, 4: 0.23}</td>\n",
       "      <td>34.347968</td>\n",
       "      <td>0.482339</td>\n",
       "    </tr>\n",
       "    <tr>\n",
       "      <th>7</th>\n",
       "      <td>0.2</td>\n",
       "      <td>l2</td>\n",
       "      <td>ovr</td>\n",
       "      <td>None</td>\n",
       "      <td>17.754153</td>\n",
       "      <td>0.482309</td>\n",
       "    </tr>\n",
       "    <tr>\n",
       "      <th>8</th>\n",
       "      <td>0.2</td>\n",
       "      <td>l2</td>\n",
       "      <td>ovr</td>\n",
       "      <td>{0: 0.24, 1: 0.16, 2: 0.22, 3: 0.15, 4: 0.23}</td>\n",
       "      <td>25.093369</td>\n",
       "      <td>0.482299</td>\n",
       "    </tr>\n",
       "    <tr>\n",
       "      <th>9</th>\n",
       "      <td>0.1</td>\n",
       "      <td>l2</td>\n",
       "      <td>ovr</td>\n",
       "      <td>{0: 0.24, 1: 0.16, 2: 0.22, 3: 0.15, 4: 0.23}</td>\n",
       "      <td>15.177449</td>\n",
       "      <td>0.482279</td>\n",
       "    </tr>\n",
       "    <tr>\n",
       "      <th>10</th>\n",
       "      <td>0.1</td>\n",
       "      <td>l2</td>\n",
       "      <td>multinomial</td>\n",
       "      <td>None</td>\n",
       "      <td>22.485967</td>\n",
       "      <td>0.479533</td>\n",
       "    </tr>\n",
       "  </tbody>\n",
       "</table>\n",
       "</div>"
      ],
      "text/plain": [
       "                param_selectfrommodel__estimator__C  \\\n",
       "rank_test_score                                       \n",
       "1                                               0.3   \n",
       "2                                               0.4   \n",
       "3                                               0.4   \n",
       "4                                               0.3   \n",
       "5                                               0.1   \n",
       "6                                               0.4   \n",
       "7                                               0.2   \n",
       "8                                               0.2   \n",
       "9                                               0.1   \n",
       "10                                              0.1   \n",
       "\n",
       "                param_selectfrommodel__estimator__penalty  \\\n",
       "rank_test_score                                             \n",
       "1                                                      l2   \n",
       "2                                                      l1   \n",
       "3                                                      l2   \n",
       "4                                                      l1   \n",
       "5                                                      l1   \n",
       "6                                                      l1   \n",
       "7                                                      l2   \n",
       "8                                                      l2   \n",
       "9                                                      l2   \n",
       "10                                                     l2   \n",
       "\n",
       "                param_selectfrommodel__estimator__multi_class  \\\n",
       "rank_test_score                                                 \n",
       "1                                                         ovr   \n",
       "2                                                 multinomial   \n",
       "3                                                         ovr   \n",
       "4                                                 multinomial   \n",
       "5                                                         ovr   \n",
       "6                                                         ovr   \n",
       "7                                                         ovr   \n",
       "8                                                         ovr   \n",
       "9                                                         ovr   \n",
       "10                                                multinomial   \n",
       "\n",
       "                param_selectfrommodel__estimator__class_weight  mean_fit_time  \\\n",
       "rank_test_score                                                                 \n",
       "1                {0: 0.24, 1: 0.16, 2: 0.22, 3: 0.15, 4: 0.23}      29.951961   \n",
       "2                {0: 0.24, 1: 0.16, 2: 0.22, 3: 0.15, 4: 0.23}      44.621645   \n",
       "3                {0: 0.24, 1: 0.16, 2: 0.22, 3: 0.15, 4: 0.23}      20.464391   \n",
       "4                {0: 0.24, 1: 0.16, 2: 0.22, 3: 0.15, 4: 0.23}      33.234358   \n",
       "5                                                     balanced      27.674880   \n",
       "6                {0: 0.24, 1: 0.16, 2: 0.22, 3: 0.15, 4: 0.23}      34.347968   \n",
       "7                                                         None      17.754153   \n",
       "8                {0: 0.24, 1: 0.16, 2: 0.22, 3: 0.15, 4: 0.23}      25.093369   \n",
       "9                {0: 0.24, 1: 0.16, 2: 0.22, 3: 0.15, 4: 0.23}      15.177449   \n",
       "10                                                        None      22.485967   \n",
       "\n",
       "                 mean_test_score  \n",
       "rank_test_score                   \n",
       "1                       0.497872  \n",
       "2                       0.497852  \n",
       "3                       0.495045  \n",
       "4                       0.492179  \n",
       "5                       0.485176  \n",
       "6                       0.482339  \n",
       "7                       0.482309  \n",
       "8                       0.482299  \n",
       "9                       0.482279  \n",
       "10                      0.479533  "
      ]
     },
     "execution_count": 65,
     "metadata": {},
     "output_type": "execute_result"
    }
   ],
   "source": [
    "pd.DataFrame(lr_rf_ovr_search.cv_results_)[\n",
    "    [\n",
    "        \"param_selectfrommodel__estimator__C\",\n",
    "        \"param_selectfrommodel__estimator__penalty\",\n",
    "        \"param_selectfrommodel__estimator__multi_class\",\n",
    "        \"param_selectfrommodel__estimator__class_weight\",\n",
    "        \"mean_fit_time\",\n",
    "        \"rank_test_score\",\n",
    "        \"mean_test_score\",\n",
    "    ]\n",
    "].set_index(\"rank_test_score\").sort_values(by=\"mean_test_score\", ascending=False).head(10)"
   ]
  },
  {
   "cell_type": "code",
   "execution_count": 66,
   "id": "239f102a-2186-4443-aab9-3506cfb4fb45",
   "metadata": {},
   "outputs": [
    {
     "data": {
      "text/plain": [
       "0.8132956152758133"
      ]
     },
     "execution_count": 66,
     "metadata": {},
     "output_type": "execute_result"
    }
   ],
   "source": [
    "lr_rf_ovr_search.score(X_train, y_train)"
   ]
  },
  {
   "cell_type": "code",
   "execution_count": 67,
   "id": "48aeefe3-d3fd-45cf-aacf-3848e32f689d",
   "metadata": {},
   "outputs": [
    {
     "data": {
      "text/plain": [
       "0.6075949367088608"
      ]
     },
     "execution_count": 67,
     "metadata": {},
     "output_type": "execute_result"
    }
   ],
   "source": [
    "lr_rf_ovr_search.score(X_test, y_test)"
   ]
  },
  {
   "cell_type": "code",
   "execution_count": 68,
   "id": "e3db8fc7-17e4-45a5-8ede-43ec3eb30b1e",
   "metadata": {},
   "outputs": [],
   "source": [
    "lr_rf_ovr = make_pipeline(\n",
    "    preprocessor,\n",
    "    SelectFromModel(\n",
    "        LogisticRegression(C=0.15, penalty=\"l1\", random_state=42, solver=\"saga\", max_iter=10000, multi_class=\"multinomial\", \n",
    "                           n_jobs=-1, class_weight=None)\n",
    "    ),\n",
    "    OneVsRestClassifier(\n",
    "        RandomForestClassifier(n_estimators=100, max_depth=30, max_leaf_nodes=30, class_weight=None, \n",
    "                               min_samples_leaf=10, min_samples_split=30, n_jobs=-1, random_state=42)\n",
    "    )\n",
    ")\n",
    "lr_rf_ovr.fit(X_train, y_train);"
   ]
  },
  {
   "cell_type": "code",
   "execution_count": 69,
   "id": "25bd2701-7e18-4243-b193-f1a41c2a7c5d",
   "metadata": {},
   "outputs": [
    {
     "name": "stdout",
     "output_type": "stream",
     "text": [
      "0.8203677510608204\n",
      "0.5949367088607594\n"
     ]
    }
   ],
   "source": [
    "print(lr_rf_ovr.score(X_train, y_train))\n",
    "print(lr_rf_ovr.score(X_test, y_test))"
   ]
  },
  {
   "cell_type": "code",
   "execution_count": 70,
   "id": "1c314364-995e-4c2a-813d-65e21ec3dbf6",
   "metadata": {},
   "outputs": [],
   "source": [
    "prediction_result[\"Random Forest (OVR with L1 reg using LR)\"] = lr_rf_ovr.predict(X_test)"
   ]
  },
  {
   "cell_type": "code",
   "execution_count": 71,
   "id": "61f1cbbc-ca2d-4d8b-a934-b265c6138c3d",
   "metadata": {},
   "outputs": [],
   "source": [
    "rf_ovr = make_pipeline(\n",
    "    preprocessor,\n",
    "    OneVsRestClassifier(\n",
    "        RandomForestClassifier(n_estimators=100, max_depth=30, max_leaf_nodes=30, class_weight=\"balanced\", \n",
    "                           min_samples_leaf=10, min_samples_split=30, n_jobs=-1, random_state=42)\n",
    "    )\n",
    ")\n",
    "rf_ovr.fit(X_train, y_train);"
   ]
  },
  {
   "cell_type": "code",
   "execution_count": 72,
   "id": "741cbff8-95ab-4307-ad4a-6cb99f2ed3ec",
   "metadata": {},
   "outputs": [
    {
     "data": {
      "text/plain": [
       "0.8925035360678925"
      ]
     },
     "execution_count": 72,
     "metadata": {},
     "output_type": "execute_result"
    }
   ],
   "source": [
    "rf_ovr.score(X_train, y_train)"
   ]
  },
  {
   "cell_type": "code",
   "execution_count": 73,
   "id": "ef50b52d-4863-4ffa-aa59-a9abe6ebd412",
   "metadata": {},
   "outputs": [
    {
     "data": {
      "text/plain": [
       "0.6075949367088608"
      ]
     },
     "execution_count": 73,
     "metadata": {},
     "output_type": "execute_result"
    }
   ],
   "source": [
    "rf_ovr.score(X_test, y_test)"
   ]
  },
  {
   "cell_type": "code",
   "execution_count": 74,
   "id": "888c1d5c-fe85-427c-aa0b-e5faeb53fa7a",
   "metadata": {},
   "outputs": [],
   "source": [
    "prediction_result[\"rf_ovr\"] = rf_ovr.predict(X_test)"
   ]
  },
  {
   "attachments": {},
   "cell_type": "markdown",
   "id": "037730c8-6afe-488d-9637-c89ab4c233c2",
   "metadata": {},
   "source": [
    "## LGBM Model - Poor score, won't use"
   ]
  },
  {
   "cell_type": "code",
   "execution_count": 75,
   "id": "74e12717-6f8c-4b73-8520-6370506e9657",
   "metadata": {},
   "outputs": [],
   "source": [
    "pipe_lgbm_ovr = make_pipeline(\n",
    "    preprocessor,\n",
    "    OneVsRestClassifier(\n",
    "        LGBMClassifier(random_state=42, n_jobs=-1)\n",
    "    )\n",
    ")\n",
    "param_lgbm = {\n",
    "    \"onevsrestclassifier__estimator__n_estimators\": [50, 100, 150, 200],\n",
    "    \"onevsrestclassifier__estimator__boosting_type\": [\"gbdt\", \"dart\"],\n",
    "    \"onevsrestclassifier__estimator__learning_rate\": [0.1, 0.3, 0.5, 0.7],\n",
    "    \"onevsrestclassifier__estimator__max_depth\": [5, 10, 15, 20],\n",
    "    \"onevsrestclassifier__estimator__reg_alpha\": [0.1, 0.3, 0.5, 0.7],\n",
    "    \"onevsrestclassifier__estimator__reg_lambda\": [0.1, 0.3, 0.5, 0.7],\n",
    "    # \"onevsrestclassifier__estimator__min_child_samples\": [20, 30, 40, 50],\n",
    "    \"onevsrestclassifier__estimator__num_leaves\": [5, 10, 15, 20],\n",
    "    \"onevsrestclassifier__estimator__min_data_in_leaf\": [30, 40, 50, 60],\n",
    "    \"onevsrestclassifier__estimator__class_weight\": [None, \"balanced\"]\n",
    "}\n",
    "lgbm_search = RandomizedSearchCV(\n",
    "    pipe_lgbm_ovr, param_lgbm, n_iter=30, cv=5, n_jobs=-1, random_state=42\n",
    ")"
   ]
  },
  {
   "cell_type": "code",
   "execution_count": 76,
   "id": "bd8bb880-7c42-429c-ab28-05a1608bb331",
   "metadata": {},
   "outputs": [
    {
     "name": "stdout",
     "output_type": "stream",
     "text": [
      "[LightGBM] [Warning] min_data_in_leaf is set=30, min_child_samples=20 will be ignored. Current value: min_data_in_leaf=30\n",
      "[LightGBM] [Warning] min_data_in_leaf is set=40, min_child_samples=20 will be ignored. Current value: min_data_in_leaf=40\n",
      "[LightGBM] [Warning] min_data_in_leaf is set=40, min_child_samples=20 will be ignored. Current value: min_data_in_leaf=40\n",
      "[LightGBM] [Warning] min_data_in_leaf is set=30, min_child_samples=20 will be ignored. Current value: min_data_in_leaf=30\n",
      "[LightGBM] [Warning] min_data_in_leaf is set=30, min_child_samples=20 will be ignored. Current value: min_data_in_leaf=30\n",
      "[LightGBM] [Warning] min_data_in_leaf is set=40, min_child_samples=20 will be ignored. Current value: min_data_in_leaf=40\n",
      "[LightGBM] [Warning] min_data_in_leaf is set=30, min_child_samples=20 will be ignored. Current value: min_data_in_leaf=30\n",
      "[LightGBM] [Warning] min_data_in_leaf is set=30, min_child_samples=20 will be ignored. Current value: min_data_in_leaf=30\n",
      "[LightGBM] [Warning] min_data_in_leaf is set=40, min_child_samples=20 will be ignored. Current value: min_data_in_leaf=40\n",
      "[LightGBM] [Warning] min_data_in_leaf is set=60, min_child_samples=20 will be ignored. Current value: min_data_in_leaf=60\n",
      "[LightGBM] [Warning] min_data_in_leaf is set=60, min_child_samples=20 will be ignored. Current value: min_data_in_leaf=60\n",
      "[LightGBM] [Warning] min_data_in_leaf is set=40, min_child_samples=20 will be ignored. Current value: min_data_in_leaf=40\n"
     ]
    },
    {
     "name": "stderr",
     "output_type": "stream",
     "text": [
      "/Users/clin404/miniconda3/envs/575/lib/python3.10/site-packages/joblib/externals/loky/process_executor.py:700: UserWarning: A worker stopped while some jobs were given to the executor. This can be caused by a too short worker timeout or by a memory leak.\n",
      "  warnings.warn(\n"
     ]
    },
    {
     "name": "stdout",
     "output_type": "stream",
     "text": [
      "[LightGBM] [Warning] min_data_in_leaf is set=40, min_child_samples=20 will be ignored. Current value: min_data_in_leaf=40\n",
      "[LightGBM] [Warning] min_data_in_leaf is set=40, min_child_samples=20 will be ignored. Current value: min_data_in_leaf=40\n",
      "[LightGBM] [Warning] min_data_in_leaf is set=60, min_child_samples=20 will be ignored. Current value: min_data_in_leaf=60\n",
      "[LightGBM] [Warning] min_data_in_leaf is set=60, min_child_samples=20 will be ignored. Current value: min_data_in_leaf=60\n",
      "[LightGBM] [Warning] min_data_in_leaf is set=60, min_child_samples=20 will be ignored. Current value: min_data_in_leaf=60\n",
      "[LightGBM] [Warning] min_data_in_leaf is set=40, min_child_samples=20 will be ignored. Current value: min_data_in_leaf=40\n",
      "[LightGBM] [Warning] min_data_in_leaf is set=40, min_child_samples=20 will be ignored. Current value: min_data_in_leaf=40\n",
      "[LightGBM] [Warning] min_data_in_leaf is set=40, min_child_samples=20 will be ignored. Current value: min_data_in_leaf=40\n",
      "[LightGBM] [Warning] min_data_in_leaf is set=30, min_child_samples=20 will be ignored. Current value: min_data_in_leaf=30\n",
      "[LightGBM] [Warning] min_data_in_leaf is set=30, min_child_samples=20 will be ignored. Current value: min_data_in_leaf=30\n",
      "[LightGBM] [Warning] min_data_in_leaf is set=30, min_child_samples=20 will be ignored. Current value: min_data_in_leaf=30\n",
      "[LightGBM] [Warning] min_data_in_leaf is set=30, min_child_samples=20 will be ignored. Current value: min_data_in_leaf=30\n",
      "[LightGBM] [Warning] min_data_in_leaf is set=30, min_child_samples=20 will be ignored. Current value: min_data_in_leaf=30\n",
      "[LightGBM] [Warning] min_data_in_leaf is set=30, min_child_samples=20 will be ignored. Current value: min_data_in_leaf=30\n",
      "[LightGBM] [Warning] min_data_in_leaf is set=30, min_child_samples=20 will be ignored. Current value: min_data_in_leaf=30\n",
      "[LightGBM] [Warning] min_data_in_leaf is set=30, min_child_samples=20 will be ignored. Current value: min_data_in_leaf=30\n",
      "[LightGBM] [Warning] min_data_in_leaf is set=30, min_child_samples=20 will be ignored. Current value: min_data_in_leaf=30\n",
      "[LightGBM] [Warning] min_data_in_leaf is set=30, min_child_samples=20 will be ignored. Current value: min_data_in_leaf=30\n",
      "[LightGBM] [Warning] min_data_in_leaf is set=50, min_child_samples=20 will be ignored. Current value: min_data_in_leaf=50\n",
      "[LightGBM] [Warning] min_data_in_leaf is set=50, min_child_samples=20 will be ignored. Current value: min_data_in_leaf=50\n",
      "[LightGBM] [Warning] min_data_in_leaf is set=50, min_child_samples=20 will be ignored. Current value: min_data_in_leaf=50\n",
      "[LightGBM] [Warning] min_data_in_leaf is set=30, min_child_samples=20 will be ignored. Current value: min_data_in_leaf=30\n",
      "[LightGBM] [Warning] min_data_in_leaf is set=30, min_child_samples=20 will be ignored. Current value: min_data_in_leaf=30\n",
      "[LightGBM] [Warning] min_data_in_leaf is set=50, min_child_samples=20 will be ignored. Current value: min_data_in_leaf=50\n",
      "[LightGBM] [Warning] min_data_in_leaf is set=30, min_child_samples=20 will be ignored. Current value: min_data_in_leaf=30\n",
      "[LightGBM] [Warning] min_data_in_leaf is set=50, min_child_samples=20 will be ignored. Current value: min_data_in_leaf=50\n",
      "[LightGBM] [Warning] min_data_in_leaf is set=30, min_child_samples=20 will be ignored. Current value: min_data_in_leaf=30\n",
      "[LightGBM] [Warning] min_data_in_leaf is set=30, min_child_samples=20 will be ignored. Current value: min_data_in_leaf=30\n",
      "[LightGBM] [Warning] min_data_in_leaf is set=50, min_child_samples=20 will be ignored. Current value: min_data_in_leaf=50\n",
      "[LightGBM] [Warning] min_data_in_leaf is set=50, min_child_samples=20 will be ignored. Current value: min_data_in_leaf=50\n",
      "[LightGBM] [Warning] min_data_in_leaf is set=50, min_child_samples=20 will be ignored. Current value: min_data_in_leaf=50\n",
      "[LightGBM] [Warning] min_data_in_leaf is set=50, min_child_samples=20 will be ignored. Current value: min_data_in_leaf=50\n",
      "[LightGBM] [Warning] min_data_in_leaf is set=50, min_child_samples=20 will be ignored. Current value: min_data_in_leaf=50\n",
      "[LightGBM] [Warning] min_data_in_leaf is set=30, min_child_samples=20 will be ignored. Current value: min_data_in_leaf=30\n",
      "[LightGBM] [Warning] min_data_in_leaf is set=30, min_child_samples=20 will be ignored. Current value: min_data_in_leaf=30\n",
      "[LightGBM] [Warning] min_data_in_leaf is set=30, min_child_samples=20 will be ignored. Current value: min_data_in_leaf=30\n",
      "[LightGBM] [Warning] min_data_in_leaf is set=30, min_child_samples=20 will be ignored. Current value: min_data_in_leaf=30\n",
      "[LightGBM] [Warning] min_data_in_leaf is set=30, min_child_samples=20 will be ignored. Current value: min_data_in_leaf=30\n",
      "[LightGBM] [Warning] min_data_in_leaf is set=40, min_child_samples=20 will be ignored. Current value: min_data_in_leaf=40\n",
      "[LightGBM] [Warning] min_data_in_leaf is set=40, min_child_samples=20 will be ignored. Current value: min_data_in_leaf=40\n",
      "[LightGBM] [Warning] min_data_in_leaf is set=40, min_child_samples=20 will be ignored. Current value: min_data_in_leaf=40\n",
      "[LightGBM] [Warning] min_data_in_leaf is set=40, min_child_samples=20 will be ignored. Current value: min_data_in_leaf=40\n",
      "[LightGBM] [Warning] min_data_in_leaf is set=30, min_child_samples=20 will be ignored. Current value: min_data_in_leaf=30\n",
      "[LightGBM] [Warning] min_data_in_leaf is set=30, min_child_samples=20 will be ignored. Current value: min_data_in_leaf=30\n",
      "[LightGBM] [Warning] min_data_in_leaf is set=40, min_child_samples=20 will be ignored. Current value: min_data_in_leaf=40\n",
      "[LightGBM] [Warning] min_data_in_leaf is set=30, min_child_samples=20 will be ignored. Current value: min_data_in_leaf=30\n",
      "[LightGBM] [Warning] min_data_in_leaf is set=30, min_child_samples=20 will be ignored. Current value: min_data_in_leaf=30\n",
      "[LightGBM] [Warning] min_data_in_leaf is set=30, min_child_samples=20 will be ignored. Current value: min_data_in_leaf=30\n",
      "[LightGBM] [Warning] min_data_in_leaf is set=40, min_child_samples=20 will be ignored. Current value: min_data_in_leaf=40\n",
      "[LightGBM] [Warning] min_data_in_leaf is set=40, min_child_samples=20 will be ignored. Current value: min_data_in_leaf=40\n",
      "[LightGBM] [Warning] min_data_in_leaf is set=40, min_child_samples=20 will be ignored. Current value: min_data_in_leaf=40\n",
      "[LightGBM] [Warning] min_data_in_leaf is set=40, min_child_samples=20 will be ignored. Current value: min_data_in_leaf=40\n",
      "[LightGBM] [Warning] min_data_in_leaf is set=40, min_child_samples=20 will be ignored. Current value: min_data_in_leaf=40\n",
      "[LightGBM] [Warning] min_data_in_leaf is set=40, min_child_samples=20 will be ignored. Current value: min_data_in_leaf=40\n",
      "[LightGBM] [Warning] min_data_in_leaf is set=40, min_child_samples=20 will be ignored. Current value: min_data_in_leaf=40\n",
      "[LightGBM] [Warning] min_data_in_leaf is set=40, min_child_samples=20 will be ignored. Current value: min_data_in_leaf=40\n",
      "[LightGBM] [Warning] min_data_in_leaf is set=40, min_child_samples=20 will be ignored. Current value: min_data_in_leaf=40\n",
      "[LightGBM] [Warning] min_data_in_leaf is set=30, min_child_samples=20 will be ignored. Current value: min_data_in_leaf=30\n",
      "[LightGBM] [Warning] min_data_in_leaf is set=30, min_child_samples=20 will be ignored. Current value: min_data_in_leaf=30\n",
      "[LightGBM] [Warning] min_data_in_leaf is set=30, min_child_samples=20 will be ignored. Current value: min_data_in_leaf=30\n",
      "[LightGBM] [Warning] min_data_in_leaf is set=40, min_child_samples=20 will be ignored. Current value: min_data_in_leaf=40\n",
      "[LightGBM] [Warning] min_data_in_leaf is set=30, min_child_samples=20 will be ignored. Current value: min_data_in_leaf=30\n",
      "[LightGBM] [Warning] min_data_in_leaf is set=30, min_child_samples=20 will be ignored. Current value: min_data_in_leaf=30\n",
      "[LightGBM] [Warning] min_data_in_leaf is set=40, min_child_samples=20 will be ignored. Current value: min_data_in_leaf=40\n",
      "[LightGBM] [Warning] min_data_in_leaf is set=40, min_child_samples=20 will be ignored. Current value: min_data_in_leaf=40\n",
      "[LightGBM] [Warning] min_data_in_leaf is set=40, min_child_samples=20 will be ignored. Current value: min_data_in_leaf=40\n",
      "[LightGBM] [Warning] min_data_in_leaf is set=40, min_child_samples=20 will be ignored. Current value: min_data_in_leaf=40\n",
      "[LightGBM] [Warning] min_data_in_leaf is set=40, min_child_samples=20 will be ignored. Current value: min_data_in_leaf=40\n",
      "[LightGBM] [Warning] min_data_in_leaf is set=30, min_child_samples=20 will be ignored. Current value: min_data_in_leaf=30\n",
      "[LightGBM] [Warning] min_data_in_leaf is set=30, min_child_samples=20 will be ignored. Current value: min_data_in_leaf=30\n",
      "[LightGBM] [Warning] min_data_in_leaf is set=30, min_child_samples=20 will be ignored. Current value: min_data_in_leaf=30\n",
      "[LightGBM] [Warning] min_data_in_leaf is set=30, min_child_samples=20 will be ignored. Current value: min_data_in_leaf=30\n",
      "[LightGBM] [Warning] min_data_in_leaf is set=30, min_child_samples=20 will be ignored. Current value: min_data_in_leaf=30\n",
      "[LightGBM] [Warning] min_data_in_leaf is set=60, min_child_samples=20 will be ignored. Current value: min_data_in_leaf=60\n",
      "[LightGBM] [Warning] min_data_in_leaf is set=60, min_child_samples=20 will be ignored. Current value: min_data_in_leaf=60\n",
      "[LightGBM] [Warning] min_data_in_leaf is set=60, min_child_samples=20 will be ignored. Current value: min_data_in_leaf=60\n",
      "[LightGBM] [Warning] min_data_in_leaf is set=60, min_child_samples=20 will be ignored. Current value: min_data_in_leaf=60\n",
      "[LightGBM] [Warning] min_data_in_leaf is set=50, min_child_samples=20 will be ignored. Current value: min_data_in_leaf=50\n",
      "[LightGBM] [Warning] min_data_in_leaf is set=50, min_child_samples=20 will be ignored. Current value: min_data_in_leaf=50\n",
      "[LightGBM] [Warning] min_data_in_leaf is set=60, min_child_samples=20 will be ignored. Current value: min_data_in_leaf=60\n",
      "[LightGBM] [Warning] min_data_in_leaf is set=50, min_child_samples=20 will be ignored. Current value: min_data_in_leaf=50\n",
      "[LightGBM] [Warning] min_data_in_leaf is set=50, min_child_samples=20 will be ignored. Current value: min_data_in_leaf=50\n",
      "[LightGBM] [Warning] min_data_in_leaf is set=50, min_child_samples=20 will be ignored. Current value: min_data_in_leaf=50\n",
      "[LightGBM] [Warning] min_data_in_leaf is set=30, min_child_samples=20 will be ignored. Current value: min_data_in_leaf=30\n",
      "[LightGBM] [Warning] min_data_in_leaf is set=30, min_child_samples=20 will be ignored. Current value: min_data_in_leaf=30\n",
      "[LightGBM] [Warning] min_data_in_leaf is set=30, min_child_samples=20 will be ignored. Current value: min_data_in_leaf=30\n",
      "[LightGBM] [Warning] min_data_in_leaf is set=30, min_child_samples=20 will be ignored. Current value: min_data_in_leaf=30\n",
      "[LightGBM] [Warning] min_data_in_leaf is set=30, min_child_samples=20 will be ignored. Current value: min_data_in_leaf=30\n",
      "[LightGBM] [Warning] min_data_in_leaf is set=50, min_child_samples=20 will be ignored. Current value: min_data_in_leaf=50\n",
      "[LightGBM] [Warning] min_data_in_leaf is set=50, min_child_samples=20 will be ignored. Current value: min_data_in_leaf=50\n",
      "[LightGBM] [Warning] min_data_in_leaf is set=50, min_child_samples=20 will be ignored. Current value: min_data_in_leaf=50\n",
      "[LightGBM] [Warning] min_data_in_leaf is set=50, min_child_samples=20 will be ignored. Current value: min_data_in_leaf=50\n",
      "[LightGBM] [Warning] min_data_in_leaf is set=50, min_child_samples=20 will be ignored. Current value: min_data_in_leaf=50\n",
      "[LightGBM] [Warning] min_data_in_leaf is set=40, min_child_samples=20 will be ignored. Current value: min_data_in_leaf=40\n",
      "[LightGBM] [Warning] min_data_in_leaf is set=40, min_child_samples=20 will be ignored. Current value: min_data_in_leaf=40\n",
      "[LightGBM] [Warning] min_data_in_leaf is set=40, min_child_samples=20 will be ignored. Current value: min_data_in_leaf=40\n",
      "[LightGBM] [Warning] min_data_in_leaf is set=40, min_child_samples=20 will be ignored. Current value: min_data_in_leaf=40\n",
      "[LightGBM] [Warning] min_data_in_leaf is set=40, min_child_samples=20 will be ignored. Current value: min_data_in_leaf=40\n",
      "[LightGBM] [Warning] min_data_in_leaf is set=60, min_child_samples=20 will be ignored. Current value: min_data_in_leaf=60\n",
      "[LightGBM] [Warning] min_data_in_leaf is set=60, min_child_samples=20 will be ignored. Current value: min_data_in_leaf=60\n",
      "[LightGBM] [Warning] min_data_in_leaf is set=60, min_child_samples=20 will be ignored. Current value: min_data_in_leaf=60\n",
      "[LightGBM] [Warning] min_data_in_leaf is set=60, min_child_samples=20 will be ignored. Current value: min_data_in_leaf=60\n",
      "[LightGBM] [Warning] min_data_in_leaf is set=60, min_child_samples=20 will be ignored. Current value: min_data_in_leaf=60\n",
      "[LightGBM] [Warning] min_data_in_leaf is set=40, min_child_samples=20 will be ignored. Current value: min_data_in_leaf=40\n",
      "[LightGBM] [Warning] min_data_in_leaf is set=40, min_child_samples=20 will be ignored. Current value: min_data_in_leaf=40\n",
      "[LightGBM] [Warning] min_data_in_leaf is set=40, min_child_samples=20 will be ignored. Current value: min_data_in_leaf=40\n",
      "[LightGBM] [Warning] min_data_in_leaf is set=40, min_child_samples=20 will be ignored. Current value: min_data_in_leaf=40\n",
      "[LightGBM] [Warning] min_data_in_leaf is set=40, min_child_samples=20 will be ignored. Current value: min_data_in_leaf=40\n",
      "[LightGBM] [Warning] min_data_in_leaf is set=40, min_child_samples=20 will be ignored. Current value: min_data_in_leaf=40\n",
      "[LightGBM] [Warning] min_data_in_leaf is set=40, min_child_samples=20 will be ignored. Current value: min_data_in_leaf=40\n",
      "[LightGBM] [Warning] min_data_in_leaf is set=40, min_child_samples=20 will be ignored. Current value: min_data_in_leaf=40\n",
      "[LightGBM] [Warning] min_data_in_leaf is set=40, min_child_samples=20 will be ignored. Current value: min_data_in_leaf=40\n",
      "[LightGBM] [Warning] min_data_in_leaf is set=40, min_child_samples=20 will be ignored. Current value: min_data_in_leaf=40\n",
      "[LightGBM] [Warning] min_data_in_leaf is set=40, min_child_samples=20 will be ignored. Current value: min_data_in_leaf=40\n",
      "[LightGBM] [Warning] min_data_in_leaf is set=40, min_child_samples=20 will be ignored. Current value: min_data_in_leaf=40\n",
      "[LightGBM] [Warning] min_data_in_leaf is set=40, min_child_samples=20 will be ignored. Current value: min_data_in_leaf=40\n",
      "[LightGBM] [Warning] min_data_in_leaf is set=40, min_child_samples=20 will be ignored. Current value: min_data_in_leaf=40\n",
      "[LightGBM] [Warning] min_data_in_leaf is set=40, min_child_samples=20 will be ignored. Current value: min_data_in_leaf=40\n",
      "[LightGBM] [Warning] min_data_in_leaf is set=60, min_child_samples=20 will be ignored. Current value: min_data_in_leaf=60\n",
      "[LightGBM] [Warning] min_data_in_leaf is set=60, min_child_samples=20 will be ignored. Current value: min_data_in_leaf=60\n",
      "[LightGBM] [Warning] min_data_in_leaf is set=60, min_child_samples=20 will be ignored. Current value: min_data_in_leaf=60\n",
      "[LightGBM] [Warning] min_data_in_leaf is set=60, min_child_samples=20 will be ignored. Current value: min_data_in_leaf=60\n",
      "[LightGBM] [Warning] min_data_in_leaf is set=60, min_child_samples=20 will be ignored. Current value: min_data_in_leaf=60\n",
      "[LightGBM] [Warning] min_data_in_leaf is set=40, min_child_samples=20 will be ignored. Current value: min_data_in_leaf=40\n",
      "[LightGBM] [Warning] min_data_in_leaf is set=40, min_child_samples=20 will be ignored. Current value: min_data_in_leaf=40\n",
      "[LightGBM] [Warning] min_data_in_leaf is set=40, min_child_samples=20 will be ignored. Current value: min_data_in_leaf=40\n",
      "[LightGBM] [Warning] min_data_in_leaf is set=40, min_child_samples=20 will be ignored. Current value: min_data_in_leaf=40\n",
      "[LightGBM] [Warning] min_data_in_leaf is set=40, min_child_samples=20 will be ignored. Current value: min_data_in_leaf=40\n",
      "[LightGBM] [Warning] min_data_in_leaf is set=30, min_child_samples=20 will be ignored. Current value: min_data_in_leaf=30\n",
      "[LightGBM] [Warning] min_data_in_leaf is set=30, min_child_samples=20 will be ignored. Current value: min_data_in_leaf=30\n",
      "[LightGBM] [Warning] min_data_in_leaf is set=30, min_child_samples=20 will be ignored. Current value: min_data_in_leaf=30\n",
      "[LightGBM] [Warning] min_data_in_leaf is set=30, min_child_samples=20 will be ignored. Current value: min_data_in_leaf=30\n",
      "[LightGBM] [Warning] min_data_in_leaf is set=30, min_child_samples=20 will be ignored. Current value: min_data_in_leaf=30\n",
      "[LightGBM] [Warning] min_data_in_leaf is set=60, min_child_samples=20 will be ignored. Current value: min_data_in_leaf=60\n",
      "[LightGBM] [Warning] min_data_in_leaf is set=60, min_child_samples=20 will be ignored. Current value: min_data_in_leaf=60\n",
      "[LightGBM] [Warning] min_data_in_leaf is set=60, min_child_samples=20 will be ignored. Current value: min_data_in_leaf=60\n",
      "[LightGBM] [Warning] min_data_in_leaf is set=60, min_child_samples=20 will be ignored. Current value: min_data_in_leaf=60\n",
      "[LightGBM] [Warning] min_data_in_leaf is set=60, min_child_samples=20 will be ignored. Current value: min_data_in_leaf=60\n",
      "[LightGBM] [Warning] min_data_in_leaf is set=40, min_child_samples=20 will be ignored. Current value: min_data_in_leaf=40\n"
     ]
    }
   ],
   "source": [
    "lgbm_search.fit(X_train, y_train);"
   ]
  },
  {
   "cell_type": "code",
   "execution_count": null,
   "id": "cd0642a7-bb68-429f-9338-e7d04542a8de",
   "metadata": {},
   "outputs": [],
   "source": [
    "# pd.DataFrame(lgbm_search.cv_results_)[\n",
    "#     [\n",
    "#         \"param_onevsrestclassifier__estimator__n_estimators\",\n",
    "#         \"param_onevsrestclassifier__estimator__boosting_type\",\n",
    "#         \"param_onevsrestclassifier__estimator__learning_rate\",\n",
    "#         \"param_onevsrestclassifier__estimator__max_depth\",\n",
    "#         \"param_onevsrestclassifier__estimator__reg_alpha\",\n",
    "#         \"param_onevsrestclassifier__estimator__reg_lambda\",\n",
    "#         \"param_onevsrestclassifier__estimator__class_weight\",\n",
    "#         # \"param_onevsrestclassifier__estimator__min_child_samples\",\n",
    "#         \"param_onevsrestclassifier__estimator__num_leaves\",\n",
    "#         \"param_onevsrestclassifier__estimator__min_data_in_leaf\",\n",
    "#         \"mean_fit_time\",\n",
    "#         \"rank_test_score\",\n",
    "#         \"mean_test_score\",\n",
    "#     ]\n",
    "# ].set_index(\"rank_test_score\").sort_index().head(20)"
   ]
  },
  {
   "cell_type": "code",
   "execution_count": 77,
   "id": "2f65a2d3-f53a-493c-95f2-96cdb317d8f6",
   "metadata": {},
   "outputs": [
    {
     "data": {
      "text/plain": [
       "1.0"
      ]
     },
     "execution_count": 77,
     "metadata": {},
     "output_type": "execute_result"
    }
   ],
   "source": [
    "lgbm_search.score(X_train, y_train)"
   ]
  },
  {
   "cell_type": "code",
   "execution_count": 78,
   "id": "b2026e95-6d37-42d6-b08a-d46de35c4df4",
   "metadata": {},
   "outputs": [
    {
     "data": {
      "text/plain": [
       "0.5569620253164557"
      ]
     },
     "execution_count": 78,
     "metadata": {},
     "output_type": "execute_result"
    }
   ],
   "source": [
    "lgbm_search.score(X_test, y_test)"
   ]
  },
  {
   "cell_type": "code",
   "execution_count": 79,
   "id": "0f301d6a-65f8-4fee-b61f-b0c61f37e58e",
   "metadata": {},
   "outputs": [
    {
     "name": "stdout",
     "output_type": "stream",
     "text": [
      "[LightGBM] [Warning] min_data_in_leaf is set=30, min_child_samples=20 will be ignored. Current value: min_data_in_leaf=30\n"
     ]
    }
   ],
   "source": [
    "lgbm_test = make_pipeline(\n",
    "    preprocessor,\n",
    "    OneVsRestClassifier(\n",
    "        LGBMClassifier(random_state=42, n_jobs=-1, n_estimators=150, boosting_type=\"gbdt\", learning_rate=0.1, max_depth=10,\n",
    "                      reg_alpha=0.7, reg_lambda=0.7, num_leaves=20, min_data_in_leaf=30, class_weight=None)\n",
    "    )\n",
    ")\n",
    "lgbm_test.fit(X_train, y_train);"
   ]
  },
  {
   "cell_type": "code",
   "execution_count": 80,
   "id": "6e84df2f-6411-4879-a812-61c142972b85",
   "metadata": {},
   "outputs": [
    {
     "data": {
      "text/plain": [
       "1.0"
      ]
     },
     "execution_count": 80,
     "metadata": {},
     "output_type": "execute_result"
    }
   ],
   "source": [
    "lgbm_test.score(X_train, y_train)"
   ]
  },
  {
   "cell_type": "code",
   "execution_count": 81,
   "id": "3df7e909-3c87-4203-9408-52eb4d61ba7d",
   "metadata": {},
   "outputs": [
    {
     "data": {
      "text/plain": [
       "0.5822784810126582"
      ]
     },
     "execution_count": 81,
     "metadata": {},
     "output_type": "execute_result"
    }
   ],
   "source": [
    "lgbm_test.score(X_test, y_test)"
   ]
  },
  {
   "cell_type": "code",
   "execution_count": 82,
   "id": "21b416f3-d37a-445b-87c0-49dc00c63369",
   "metadata": {},
   "outputs": [
    {
     "data": {
      "text/plain": [
       "{'onevsrestclassifier__estimator__reg_lambda': 0.5,\n",
       " 'onevsrestclassifier__estimator__reg_alpha': 0.1,\n",
       " 'onevsrestclassifier__estimator__num_leaves': 10,\n",
       " 'onevsrestclassifier__estimator__n_estimators': 200,\n",
       " 'onevsrestclassifier__estimator__min_data_in_leaf': 40,\n",
       " 'onevsrestclassifier__estimator__max_depth': 5,\n",
       " 'onevsrestclassifier__estimator__learning_rate': 0.1,\n",
       " 'onevsrestclassifier__estimator__class_weight': 'balanced',\n",
       " 'onevsrestclassifier__estimator__boosting_type': 'gbdt'}"
      ]
     },
     "execution_count": 82,
     "metadata": {},
     "output_type": "execute_result"
    }
   ],
   "source": [
    "lgbm_search.best_params_\n",
    "# score=0.62025"
   ]
  },
  {
   "attachments": {},
   "cell_type": "markdown",
   "id": "7f573d5a-4f0d-43ad-bd51-fbb13f354df5",
   "metadata": {},
   "source": [
    "## XGB Model - poor score, won't use"
   ]
  },
  {
   "cell_type": "code",
   "execution_count": 83,
   "id": "2640ee52-0ec6-4142-9a80-964a47614cd5",
   "metadata": {},
   "outputs": [],
   "source": [
    "pipe_xgb = make_pipeline(\n",
    "    preprocessor,\n",
    "    OneVsRestClassifier(\n",
    "        XGBClassifier(random_state=42, verbosity=0)\n",
    "    )\n",
    ")\n",
    "param_xgb = {\n",
    "    \"onevsrestclassifier__estimator__booster\": [\"gbtree\", \"dart\"],\n",
    "    \"onevsrestclassifier__estimator__learning_rate\": [0.1, 0.3, 0.5, 0.7],\n",
    "    \"onevsrestclassifier__estimator__max_depth\": [3, 5, 7, 9],\n",
    "    \"onevsrestclassifier__estimator__reg_alpha\": [0.1, 0.3, 0.5, 0.7],\n",
    "    \"onevsrestclassifier__estimator__reg_lambda\": [0.1, 0.3, 0.5, 0.7],\n",
    "    \"onevsrestclassifier__estimator__subsample\": [0.3, 0.5, 0.7, 1],\n",
    "    \"onevsrestclassifier__estimator__min_child_weight\": [1, 4, 7, 10]\n",
    "}\n",
    "xgb_search = RandomizedSearchCV(\n",
    "    pipe_xgb, param_xgb, n_iter=30, cv=5, n_jobs=-1, random_state=42\n",
    ")"
   ]
  },
  {
   "cell_type": "code",
   "execution_count": 84,
   "id": "5159029e-b30e-4482-acdd-3276a8191e25",
   "metadata": {},
   "outputs": [
    {
     "name": "stderr",
     "output_type": "stream",
     "text": [
      "/Users/clin404/miniconda3/envs/575/lib/python3.10/site-packages/joblib/externals/loky/process_executor.py:700: UserWarning: A worker stopped while some jobs were given to the executor. This can be caused by a too short worker timeout or by a memory leak.\n",
      "  warnings.warn(\n"
     ]
    }
   ],
   "source": [
    "xgb_search.fit(X_train, y_train);"
   ]
  },
  {
   "cell_type": "code",
   "execution_count": null,
   "id": "c061ea0b-3838-4eb7-8571-cf8fc27c4314",
   "metadata": {},
   "outputs": [],
   "source": [
    "# pd.DataFrame(xgb_search.cv_results_)[\n",
    "#     [\n",
    "#         \"param_onevsrestclassifier__estimator__booster\",\n",
    "#         \"param_onevsrestclassifier__estimator__learning_rate\",\n",
    "#         \"param_onevsrestclassifier__estimator__max_depth\",\n",
    "#         \"param_onevsrestclassifier__estimator__reg_alpha\",\n",
    "#         \"param_onevsrestclassifier__estimator__reg_lambda\",\n",
    "#         \"param_onevsrestclassifier__estimator__subsample\",\n",
    "#         \"param_onevsrestclassifier__estimator__min_child_weight\",\n",
    "#         \"mean_fit_time\",\n",
    "#         \"rank_test_score\",\n",
    "#         \"mean_test_score\",\n",
    "#     ]\n",
    "# ].set_index(\"rank_test_score\").sort_index().head(20)"
   ]
  },
  {
   "cell_type": "code",
   "execution_count": 85,
   "id": "f8060caf-86df-45a6-ba5c-5a47e04f4ac1",
   "metadata": {},
   "outputs": [
    {
     "data": {
      "text/plain": [
       "1.0"
      ]
     },
     "execution_count": 85,
     "metadata": {},
     "output_type": "execute_result"
    }
   ],
   "source": [
    "xgb_search.score(X_train, y_train)"
   ]
  },
  {
   "cell_type": "code",
   "execution_count": 86,
   "id": "520cbae8-c981-4d3a-a799-72ba4ce91352",
   "metadata": {},
   "outputs": [
    {
     "data": {
      "text/plain": [
       "0.569620253164557"
      ]
     },
     "execution_count": 86,
     "metadata": {},
     "output_type": "execute_result"
    }
   ],
   "source": [
    "xgb_search.score(X_test, y_test)"
   ]
  },
  {
   "cell_type": "code",
   "execution_count": 87,
   "id": "73479419-8893-49c5-9ca0-c622ae2fcd9f",
   "metadata": {},
   "outputs": [],
   "source": [
    "xgb_test = make_pipeline(\n",
    "    preprocessor,\n",
    "    OneVsRestClassifier(\n",
    "        XGBClassifier(random_state=42, verbosity=0, booster=\"gbtree\", learning_rate=0.1, max_depth=5, reg_alpha=0.5, reg_lambda=0.1,\n",
    "                     subsample=0.7, min_child_weight=1)\n",
    "    )\n",
    ")\n",
    "xgb_test.fit(X_train, y_train);"
   ]
  },
  {
   "cell_type": "code",
   "execution_count": 88,
   "id": "9715473d-ecdb-4be7-9baf-3920ceb224a4",
   "metadata": {},
   "outputs": [
    {
     "data": {
      "text/plain": [
       "1.0"
      ]
     },
     "execution_count": 88,
     "metadata": {},
     "output_type": "execute_result"
    }
   ],
   "source": [
    "xgb_test.score(X_train, y_train)"
   ]
  },
  {
   "cell_type": "code",
   "execution_count": 89,
   "id": "350e34ba-5058-46b2-b23d-93fdbc8f6828",
   "metadata": {},
   "outputs": [
    {
     "data": {
      "text/html": [
       "<style>#sk-container-id-4 {color: black;background-color: white;}#sk-container-id-4 pre{padding: 0;}#sk-container-id-4 div.sk-toggleable {background-color: white;}#sk-container-id-4 label.sk-toggleable__label {cursor: pointer;display: block;width: 100%;margin-bottom: 0;padding: 0.3em;box-sizing: border-box;text-align: center;}#sk-container-id-4 label.sk-toggleable__label-arrow:before {content: \"▸\";float: left;margin-right: 0.25em;color: #696969;}#sk-container-id-4 label.sk-toggleable__label-arrow:hover:before {color: black;}#sk-container-id-4 div.sk-estimator:hover label.sk-toggleable__label-arrow:before {color: black;}#sk-container-id-4 div.sk-toggleable__content {max-height: 0;max-width: 0;overflow: hidden;text-align: left;background-color: #f0f8ff;}#sk-container-id-4 div.sk-toggleable__content pre {margin: 0.2em;color: black;border-radius: 0.25em;background-color: #f0f8ff;}#sk-container-id-4 input.sk-toggleable__control:checked~div.sk-toggleable__content {max-height: 200px;max-width: 100%;overflow: auto;}#sk-container-id-4 input.sk-toggleable__control:checked~label.sk-toggleable__label-arrow:before {content: \"▾\";}#sk-container-id-4 div.sk-estimator input.sk-toggleable__control:checked~label.sk-toggleable__label {background-color: #d4ebff;}#sk-container-id-4 div.sk-label input.sk-toggleable__control:checked~label.sk-toggleable__label {background-color: #d4ebff;}#sk-container-id-4 input.sk-hidden--visually {border: 0;clip: rect(1px 1px 1px 1px);clip: rect(1px, 1px, 1px, 1px);height: 1px;margin: -1px;overflow: hidden;padding: 0;position: absolute;width: 1px;}#sk-container-id-4 div.sk-estimator {font-family: monospace;background-color: #f0f8ff;border: 1px dotted black;border-radius: 0.25em;box-sizing: border-box;margin-bottom: 0.5em;}#sk-container-id-4 div.sk-estimator:hover {background-color: #d4ebff;}#sk-container-id-4 div.sk-parallel-item::after {content: \"\";width: 100%;border-bottom: 1px solid gray;flex-grow: 1;}#sk-container-id-4 div.sk-label:hover label.sk-toggleable__label {background-color: #d4ebff;}#sk-container-id-4 div.sk-serial::before {content: \"\";position: absolute;border-left: 1px solid gray;box-sizing: border-box;top: 0;bottom: 0;left: 50%;z-index: 0;}#sk-container-id-4 div.sk-serial {display: flex;flex-direction: column;align-items: center;background-color: white;padding-right: 0.2em;padding-left: 0.2em;position: relative;}#sk-container-id-4 div.sk-item {position: relative;z-index: 1;}#sk-container-id-4 div.sk-parallel {display: flex;align-items: stretch;justify-content: center;background-color: white;position: relative;}#sk-container-id-4 div.sk-item::before, #sk-container-id-4 div.sk-parallel-item::before {content: \"\";position: absolute;border-left: 1px solid gray;box-sizing: border-box;top: 0;bottom: 0;left: 50%;z-index: -1;}#sk-container-id-4 div.sk-parallel-item {display: flex;flex-direction: column;z-index: 1;position: relative;background-color: white;}#sk-container-id-4 div.sk-parallel-item:first-child::after {align-self: flex-end;width: 50%;}#sk-container-id-4 div.sk-parallel-item:last-child::after {align-self: flex-start;width: 50%;}#sk-container-id-4 div.sk-parallel-item:only-child::after {width: 0;}#sk-container-id-4 div.sk-dashed-wrapped {border: 1px dashed gray;margin: 0 0.4em 0.5em 0.4em;box-sizing: border-box;padding-bottom: 0.4em;background-color: white;}#sk-container-id-4 div.sk-label label {font-family: monospace;font-weight: bold;display: inline-block;line-height: 1.2em;}#sk-container-id-4 div.sk-label-container {text-align: center;}#sk-container-id-4 div.sk-container {/* jupyter's `normalize.less` sets `[hidden] { display: none; }` but bootstrap.min.css set `[hidden] { display: none !important; }` so we also need the `!important` here to be able to override the default hidden behavior on the sphinx rendered scikit-learn.org. See: https://github.com/scikit-learn/scikit-learn/issues/21755 */display: inline-block !important;position: relative;}#sk-container-id-4 div.sk-text-repr-fallback {display: none;}</style><div id=\"sk-container-id-4\" class=\"sk-top-container\"><div class=\"sk-text-repr-fallback\"><pre>XGBClassifier(base_score=None, booster=&#x27;gbtree&#x27;, callbacks=None,\n",
       "              colsample_bylevel=None, colsample_bynode=None,\n",
       "              colsample_bytree=None, early_stopping_rounds=None,\n",
       "              enable_categorical=False, eval_metric=None, feature_types=None,\n",
       "              gamma=None, gpu_id=None, grow_policy=None, importance_type=None,\n",
       "              interaction_constraints=None, learning_rate=0.1, max_bin=None,\n",
       "              max_cat_threshold=None, max_cat_to_onehot=None,\n",
       "              max_delta_step=None, max_depth=5, max_leaves=None,\n",
       "              min_child_weight=None, missing=nan, monotone_constraints=None,\n",
       "              n_estimators=100, n_jobs=None, num_parallel_tree=None,\n",
       "              predictor=None, random_state=42, ...)</pre><b>In a Jupyter environment, please rerun this cell to show the HTML representation or trust the notebook. <br />On GitHub, the HTML representation is unable to render, please try loading this page with nbviewer.org.</b></div><div class=\"sk-container\" hidden><div class=\"sk-item\"><div class=\"sk-estimator sk-toggleable\"><input class=\"sk-toggleable__control sk-hidden--visually\" id=\"sk-estimator-id-10\" type=\"checkbox\" checked><label for=\"sk-estimator-id-10\" class=\"sk-toggleable__label sk-toggleable__label-arrow\">XGBClassifier</label><div class=\"sk-toggleable__content\"><pre>XGBClassifier(base_score=None, booster=&#x27;gbtree&#x27;, callbacks=None,\n",
       "              colsample_bylevel=None, colsample_bynode=None,\n",
       "              colsample_bytree=None, early_stopping_rounds=None,\n",
       "              enable_categorical=False, eval_metric=None, feature_types=None,\n",
       "              gamma=None, gpu_id=None, grow_policy=None, importance_type=None,\n",
       "              interaction_constraints=None, learning_rate=0.1, max_bin=None,\n",
       "              max_cat_threshold=None, max_cat_to_onehot=None,\n",
       "              max_delta_step=None, max_depth=5, max_leaves=None,\n",
       "              min_child_weight=None, missing=nan, monotone_constraints=None,\n",
       "              n_estimators=100, n_jobs=None, num_parallel_tree=None,\n",
       "              predictor=None, random_state=42, ...)</pre></div></div></div></div></div>"
      ],
      "text/plain": [
       "XGBClassifier(base_score=None, booster='gbtree', callbacks=None,\n",
       "              colsample_bylevel=None, colsample_bynode=None,\n",
       "              colsample_bytree=None, early_stopping_rounds=None,\n",
       "              enable_categorical=False, eval_metric=None, feature_types=None,\n",
       "              gamma=None, gpu_id=None, grow_policy=None, importance_type=None,\n",
       "              interaction_constraints=None, learning_rate=0.1, max_bin=None,\n",
       "              max_cat_threshold=None, max_cat_to_onehot=None,\n",
       "              max_delta_step=None, max_depth=5, max_leaves=None,\n",
       "              min_child_weight=None, missing=nan, monotone_constraints=None,\n",
       "              n_estimators=100, n_jobs=None, num_parallel_tree=None,\n",
       "              predictor=None, random_state=42, ...)"
      ]
     },
     "execution_count": 89,
     "metadata": {},
     "output_type": "execute_result"
    }
   ],
   "source": [
    "xgb_test.score(X_test, y_test)\n",
    "XGBClassifier(random_state=42, verbosity=0, booster=\"gbtree\", learning_rate=0.1, max_depth=5, reg_alpha=0.5, reg_lambda=0.1,\n",
    "                    subsample=0.7)"
   ]
  },
  {
   "cell_type": "code",
   "execution_count": 90,
   "id": "aeb23202-98de-4e96-9fad-670a524ad2aa",
   "metadata": {},
   "outputs": [],
   "source": [
    "lr_xgb_test = make_pipeline(\n",
    "    preprocessor,\n",
    "    SelectFromModel(\n",
    "        LogisticRegression(C=0.15, penalty=\"l2\", random_state=42, solver=\"saga\", max_iter=10000, multi_class=\"ovr\", \n",
    "                           n_jobs=-1, class_weight=class_weight)\n",
    "    ),\n",
    "    OneVsRestClassifier(\n",
    "        XGBClassifier(random_state=42, verbosity=0, booster=\"gbtree\", learning_rate=0.1, max_depth=5, reg_alpha=0.5, reg_lambda=0.1,\n",
    "                     subsample=0.7)\n",
    "    )\n",
    ")\n",
    "lr_xgb_test.fit(X_train, y_train);"
   ]
  },
  {
   "cell_type": "code",
   "execution_count": 91,
   "id": "2a19d87e-fa8a-4d34-b493-3d5dad93f233",
   "metadata": {},
   "outputs": [
    {
     "data": {
      "text/plain": [
       "1.0"
      ]
     },
     "execution_count": 91,
     "metadata": {},
     "output_type": "execute_result"
    }
   ],
   "source": [
    "lr_xgb_test.score(X_train, y_train)"
   ]
  },
  {
   "cell_type": "code",
   "execution_count": 92,
   "id": "78a502d9-4781-422c-9647-8a756b04b047",
   "metadata": {},
   "outputs": [
    {
     "data": {
      "text/plain": [
       "0.6075949367088608"
      ]
     },
     "execution_count": 92,
     "metadata": {},
     "output_type": "execute_result"
    }
   ],
   "source": [
    "lr_xgb_test.score(X_test, y_test)"
   ]
  },
  {
   "cell_type": "code",
   "execution_count": 93,
   "id": "eba8d623-61cd-4037-918f-5f43ca52159a",
   "metadata": {},
   "outputs": [],
   "source": [
    "prediction_result[\"xgb\"] = xgb_test.predict(X_test)"
   ]
  },
  {
   "cell_type": "code",
   "execution_count": null,
   "id": "1a29e421-8227-40b0-8f70-8089605ce935",
   "metadata": {},
   "outputs": [],
   "source": []
  },
  {
   "cell_type": "code",
   "execution_count": null,
   "id": "ad0d6150-6f00-42c3-9e4c-6a505d588cfe",
   "metadata": {},
   "outputs": [],
   "source": [
    "prediction_result.head(20)"
   ]
  },
  {
   "cell_type": "code",
   "execution_count": null,
   "id": "40ff2033-f5d1-4306-9797-9476a8a6b18a",
   "metadata": {},
   "outputs": [],
   "source": [
    "prediction_result.iloc[20:50]"
   ]
  },
  {
   "cell_type": "code",
   "execution_count": null,
   "id": "4c06ea89-048e-4123-953d-27e141c20374",
   "metadata": {},
   "outputs": [],
   "source": [
    "prediction_result.iloc[50:]"
   ]
  },
  {
   "attachments": {},
   "cell_type": "markdown",
   "id": "6d35c3de-3dba-432a-a736-818fef555bb1",
   "metadata": {},
   "source": [
    "## Try two different combinations of ensembling models"
   ]
  },
  {
   "cell_type": "code",
   "execution_count": 525,
   "id": "8da55f37-d475-4c43-9bda-508cdb593336",
   "metadata": {},
   "outputs": [],
   "source": [
    "classifiers_1 = {\n",
    "    \"rf\": rf_tuned,\n",
    "    \"lr_rf_ovr\": lr_rf_ovr,\n",
    "    \"lr_rf_l1\": lr_rf_l1\n",
    "}\n",
    "classifiers_2 = {\n",
    "    \"rf\": rf_tuned,\n",
    "    \"lr_rf\": pipe_lr_rf,\n",
    "    \"lr_rf_l1\": lr_rf_l1\n",
    "}\n",
    "\n",
    "classifiers_3 = {\n",
    "    \"lgbm\": pipe_lgbm_ovr,\n",
    "    \"xgboost\": pipe_xgb,\n",
    "    \"rf\": rf_tuned,\n",
    "    \"lr_rf_l1\": lr_rf_l1,\n",
    "    \"lr_rf_ovr\": lr_rf_ovr,\n",
    "    \"lasso_rf\": lasso_rf_ovr,\n",
    "    \"ridge_rf\": ridge_rf_ovr\n",
    "}"
   ]
  },
  {
   "attachments": {},
   "cell_type": "markdown",
   "id": "9811ba64-9d56-4044-838d-922213341778",
   "metadata": {},
   "source": [
    "### 1: RF + RF (OVR, L1) + RF(L1)"
   ]
  },
  {
   "cell_type": "code",
   "execution_count": null,
   "id": "1f8570cc-4019-47a5-8951-ef262426223b",
   "metadata": {},
   "outputs": [],
   "source": [
    "# classifiers = {\n",
    "#     \"lr\": pipe_lr,\n",
    "#     \"lr_multi\": pipe_lr_multi,\n",
    "#     \"rf\": rf_tuned,\n",
    "#     \"lr_rf\": pipe_lr_rf,\n",
    "#     \"rf_ovr\": rf_ovr,\n",
    "#     \"lr_rf_ovr\": lr_rf_ovr,\n",
    "#     \"lr_rf_l1\": lr_rf_l1,\n",
    "# }"
   ]
  },
  {
   "cell_type": "code",
   "execution_count": 95,
   "id": "9578c4ac-3c3c-476c-a541-eaf4968fe48f",
   "metadata": {},
   "outputs": [],
   "source": [
    "averaging_model = VotingClassifier(\n",
    "    list(classifiers_1.items()), voting=\"soft\"\n",
    ")\n",
    "averaging_model.fit(X_train, y_train);"
   ]
  },
  {
   "cell_type": "code",
   "execution_count": 96,
   "id": "0ec516d3-fbda-4c87-b9c9-928a8be76d22",
   "metadata": {},
   "outputs": [
    {
     "data": {
      "text/plain": [
       "0.7425742574257426"
      ]
     },
     "execution_count": 96,
     "metadata": {},
     "output_type": "execute_result"
    }
   ],
   "source": [
    "averaging_model.score(X_train, y_train)"
   ]
  },
  {
   "cell_type": "code",
   "execution_count": 97,
   "id": "bc3e970f-a001-4695-bbd4-f3bf86921574",
   "metadata": {},
   "outputs": [
    {
     "data": {
      "text/plain": [
       "0.5949367088607594"
      ]
     },
     "execution_count": 97,
     "metadata": {},
     "output_type": "execute_result"
    }
   ],
   "source": [
    "averaging_model.score(X_test, y_test)"
   ]
  },
  {
   "cell_type": "code",
   "execution_count": 98,
   "id": "309e8b0c-bf8f-4197-a1ec-3a602529ae88",
   "metadata": {},
   "outputs": [],
   "source": [
    "averaging_model_hard = VotingClassifier(\n",
    "    list(classifiers_1.items()), voting=\"hard\"\n",
    ")\n",
    "averaging_model_hard.fit(X_train, y_train);"
   ]
  },
  {
   "cell_type": "code",
   "execution_count": 99,
   "id": "212c1610-282a-4092-bcfe-78f5ab10268e",
   "metadata": {},
   "outputs": [
    {
     "data": {
      "text/plain": [
       "0.7256011315417256"
      ]
     },
     "execution_count": 99,
     "metadata": {},
     "output_type": "execute_result"
    }
   ],
   "source": [
    "averaging_model_hard.score(X_train, y_train)"
   ]
  },
  {
   "cell_type": "code",
   "execution_count": 100,
   "id": "61dd1de4-1096-406e-a1d9-9ae76c78547e",
   "metadata": {},
   "outputs": [
    {
     "data": {
      "text/plain": [
       "0.5822784810126582"
      ]
     },
     "execution_count": 100,
     "metadata": {},
     "output_type": "execute_result"
    }
   ],
   "source": [
    "averaging_model_hard.score(X_test, y_test)"
   ]
  },
  {
   "cell_type": "code",
   "execution_count": 101,
   "id": "fcf88954-d07a-4bbb-8d6b-22b5952fb347",
   "metadata": {},
   "outputs": [],
   "source": [
    "stacking_model = StackingClassifier(list(classifiers_1.items()))\n",
    "stacking_model.fit(X_train, y_train);"
   ]
  },
  {
   "cell_type": "code",
   "execution_count": 102,
   "id": "ac20dd72-10d0-40a7-979a-5c39a2957a87",
   "metadata": {},
   "outputs": [
    {
     "data": {
      "text/plain": [
       "0.7666195190947667"
      ]
     },
     "execution_count": 102,
     "metadata": {},
     "output_type": "execute_result"
    }
   ],
   "source": [
    "stacking_model.score(X_train, y_train)"
   ]
  },
  {
   "cell_type": "code",
   "execution_count": 103,
   "id": "b3182f5f-906e-4d5a-8735-3f04461fb111",
   "metadata": {},
   "outputs": [
    {
     "data": {
      "text/plain": [
       "0.5949367088607594"
      ]
     },
     "execution_count": 103,
     "metadata": {},
     "output_type": "execute_result"
    }
   ],
   "source": [
    "stacking_model.score(X_test, y_test)"
   ]
  },
  {
   "cell_type": "code",
   "execution_count": 104,
   "id": "ff342e98-1fed-4b80-9ebb-0a1ad5e41832",
   "metadata": {},
   "outputs": [],
   "source": [
    "stack_rf = StackingClassifier(list(classifiers_1.items()), RandomForestClassifier(n_jobs=-1, random_state=42))\n",
    "stack_rf.fit(X_train, y_train);"
   ]
  },
  {
   "cell_type": "code",
   "execution_count": 105,
   "id": "b4af35b1-80d5-4c22-a557-b079c15cede8",
   "metadata": {},
   "outputs": [
    {
     "data": {
      "text/plain": [
       "0.7128712871287128"
      ]
     },
     "execution_count": 105,
     "metadata": {},
     "output_type": "execute_result"
    }
   ],
   "source": [
    "stack_rf.score(X_train, y_train)"
   ]
  },
  {
   "cell_type": "code",
   "execution_count": 106,
   "id": "e5ad0e56-2879-4c52-804f-87e67f52ea0e",
   "metadata": {},
   "outputs": [
    {
     "data": {
      "text/plain": [
       "0.6329113924050633"
      ]
     },
     "execution_count": 106,
     "metadata": {},
     "output_type": "execute_result"
    }
   ],
   "source": [
    "stack_rf.score(X_test, y_test)"
   ]
  },
  {
   "attachments": {},
   "cell_type": "markdown",
   "id": "44628949-2703-4612-b081-884fbb332372",
   "metadata": {},
   "source": [
    "### 2: RF + RF (L2) + RF(L1)"
   ]
  },
  {
   "cell_type": "code",
   "execution_count": 107,
   "id": "18b58c1a-abd0-4c47-ada8-40ebf84afdb4",
   "metadata": {},
   "outputs": [],
   "source": [
    "averaging_model_2 = VotingClassifier(\n",
    "    list(classifiers_2.items()), voting=\"soft\"\n",
    ")\n",
    "averaging_model_2.fit(X_train, y_train);"
   ]
  },
  {
   "cell_type": "code",
   "execution_count": 108,
   "id": "434d62c2-15ce-427f-a964-a379e13ff64a",
   "metadata": {},
   "outputs": [
    {
     "data": {
      "text/plain": [
       "0.7114568599717115"
      ]
     },
     "execution_count": 108,
     "metadata": {},
     "output_type": "execute_result"
    }
   ],
   "source": [
    "averaging_model_2.score(X_train, y_train)"
   ]
  },
  {
   "cell_type": "code",
   "execution_count": 109,
   "id": "f1d8e375-769d-471d-9dbf-e9c342f633cf",
   "metadata": {},
   "outputs": [
    {
     "data": {
      "text/plain": [
       "0.5949367088607594"
      ]
     },
     "execution_count": 109,
     "metadata": {},
     "output_type": "execute_result"
    }
   ],
   "source": [
    "averaging_model_2.score(X_test, y_test)"
   ]
  },
  {
   "cell_type": "code",
   "execution_count": 110,
   "id": "31019656-fa23-47f7-bf3a-f5eb2e2a1781",
   "metadata": {},
   "outputs": [],
   "source": [
    "averaging_model_hard_2 = VotingClassifier(\n",
    "    list(classifiers_2.items()), voting=\"hard\"\n",
    ")\n",
    "averaging_model_hard_2.fit(X_train, y_train);"
   ]
  },
  {
   "cell_type": "code",
   "execution_count": 111,
   "id": "43f002ca-7c5c-4d63-95fd-5ca8d04a9842",
   "metadata": {},
   "outputs": [
    {
     "data": {
      "text/plain": [
       "0.7157001414427157"
      ]
     },
     "execution_count": 111,
     "metadata": {},
     "output_type": "execute_result"
    }
   ],
   "source": [
    "averaging_model_hard_2.score(X_train, y_train)"
   ]
  },
  {
   "cell_type": "code",
   "execution_count": 112,
   "id": "d00cd601-533f-4fd6-a529-6bc5b3638983",
   "metadata": {},
   "outputs": [
    {
     "data": {
      "text/plain": [
       "0.569620253164557"
      ]
     },
     "execution_count": 112,
     "metadata": {},
     "output_type": "execute_result"
    }
   ],
   "source": [
    "averaging_model_hard_2.score(X_test, y_test)"
   ]
  },
  {
   "cell_type": "code",
   "execution_count": 529,
   "id": "ef55dee2-ea21-46de-bfdf-7c8f77828aa0",
   "metadata": {},
   "outputs": [],
   "source": [
    "stacking_model_2 = StackingClassifier(list(classifiers_2.items()))\n",
    "stacking_model_2.fit(X_train, y_train);"
   ]
  },
  {
   "cell_type": "code",
   "execution_count": null,
   "id": "d2c05162-1e43-417e-ae27-aca21b22e804",
   "metadata": {},
   "outputs": [
    {
     "data": {
      "text/plain": [
       "0.7666195190947667"
      ]
     },
     "execution_count": 114,
     "metadata": {},
     "output_type": "execute_result"
    }
   ],
   "source": [
    "stacking_model_2.score(X_train, y_train)"
   ]
  },
  {
   "cell_type": "code",
   "execution_count": null,
   "id": "c278dc9b-241a-4557-b542-e1ec1d9ed675",
   "metadata": {},
   "outputs": [
    {
     "data": {
      "text/plain": [
       "0.5949367088607594"
      ]
     },
     "execution_count": 115,
     "metadata": {},
     "output_type": "execute_result"
    }
   ],
   "source": [
    "stacking_model_2.score(X_test, y_test)"
   ]
  },
  {
   "cell_type": "code",
   "execution_count": null,
   "id": "3de18511-1c4d-4ca6-b2d8-63fee7eec54e",
   "metadata": {},
   "outputs": [],
   "source": [
    "stack_rf_2 = StackingClassifier(list(classifiers_2.items()), RandomForestClassifier(n_jobs=-1, random_state=42))\n",
    "stack_rf_2.fit(X_train, y_train);"
   ]
  },
  {
   "cell_type": "code",
   "execution_count": null,
   "id": "e63901b7-2cc2-4b22-be3e-c282fcede7da",
   "metadata": {},
   "outputs": [
    {
     "data": {
      "text/plain": [
       "0.7128712871287128"
      ]
     },
     "execution_count": 117,
     "metadata": {},
     "output_type": "execute_result"
    }
   ],
   "source": [
    "stack_rf_2.score(X_train, y_train)"
   ]
  },
  {
   "cell_type": "code",
   "execution_count": null,
   "id": "724d8027-5e52-49c5-9b8a-db4fd7b6d144",
   "metadata": {},
   "outputs": [
    {
     "data": {
      "text/plain": [
       "0.6329113924050633"
      ]
     },
     "execution_count": 118,
     "metadata": {},
     "output_type": "execute_result"
    }
   ],
   "source": [
    "stack_rf_2.score(X_test, y_test)"
   ]
  },
  {
   "attachments": {},
   "cell_type": "markdown",
   "id": "52e515cf",
   "metadata": {},
   "source": [
    "### 3: RF + RF (L2) + RF(L1)"
   ]
  },
  {
   "cell_type": "code",
   "execution_count": 526,
   "id": "15e23686",
   "metadata": {},
   "outputs": [],
   "source": [
    "averaging_model_3 = VotingClassifier(\n",
    "    list(classifiers_3.items()), voting=\"soft\"\n",
    ")\n",
    "averaging_model_3.fit(X_train, y_train);"
   ]
  },
  {
   "cell_type": "code",
   "execution_count": 527,
   "id": "0c2ab80f",
   "metadata": {},
   "outputs": [
    {
     "data": {
      "text/plain": [
       "0.9957567185289957"
      ]
     },
     "execution_count": 527,
     "metadata": {},
     "output_type": "execute_result"
    }
   ],
   "source": [
    "averaging_model_3.score(X_train, y_train)"
   ]
  },
  {
   "cell_type": "code",
   "execution_count": 528,
   "id": "1d7eecbb",
   "metadata": {},
   "outputs": [
    {
     "data": {
      "text/plain": [
       "0.5949367088607594"
      ]
     },
     "execution_count": 528,
     "metadata": {},
     "output_type": "execute_result"
    }
   ],
   "source": [
    "averaging_model_3.score(X_test, y_test)"
   ]
  },
  {
   "cell_type": "code",
   "execution_count": null,
   "id": "41edb68e",
   "metadata": {},
   "outputs": [],
   "source": [
    "averaging_model_hard_3 = VotingClassifier(\n",
    "    list(classifiers_3.items()), voting=\"hard\"\n",
    ")\n",
    "averaging_model_hard_3.fit(X_train, y_train);"
   ]
  },
  {
   "cell_type": "code",
   "execution_count": null,
   "id": "2c6c69d7",
   "metadata": {},
   "outputs": [
    {
     "data": {
      "text/plain": [
       "0.7157001414427157"
      ]
     },
     "metadata": {},
     "output_type": "display_data"
    }
   ],
   "source": [
    "averaging_model_hard_3.score(X_train, y_train)"
   ]
  },
  {
   "cell_type": "code",
   "execution_count": null,
   "id": "d85f79af",
   "metadata": {},
   "outputs": [
    {
     "data": {
      "text/plain": [
       "0.569620253164557"
      ]
     },
     "metadata": {},
     "output_type": "display_data"
    }
   ],
   "source": [
    "averaging_model_hard_3.score(X_test, y_test)"
   ]
  },
  {
   "cell_type": "code",
   "execution_count": null,
   "id": "a8bc9e7d",
   "metadata": {},
   "outputs": [],
   "source": [
    "stacking_model_3 = StackingClassifier(list(classifiers_3.items()))\n",
    "stacking_model_3.fit(X_train, y_train);"
   ]
  },
  {
   "cell_type": "code",
   "execution_count": null,
   "id": "7974c657",
   "metadata": {},
   "outputs": [
    {
     "data": {
      "text/plain": [
       "0.7666195190947667"
      ]
     },
     "metadata": {},
     "output_type": "display_data"
    }
   ],
   "source": [
    "stacking_model_3.score(X_train, y_train)"
   ]
  },
  {
   "cell_type": "code",
   "execution_count": null,
   "id": "fa57c743",
   "metadata": {},
   "outputs": [
    {
     "data": {
      "text/plain": [
       "0.5949367088607594"
      ]
     },
     "metadata": {},
     "output_type": "display_data"
    }
   ],
   "source": [
    "stacking_model_3.score(X_test, y_test)"
   ]
  },
  {
   "cell_type": "code",
   "execution_count": null,
   "id": "d9bd809a",
   "metadata": {},
   "outputs": [],
   "source": [
    "stack_rf_3 = StackingClassifier(list(classifiers_3.items()), RandomForestClassifier(n_jobs=-1, random_state=42))\n",
    "stack_rf_3.fit(X_train, y_train);"
   ]
  },
  {
   "cell_type": "code",
   "execution_count": null,
   "id": "2879a857",
   "metadata": {},
   "outputs": [
    {
     "data": {
      "text/plain": [
       "0.7128712871287128"
      ]
     },
     "metadata": {},
     "output_type": "display_data"
    }
   ],
   "source": [
    "stack_rf_3.score(X_train, y_train)"
   ]
  },
  {
   "cell_type": "code",
   "execution_count": null,
   "id": "a34919f1",
   "metadata": {},
   "outputs": [
    {
     "data": {
      "text/plain": [
       "0.6329113924050633"
      ]
     },
     "metadata": {},
     "output_type": "display_data"
    }
   ],
   "source": [
    "stack_rf_3.score(X_test, y_test)"
   ]
  },
  {
   "cell_type": "code",
   "execution_count": null,
   "id": "16a19477",
   "metadata": {},
   "outputs": [],
   "source": []
  }
 ],
 "metadata": {
  "kernelspec": {
   "display_name": "575",
   "language": "python",
   "name": "python3"
  },
  "language_info": {
   "codemirror_mode": {
    "name": "ipython",
    "version": 3
   },
   "file_extension": ".py",
   "mimetype": "text/x-python",
   "name": "python",
   "nbconvert_exporter": "python",
   "pygments_lexer": "ipython3",
   "version": "3.10.10"
  }
 },
 "nbformat": 4,
 "nbformat_minor": 5
}
