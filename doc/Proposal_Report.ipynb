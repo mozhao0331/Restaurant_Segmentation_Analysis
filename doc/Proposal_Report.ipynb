{
 "cells": [
  {
   "cell_type": "markdown",
   "id": "24f4ae03-6064-478c-8eb0-9e20959d5071",
   "metadata": {},
   "source": [
    "# <span style='text-align: center'>Project Proposal</span>"
   ]
  },
  {
   "cell_type": "markdown",
   "id": "f4d5f1e4-5b75-4b74-a523-78e14b3dad92",
   "metadata": {},
   "source": [
    "<hr>"
   ]
  },
  {
   "cell_type": "markdown",
   "id": "fc1b5416-d599-4c4b-b105-1826939aff1c",
   "metadata": {
    "tags": []
   },
   "source": [
    "## Executive Summary"
   ]
  },
  {
   "cell_type": "markdown",
   "id": "6e19aca9-4525-4162-962f-d199a806763a",
   "metadata": {},
   "source": [
    "The Restaurant Segmentation Analysis project is a collaboration between Sitewise Analytics and MDS students Chen Lin, Eric Tsai, Morris Zhao, and Xinru Lu. This project aims to use machine learning methods to determine factors that drive traffic to a particular location and  identify clusters of similar store locations. In the following proposal, we will first highlight the problem and fundamental goals of the project, then discuss the data science techniques that we will employ to tackle the problem, and conclude with a rough timeline of the project.\n",
    "\n",
    "<hr>"
   ]
  },
  {
   "cell_type": "markdown",
   "id": "e4678fa6-c39d-447f-9a48-9dea3d0a7fe2",
   "metadata": {},
   "source": [
    "## Introduction"
   ]
  },
  {
   "cell_type": "markdown",
   "id": "198d1315-1f88-47d5-a184-088440a174ea",
   "metadata": {
    "tags": []
   },
   "source": [
    "Restaurants seeking to open new stores in a region need to know whether this new store will be successful, given that the investment of opening a new location is costly. Thus, restaurant franchise owners need to know the factors that drive traffic to a location, such as the surrounding population demographic and consumer behaviour in the region. By having a strong grasp of these factors, owners can plan future expansions and market the new location strategically based on the demographic of the region. The Restaurant Segmentation Analysis project will address this problem by using data from Smoothie King locations in the United States and Subway locations in Canada and the United States to build machine learning data pipelines for Sitewise Analytics to incorporate into their consulting service. At the end of the project, we expect to have human-interpretable machine-learning models that cluster similar store locations, which will be helpful for Sitewise Analytics clients to identify factors that lead to more customers in those similar locations. \n",
    "\n",
    "More specifically, we will be building three separate machine learning pipelines:\n",
    "1. A supervised machine learning pipeline using data from Smoothie King locations to predict a store’s category from one of five categories:\n",
    "    - Home\n",
    "    - Shopping\n",
    "    - Work\n",
    "    - Travel\n",
    "    - Other\n",
    "\n",
    "    The prediction will be human-interpretable in that users can identify features that determine the prediction of a store location’s category.\n",
    "\n",
    "2. An unsupervised machine learning pipeline based on data of US Subway locations that clusters locations by similar features.\n",
    "\n",
    "3. An unsupervised machine learning pipeline based on data of Canadian Subway locations that clusters locations by similar features.\n",
    "\n",
    "    The two unsupervised machine learning pipelines will also have human-interpretable results, including ways to identify similar features that caused different locations to be clustered together.\n",
    "\n",
    "The final product presented to Sitewise Analytics will be a GitHub repository containing the code for the machine learning data pipelines. Moreover, documentation of the scripts that can be run to reproduce the results will be included.\n",
    "\n",
    "<hr>"
   ]
  },
  {
   "cell_type": "markdown",
   "id": "e26837cc-e4dc-4641-9dae-f6a94d2565cc",
   "metadata": {},
   "source": [
    "## Data Summary"
   ]
  },
  {
   "cell_type": "markdown",
   "id": "8c4f3cc0-7adb-42c8-aa01-9ff2e489d823",
   "metadata": {},
   "source": [
    "We received three datasets for three popular chain restaurants: Smoothie King, Subway Canada, and Subway USA. Each dataset consists of three CSV files of demographic, point of interest, and store-specific data respectively, where each row represents a single store location and the columns represent the variables/features of that store.\n",
    "\n",
    "To enhance the understanding of the behavior of the data, we select some significant features and create visualizations to depict their distribution across categories. \n",
    "\n",
    "<hr>"
   ]
  },
  {
   "cell_type": "markdown",
   "id": "f87f57bf-ebab-4e68-9c80-247ec6b82139",
   "metadata": {},
   "source": [
    "## Data Science Techniques"
   ]
  },
  {
   "cell_type": "markdown",
   "id": "378ec802-b9f5-4295-a09a-a2a5a469fb49",
   "metadata": {},
   "source": [
    "<center><img src='../img/smoothie_category_bar_plot.png' width='600px' style='padding-top:60px'></center>\n",
    "<span style='padding-left:50px'><center><b>Figure 1</b></center></span>\n",
    "\n",
    "<center><img src='../img/smoothie_store_density_bar_plot.png' width='600px' style='padding-top:60px'></center>\n",
    "<span style='padding-left:50px'><center><b>Figure 2</b>: <br>Light Urban, Urban, and Super Urban have very low counts with below 10 stores.</center></span>\n",
    "\n",
    "<center><img src='../img/smoothie_market_size_bar_plot.png' width='600px' style='padding-top:60px'></center>\n",
    "<span style='padding-left:50px'><center><b>Figure 3</b>: <br> The category with the highest number of stores is Very Large Metro.</center></span>\n",
    "\n",
    "<center><img src='../img/subway_canada_store_density_bar_plot.png' width='600px' style='padding-top:60px'></center>\n",
    "<span style='padding-left:50px'><center><b>Figure 4</b>: <br> Rural has the highest count.</center></span>\n",
    "\n",
    "<center><img src='../img/subway_canada_market_size_bar_plot.png' width='600px' style='padding-top:60px'></center>\n",
    "<span style='padding-left:50px'><center><b>Figure 5</b>: <br> Very Large Metro has the highest count with 5190 stores, and other categories have similar counts.</center></span>\n",
    "\n",
    "<center><img src='../img/subway_us_store_density_bar_plot.png' width='600px' style='padding-top:60px'></center>\n",
    "<span style='padding-left:50px'><center><b>Figure 6</b>: <br> The most common market size is Very Large Metro with 577 stores.</center></span>\n",
    "\n",
    "<center><img src='../img/subway_us_market_size_bar_plot.png' width='600px' style='padding-top:60px'></center>\n",
    "<span style='padding-left:50px; padding-bottom: 80px'><center><b>Figure 7</b>: <br> Very Large Metro has the highest count with 577 stores, and the other categories have similar counts.</center></span>"
   ]
  },
  {
   "cell_type": "markdown",
   "id": "e264f339-ea05-41e8-9b7d-ca11f58cf274",
   "metadata": {},
   "source": [
    "Based on the data described above with the important insights highlighted from some important features, along with the problems to be resolved for each restaurant chain which were mentioned in the Introduction section, the initial approaches and the corresponding evaluation metrics to be used are as followings:\n",
    "\n",
    "1. \n",
    "\n",
    "For Smoothie King, as there are over 1100 features combined for surrounding population demographic, consumer behaviour, and store location information for 796 stores in the US, the initial proposed model to be used is an LGBMClassifier to classify the stores to the desired category which includes “Home“, “Shopping“, “Work“, “Travel“ and “Other“. \n",
    "\n",
    "Since LGBMClassifier is capable of handling large datasets and performs well on high-dimensional data, LGBMClassifier would be a good fit for the Smoothie King dataset. An improvement to be implemented, due to the high-dimension dataset, is to use Principal Component Analysis (PCA) to reduce the dimension and then train the LGBMClassifier. Normally, LGBMClassifier also has a shorter training time and less memory usage with relatively high accuracy. \n",
    "\n",
    "The result will be evaluated through the model accuracy score. The accuracy would indicate how many stores are classified correctly into the designated category where higher accuracy suggests better model performance. The result can be interpreted through SHAP (SHapley Additive exPlanations) plots which should be able to tell the story of which features drive the decision of a particular category assignment for a certain store.\n",
    "\n",
    "2. \n",
    "\n",
    "For Subway USA, the corresponding dataset has 890 features combined with similar information as mentioned above for Smoothie King, for approximately 14,000 stores across the US. The main goal is to cluster the stores into different clusters where stores share similar features within the same cluster. The initial proposed approach is to perform a Hierarchical clustering to achieve this along with performing PCA in advance for dimensionality reduction. \n",
    "\n",
    "Since both Smoothie King and Subway US are both in the US and share similar features in the dataset, they could share similar segmentations to a certain extent. To perform PCA, the most driven features from the supervised model for Smoothie King can be used as a reference to evaluate this PCA step where more matched important features could indicate a more proper PCA. \n",
    "\n",
    "During the clustering, the linkage criteria should be tested to evaluate how to find similarities between clusters. Finally, since ground truth labels are not known, evaluation can be done through the Silhouette Coefficient where a higher Silhouette Coefficient score suggests that a model defines better clusters. \n",
    "\n",
    "Additionally, to validate the clustered stores, a potential approach is to randomly select a certain portion of stores in the same cluster and open them on Google Maps to check if they actually belong to the same category.\n",
    "\n",
    "3. \n",
    "\n",
    "For Subway Canada, the corresponding dataset has relatively fewer features (53 features combined with similar information as mentioned above for Smoothie King, for approximately 1800 stores in Canada) in comparison to the other 2 restaurant chains. The implementation of PCA is optional. We will take a similar approach to Subway US and evaluate the result. \n",
    "\n",
    "If the performance is not ideal, consider removing the PCA step and running clustering to evaluate the result again with the Silhouette Coefficient score and check Google Maps.\n",
    "\n",
    "<hr>"
   ]
  },
  {
   "cell_type": "markdown",
   "id": "d48a540b-3987-4cc5-ae93-b08eef2e86ec",
   "metadata": {},
   "source": [
    "## Timeline\n",
    "\n",
    "| <b>Weekly Schedule</b>            |                                        | **Objective**                                                                                                                                                  |\n",
    "|--------------------------|----------------------------------------|----------------------------------------------------------------------------------------------------------------------------------------------------------------|\n",
    "| **Week 1 <br>(5/1 - 5/7)**   | EDA & Proposal                         | Understand the problem, perform initial EDA on the dataset, and propose potential models and approaches to each objective.                                     |\n",
    "| **Week 2 <br>(5/8 - 5/14)**  | Feature Selection                      | Explore a variety of methods to determine the most important features for each of the three datasets.                                                          |\n",
    "| **Week 3 <br>(5/15 - 5/21)** | Supervised Model                       | Train and test a supervised classification model on the labeled dataset, as well as a list of the most important features as major indicators.                 |\n",
    "| **Week 4 <br>(5/22 - 5/28)** | Unsupervised Model (part I)            | Train an unsupervised clustering model on one of the unlabeled datasets and apply several potential evaluation metrics.                                        |\n",
    "| **Week 5 <br>(5/29 - 6/4)**  | Unsupervised Model (part II)           | Train an unsupervised clustering model on the other unlabeled datasets and apply several potential evaluation metrics.                                         |\n",
    "| **Week 6 <br>(6/5 - 6/11)**  | Models Tuning & Parameter Optimization | Perform parameter tuning and optimization on the three models.                                                                                                 |\n",
    "| **Week 7 <br>(6/12 - 6/18)** | Final Presentation                     | Present the final models as well as the list of important indicators from the list of features. Address potential directions and approaches for further study. |\n",
    "| **Week 8 <br>(6/19 - 6/28)** | Final Product & Reflection             | Draft submission for the final product and report and iterate on feedback before final submission.                                                             |\n"
   ]
  }
 ],
 "metadata": {
  "kernelspec": {
   "display_name": "Python 3 (ipykernel)",
   "language": "python",
   "name": "python3"
  },
  "language_info": {
   "codemirror_mode": {
    "name": "ipython",
    "version": 3
   },
   "file_extension": ".py",
   "mimetype": "text/x-python",
   "name": "python",
   "nbconvert_exporter": "python",
   "pygments_lexer": "ipython3",
   "version": "3.10.9"
  }
 },
 "nbformat": 4,
 "nbformat_minor": 5
}
