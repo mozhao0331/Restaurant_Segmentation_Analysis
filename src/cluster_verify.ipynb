{
 "cells": [
  {
   "cell_type": "code",
   "execution_count": 1,
   "metadata": {},
   "outputs": [],
   "source": [
    "import sys\n",
    "import os\n",
    "cwd = os.getcwd()\n",
    "sys.path.append(cwd)\n",
    "from cluster_verify import *"
   ]
  },
  {
   "cell_type": "code",
   "execution_count": 2,
   "metadata": {},
   "outputs": [],
   "source": [
    "coords = {\n",
    "    0: [[-70.18506, 43.77183],  [-79.390732, 43.708531],  [-79.403146, 43.73019]], \n",
    "    1: [[-90.18506, 43.77183],  [-79.390732, 43.708531],  [-79.403146, 43.73019]],\n",
    "    2: [[-80.18506, 43.77183],  [-79.390732, 43.708531],  [-79.403146, 43.73019]]\n",
    "}"
   ]
  },
  {
   "cell_type": "code",
   "execution_count": 3,
   "metadata": {},
   "outputs": [
    {
     "name": "stdout",
     "output_type": "stream",
     "text": [
      "[[-70.18506, 43.77183], [-79.390732, 43.708531], [-79.403146, 43.73019]]\n",
      "[[-90.18506, 43.77183], [-79.390732, 43.708531], [-79.403146, 43.73019]]\n",
      "[[-80.18506, 43.77183], [-79.390732, 43.708531], [-79.403146, 43.73019]]\n"
     ]
    }
   ],
   "source": [
    "cluster_verify(coords)"
   ]
  },
  {
   "cell_type": "code",
   "execution_count": null,
   "metadata": {},
   "outputs": [],
   "source": []
  }
 ],
 "metadata": {
  "kernelspec": {
   "display_name": "575",
   "language": "python",
   "name": "python3"
  },
  "language_info": {
   "codemirror_mode": {
    "name": "ipython",
    "version": 3
   },
   "file_extension": ".py",
   "mimetype": "text/x-python",
   "name": "python",
   "nbconvert_exporter": "python",
   "pygments_lexer": "ipython3",
   "version": "3.10.10"
  },
  "orig_nbformat": 4
 },
 "nbformat": 4,
 "nbformat_minor": 2
}
